{
 "cells": [
  {
   "cell_type": "markdown",
   "metadata": {},
   "source": [
    "Kickstarter\n",
    "Dataset:\n",
    "Kickstarter is a website that facilitates crowdfunding for products/ideas to come to fruition. This is an export of their data from 2014-2019\n",
    "\n",
    "Intentions:\n",
    "To predict the success of a kickstarter based on its attributes in comparison to similar kickstarters.\n",
    "\n",
    "Future State:\n",
    "There are over 160,000 records. We would like to narrow the set down to either a certain point in time, category, or country origin for more meaningful analysis. \n",
    "We will need to schedule a meeting with you before proceeding to the prediction code because it shows 100% of rows are outliers. Due to the outliers, our visualizations and interpretations are not being properly utilized.   \n",
    "\n",
    "variable description:\n",
    "id - Campaign id\n",
    "name - Name of the Kickstarter Campaign.\n",
    "currency - Currency used\n",
    "main_category - Main category of the project.\n",
    "sub_category - Sub_category of the project\n",
    "launched_at - Launching date of the campaign\n",
    "deadline - Deadline for the campaign. This is the date when the campaign ends.\n",
    "duration - Number of days the campaign was online\n",
    "goal_usd - Goal set by the campaign owner.\n",
    "city - city\n",
    "state - state\n",
    "country - country\n",
    "blurb_length - Word count of the description of campaign.\n",
    "name_length - Word count of the name of campaign.\n",
    "status - Status of the project\n",
    "start_month - Month when the project started\n",
    "end_month - Month when the project ended\n",
    "start_Q - Quarter when the project started\n",
    "end_Q - Quarter when the project ended\n",
    "usd_pledged - Amount collected at the end of campaign in USD."
   ]
  },
  {
   "cell_type": "code",
   "execution_count": 1,
   "metadata": {},
   "outputs": [
    {
     "data": {
      "application/vnd.jupyter.widget-view+json": {
       "model_id": "eb8a49a610914c4c9b4d234a8b243ea7",
       "version_major": 2,
       "version_minor": 0
      },
      "text/plain": [
       "VBox()"
      ]
     },
     "metadata": {},
     "output_type": "display_data"
    },
    {
     "name": "stdout",
     "output_type": "stream",
     "text": [
      "Starting Spark application\n"
     ]
    },
    {
     "data": {
      "text/html": [
       "<table>\n",
       "<tr><th>ID</th><th>YARN Application ID</th><th>Kind</th><th>State</th><th>Spark UI</th><th>Driver log</th><th>Current session?</th></tr><tr><td>4</td><td>application_1588783832882_0005</td><td>pyspark</td><td>idle</td><td><a target=\"_blank\" href=\"http://ip-172-31-83-64.ec2.internal:20888/proxy/application_1588783832882_0005/\">Link</a></td><td><a target=\"_blank\" href=\"http://ip-172-31-83-133.ec2.internal:8042/node/containerlogs/container_1588783832882_0005_01_000001/livy\">Link</a></td><td>✔</td></tr></table>"
      ],
      "text/plain": [
       "<IPython.core.display.HTML object>"
      ]
     },
     "metadata": {},
     "output_type": "display_data"
    },
    {
     "data": {
      "application/vnd.jupyter.widget-view+json": {
       "model_id": "",
       "version_major": 2,
       "version_minor": 0
      },
      "text/plain": [
       "FloatProgress(value=0.0, bar_style='info', description='Progress:', layout=Layout(height='25px', width='50%'),…"
      ]
     },
     "metadata": {},
     "output_type": "display_data"
    },
    {
     "name": "stdout",
     "output_type": "stream",
     "text": [
      "SparkSession available as 'spark'.\n"
     ]
    },
    {
     "data": {
      "application/vnd.jupyter.widget-view+json": {
       "model_id": "",
       "version_major": 2,
       "version_minor": 0
      },
      "text/plain": [
       "FloatProgress(value=0.0, bar_style='info', description='Progress:', layout=Layout(height='25px', width='50%'),…"
      ]
     },
     "metadata": {},
     "output_type": "display_data"
    }
   ],
   "source": [
    "import pyspark\n",
    "import pyspark.sql as sql\n",
    "import pyspark.sql.functions as f\n",
    "import pyspark.ml.feature as feat\n",
    "import numpy as np"
   ]
  },
  {
   "cell_type": "code",
   "execution_count": 2,
   "metadata": {},
   "outputs": [
    {
     "data": {
      "application/vnd.jupyter.widget-view+json": {
       "model_id": "314070f5fb0844febef775d199d7c08d",
       "version_major": 2,
       "version_minor": 0
      },
      "text/plain": [
       "VBox()"
      ]
     },
     "metadata": {},
     "output_type": "display_data"
    },
    {
     "data": {
      "application/vnd.jupyter.widget-view+json": {
       "model_id": "",
       "version_major": 2,
       "version_minor": 0
      },
      "text/plain": [
       "FloatProgress(value=0.0, bar_style='info', description='Progress:', layout=Layout(height='25px', width='50%'),…"
      ]
     },
     "metadata": {},
     "output_type": "display_data"
    }
   ],
   "source": [
    "from pyspark.sql.functions import exp"
   ]
  },
  {
   "cell_type": "code",
   "execution_count": 3,
   "metadata": {},
   "outputs": [
    {
     "data": {
      "application/vnd.jupyter.widget-view+json": {
       "model_id": "c62a7f576eba48d397b8982212ef3681",
       "version_major": 2,
       "version_minor": 0
      },
      "text/plain": [
       "VBox()"
      ]
     },
     "metadata": {},
     "output_type": "display_data"
    },
    {
     "data": {
      "application/vnd.jupyter.widget-view+json": {
       "model_id": "",
       "version_major": 2,
       "version_minor": 0
      },
      "text/plain": [
       "FloatProgress(value=0.0, bar_style='info', description='Progress:', layout=Layout(height='25px', width='50%'),…"
      ]
     },
     "metadata": {},
     "output_type": "display_data"
    }
   ],
   "source": [
    "#import csv, making sure to account for quotes\n",
    "df = spark.read.options(escape='\"').csv(\"s3://projectbucket4567/Kickstarter.csv\", header=True, inferSchema=True)"
   ]
  },
  {
   "cell_type": "code",
   "execution_count": 4,
   "metadata": {},
   "outputs": [
    {
     "data": {
      "application/vnd.jupyter.widget-view+json": {
       "model_id": "524b5efab73d48dab0a1f7a5d3f58ba2",
       "version_major": 2,
       "version_minor": 0
      },
      "text/plain": [
       "VBox()"
      ]
     },
     "metadata": {},
     "output_type": "display_data"
    },
    {
     "data": {
      "application/vnd.jupyter.widget-view+json": {
       "model_id": "",
       "version_major": 2,
       "version_minor": 0
      },
      "text/plain": [
       "FloatProgress(value=0.0, bar_style='info', description='Progress:', layout=Layout(height='25px', width='50%'),…"
      ]
     },
     "metadata": {},
     "output_type": "display_data"
    },
    {
     "name": "stdout",
     "output_type": "stream",
     "text": [
      "(192548, 170730)"
     ]
    }
   ],
   "source": [
    "#checking for duplicate rows\n",
    "df.count(), df.distinct().count() "
   ]
  },
  {
   "cell_type": "code",
   "execution_count": 5,
   "metadata": {},
   "outputs": [
    {
     "data": {
      "application/vnd.jupyter.widget-view+json": {
       "model_id": "f6a21d2cefd14dcab82cc9feb2650528",
       "version_major": 2,
       "version_minor": 0
      },
      "text/plain": [
       "VBox()"
      ]
     },
     "metadata": {},
     "output_type": "display_data"
    },
    {
     "data": {
      "application/vnd.jupyter.widget-view+json": {
       "model_id": "",
       "version_major": 2,
       "version_minor": 0
      },
      "text/plain": [
       "FloatProgress(value=0.0, bar_style='info', description='Progress:', layout=Layout(height='25px', width='50%'),…"
      ]
     },
     "metadata": {},
     "output_type": "display_data"
    },
    {
     "name": "stdout",
     "output_type": "stream",
     "text": [
      "170730"
     ]
    }
   ],
   "source": [
    "# remove the duplicated rows\n",
    "removed_dup = df.dropDuplicates()\n",
    "removed_dup.count()"
   ]
  },
  {
   "cell_type": "code",
   "execution_count": 6,
   "metadata": {},
   "outputs": [
    {
     "data": {
      "application/vnd.jupyter.widget-view+json": {
       "model_id": "96455c6cd5bc4ae3aed3fba21df97ec6",
       "version_major": 2,
       "version_minor": 0
      },
      "text/plain": [
       "VBox()"
      ]
     },
     "metadata": {},
     "output_type": "display_data"
    },
    {
     "data": {
      "application/vnd.jupyter.widget-view+json": {
       "model_id": "",
       "version_major": 2,
       "version_minor": 0
      },
      "text/plain": [
       "FloatProgress(value=0.0, bar_style='info', description='Progress:', layout=Layout(height='25px', width='50%'),…"
      ]
     },
     "metadata": {},
     "output_type": "display_data"
    },
    {
     "name": "stdout",
     "output_type": "stream",
     "text": [
      "(170730, 170730)"
     ]
    }
   ],
   "source": [
    "# recount rows\n",
    "no_ids = (\n",
    "    removed_dup\n",
    "    .select([col for col in removed_dup.columns if col != 'id'])\n",
    ")\n",
    "no_ids.count(), no_ids.distinct().count() "
   ]
  },
  {
   "cell_type": "code",
   "execution_count": 7,
   "metadata": {},
   "outputs": [
    {
     "data": {
      "application/vnd.jupyter.widget-view+json": {
       "model_id": "12c9019211214d69ac8c579db6b6fc5d",
       "version_major": 2,
       "version_minor": 0
      },
      "text/plain": [
       "VBox()"
      ]
     },
     "metadata": {},
     "output_type": "display_data"
    },
    {
     "data": {
      "application/vnd.jupyter.widget-view+json": {
       "model_id": "",
       "version_major": 2,
       "version_minor": 0
      },
      "text/plain": [
       "FloatProgress(value=0.0, bar_style='info', description='Progress:', layout=Layout(height='25px', width='50%'),…"
      ]
     },
     "metadata": {},
     "output_type": "display_data"
    },
    {
     "name": "stdout",
     "output_type": "stream",
     "text": [
      "+----+--------+-------------+------------+-----------+--------+--------+--------+----+-----+-------+------------+-----------+------+-----------+---------+-------+-----+-----------+-----+\n",
      "|name|currency|main_category|sub_category|launched_at|deadline|duration|goal_usd|city|state|country|blurb_length|name_length|status|start_month|end_month|start_Q|end_Q|usd_pledged|count|\n",
      "+----+--------+-------------+------------+-----------+--------+--------+--------+----+-----+-------+------------+-----------+------+-----------+---------+-------+-----+-----------+-----+\n",
      "+----+--------+-------------+------------+-----------+--------+--------+--------+----+-----+-------+------------+-----------+------+-----------+---------+-------+-----+-----------+-----+"
     ]
    }
   ],
   "source": [
    "# show no duplicated rows\n",
    "(\n",
    "    removed_dup\n",
    "    .groupby([col for col in removed_dup.columns if col != 'id'])\n",
    "    .count()\n",
    "    .filter('count > 1')\n",
    "    .show()\n",
    ")"
   ]
  },
  {
   "cell_type": "code",
   "execution_count": 8,
   "metadata": {},
   "outputs": [
    {
     "data": {
      "application/vnd.jupyter.widget-view+json": {
       "model_id": "8eb617e178384b93b2a59a40ff5a954f",
       "version_major": 2,
       "version_minor": 0
      },
      "text/plain": [
       "VBox()"
      ]
     },
     "metadata": {},
     "output_type": "display_data"
    },
    {
     "data": {
      "application/vnd.jupyter.widget-view+json": {
       "model_id": "",
       "version_major": 2,
       "version_minor": 0
      },
      "text/plain": [
       "FloatProgress(value=0.0, bar_style='info', description='Progress:', layout=Layout(height='25px', width='50%'),…"
      ]
     },
     "metadata": {},
     "output_type": "display_data"
    }
   ],
   "source": [
    "# remove the duplicated record\n",
    "id_removed = removed_dup.dropDuplicates(\n",
    "    subset = [col for col in removed_dup.columns if col != 'id']\n",
    ")"
   ]
  },
  {
   "cell_type": "code",
   "execution_count": 9,
   "metadata": {},
   "outputs": [
    {
     "data": {
      "application/vnd.jupyter.widget-view+json": {
       "model_id": "f6993b52706f4cc88a8d225a8fc30b8b",
       "version_major": 2,
       "version_minor": 0
      },
      "text/plain": [
       "VBox()"
      ]
     },
     "metadata": {},
     "output_type": "display_data"
    },
    {
     "data": {
      "application/vnd.jupyter.widget-view+json": {
       "model_id": "",
       "version_major": 2,
       "version_minor": 0
      },
      "text/plain": [
       "FloatProgress(value=0.0, bar_style='info', description='Progress:', layout=Layout(height='25px', width='50%'),…"
      ]
     },
     "metadata": {},
     "output_type": "display_data"
    },
    {
     "name": "stdout",
     "output_type": "stream",
     "text": [
      "+----------+------------------+\n",
      "|CountOfIDs|CountOfDistinctIDs|\n",
      "+----------+------------------+\n",
      "|    170730|            168467|\n",
      "+----------+------------------+"
     ]
    }
   ],
   "source": [
    "# finding duplicate IDs\n",
    "import pyspark.sql.functions as fn\n",
    "id_removed.agg(\n",
    "      fn.count('id').alias('CountOfIDs')\n",
    "    , fn.countDistinct('id').alias('CountOfDistinctIDs')\n",
    ").show()"
   ]
  },
  {
   "cell_type": "code",
   "execution_count": 10,
   "metadata": {},
   "outputs": [
    {
     "data": {
      "application/vnd.jupyter.widget-view+json": {
       "model_id": "4e0e6cb362a6482681f4dd61e80f549c",
       "version_major": 2,
       "version_minor": 0
      },
      "text/plain": [
       "VBox()"
      ]
     },
     "metadata": {},
     "output_type": "display_data"
    },
    {
     "data": {
      "application/vnd.jupyter.widget-view+json": {
       "model_id": "",
       "version_major": 2,
       "version_minor": 0
      },
      "text/plain": [
       "FloatProgress(value=0.0, bar_style='info', description='Progress:', layout=Layout(height='25px', width='50%'),…"
      ]
     },
     "metadata": {},
     "output_type": "display_data"
    },
    {
     "name": "stdout",
     "output_type": "stream",
     "text": [
      "+----------+-----+\n",
      "|        id|count|\n",
      "+----------+-----+\n",
      "|2068614138|    2|\n",
      "| 811419352|    2|\n",
      "| 989429327|    2|\n",
      "|1049199152|    2|\n",
      "| 863241522|    2|\n",
      "|2026991333|    2|\n",
      "|1684628655|    2|\n",
      "| 754497367|    2|\n",
      "|2031856669|    2|\n",
      "|1709456941|    2|\n",
      "|1393067601|    2|\n",
      "|  24048809|    2|\n",
      "| 719346197|    2|\n",
      "| 543530159|    2|\n",
      "|1739755633|    2|\n",
      "| 917858560|    2|\n",
      "| 779569124|    2|\n",
      "|  37154313|    2|\n",
      "| 340337733|    2|\n",
      "|1819475028|    2|\n",
      "+----------+-----+\n",
      "only showing top 20 rows"
     ]
    }
   ],
   "source": [
    "# indentifying duplicate IDs\n",
    "\n",
    "id_dup= (\n",
    "    id_removed\n",
    "    .groupby('id')\n",
    "    .count()\n",
    "    .filter('count > 1')\n",
    "    .show()\n",
    ")"
   ]
  },
  {
   "cell_type": "code",
   "execution_count": 11,
   "metadata": {},
   "outputs": [
    {
     "data": {
      "application/vnd.jupyter.widget-view+json": {
       "model_id": "66a3dabb873d4be0a0c1a6a457489a17",
       "version_major": 2,
       "version_minor": 0
      },
      "text/plain": [
       "VBox()"
      ]
     },
     "metadata": {},
     "output_type": "display_data"
    },
    {
     "data": {
      "application/vnd.jupyter.widget-view+json": {
       "model_id": "",
       "version_major": 2,
       "version_minor": 0
      },
      "text/plain": [
       "FloatProgress(value=0.0, bar_style='info', description='Progress:', layout=Layout(height='25px', width='50%'),…"
      ]
     },
     "metadata": {},
     "output_type": "display_data"
    },
    {
     "name": "stdout",
     "output_type": "stream",
     "text": [
      "+--------+-------------------+--------+-------------+------------+-------------------+-------------------+--------+------------------+-------+-----+-------+------------+-----------+----------+-----------+---------+-------+-----+------------+\n",
      "|      id|               name|currency|main_category|sub_category|        launched_at|           deadline|duration|          goal_usd|   city|state|country|blurb_length|name_length|    status|start_month|end_month|start_Q|end_Q| usd_pledged|\n",
      "+--------+-------------------+--------+-------------+------------+-------------------+-------------------+--------+------------------+-------+-----+-------+------------+-----------+----------+-----------+---------+-------+-----+------------+\n",
      "|63989445|The Golden Railroad|     AUD|       comics| Comic Books|2017-11-20 15:47:13|2017-12-20 15:47:13|    30.0|        142.651216|Bendigo|  VIC|     AU|          23|          3|successful|         11|       12|     Q4|   Q4|207.28101096|\n",
      "|63989445|The Golden Railroad|     AUD|       comics| Comic Books|2017-11-20 15:47:13|2017-12-20 15:47:13|    30.0|142.36293999999995|Bendigo|  VIC|     AU|          23|          3|successful|         11|       12|     Q4|   Q4|207.28101096|\n",
      "+--------+-------------------+--------+-------------+------------+-------------------+-------------------+--------+------------------+-------+-----+-------+------------+-----------+----------+-----------+---------+-------+-----+------------+"
     ]
    }
   ],
   "source": [
    "# displaying a row with duplicate IDs\n",
    "(\n",
    "    id_removed\n",
    "    .filter('id =63989445')\n",
    "    .show()\n",
    ")"
   ]
  },
  {
   "cell_type": "code",
   "execution_count": 12,
   "metadata": {},
   "outputs": [
    {
     "data": {
      "application/vnd.jupyter.widget-view+json": {
       "model_id": "1377811f9d8b40fd83b0383201ef9b50",
       "version_major": 2,
       "version_minor": 0
      },
      "text/plain": [
       "VBox()"
      ]
     },
     "metadata": {},
     "output_type": "display_data"
    },
    {
     "data": {
      "application/vnd.jupyter.widget-view+json": {
       "model_id": "",
       "version_major": 2,
       "version_minor": 0
      },
      "text/plain": [
       "FloatProgress(value=0.0, bar_style='info', description='Progress:', layout=Layout(height='25px', width='50%'),…"
      ]
     },
     "metadata": {},
     "output_type": "display_data"
    },
    {
     "name": "stdout",
     "output_type": "stream",
     "text": [
      "168467"
     ]
    }
   ],
   "source": [
    "#dropping rows with duplicate IDs\n",
    "x=df.dropDuplicates(['id'])\n",
    "x.count()"
   ]
  },
  {
   "cell_type": "code",
   "execution_count": 13,
   "metadata": {},
   "outputs": [
    {
     "data": {
      "application/vnd.jupyter.widget-view+json": {
       "model_id": "4c45bbdbb8114c83a738b94bb55e8b51",
       "version_major": 2,
       "version_minor": 0
      },
      "text/plain": [
       "VBox()"
      ]
     },
     "metadata": {},
     "output_type": "display_data"
    },
    {
     "data": {
      "application/vnd.jupyter.widget-view+json": {
       "model_id": "",
       "version_major": 2,
       "version_minor": 0
      },
      "text/plain": [
       "FloatProgress(value=0.0, bar_style='info', description='Progress:', layout=Layout(height='25px', width='50%'),…"
      ]
     },
     "metadata": {},
     "output_type": "display_data"
    },
    {
     "name": "stdout",
     "output_type": "stream",
     "text": [
      "0"
     ]
    }
   ],
   "source": [
    "#examine if there are any rows with missing values\n",
    "x.rdd.map(\n",
    "           lambda row: (\n",
    "                 row['id']\n",
    "               , sum([c == None for c in row])\n",
    "           )\n",
    "        )\\\n",
    "        .filter(lambda el: el[1] >= 1)\\\n",
    "        .count()"
   ]
  },
  {
   "cell_type": "code",
   "execution_count": 14,
   "metadata": {},
   "outputs": [
    {
     "data": {
      "application/vnd.jupyter.widget-view+json": {
       "model_id": "e1fb9b1351d44001baac53915353afed",
       "version_major": 2,
       "version_minor": 0
      },
      "text/plain": [
       "VBox()"
      ]
     },
     "metadata": {},
     "output_type": "display_data"
    },
    {
     "data": {
      "application/vnd.jupyter.widget-view+json": {
       "model_id": "",
       "version_major": 2,
       "version_minor": 0
      },
      "text/plain": [
       "FloatProgress(value=0.0, bar_style='info', description='Progress:', layout=Layout(height='25px', width='50%'),…"
      ]
     },
     "metadata": {},
     "output_type": "display_data"
    },
    {
     "name": "stdout",
     "output_type": "stream",
     "text": [
      "(168467, 168467)"
     ]
    }
   ],
   "source": [
    "#drop row with missing values\n",
    "merc_out = x.dropna(thresh=10)\n",
    "x.count(), merc_out.count()"
   ]
  },
  {
   "cell_type": "code",
   "execution_count": 15,
   "metadata": {},
   "outputs": [
    {
     "data": {
      "application/vnd.jupyter.widget-view+json": {
       "model_id": "88d621429a874509a5da98e9a949ae9c",
       "version_major": 2,
       "version_minor": 0
      },
      "text/plain": [
       "VBox()"
      ]
     },
     "metadata": {},
     "output_type": "display_data"
    },
    {
     "data": {
      "application/vnd.jupyter.widget-view+json": {
       "model_id": "",
       "version_major": 2,
       "version_minor": 0
      },
      "text/plain": [
       "FloatProgress(value=0.0, bar_style='info', description='Progress:', layout=Layout(height='25px', width='50%'),…"
      ]
     },
     "metadata": {},
     "output_type": "display_data"
    },
    {
     "name": "stdout",
     "output_type": "stream",
     "text": [
      "id_miss 0.0\n",
      "name_miss 0.0\n",
      "currency_miss 0.0\n",
      "main_category_miss 0.0\n",
      "sub_category_miss 0.0\n",
      "launched_at_miss 0.0\n",
      "deadline_miss 0.0\n",
      "duration_miss 0.0\n",
      "goal_usd_miss 0.0\n",
      "city_miss 0.0\n",
      "state_miss 0.0\n",
      "country_miss 0.0\n",
      "blurb_length_miss 0.0\n",
      "name_length_miss 0.0\n",
      "status_miss 0.0\n",
      "start_month_miss 0.0\n",
      "end_month_miss 0.0\n",
      "start_Q_miss 0.0\n",
      "end_Q_miss 0.0\n",
      "usd_pledged_miss 0.0"
     ]
    }
   ],
   "source": [
    "#count percentage of missing values in each column\n",
    "for k, v in sorted(\n",
    "    merc_out.agg(*[\n",
    "               (1 - (fn.count(c) / fn.count('*')))\n",
    "                    .alias(c + '_miss')\n",
    "               for c in merc_out.columns\n",
    "           ])\n",
    "        .collect()[0]\n",
    "        .asDict()\n",
    "        .items()\n",
    "    , key=lambda el: el[1]\n",
    "    , reverse=True\n",
    "):\n",
    "    print(k, v) #no columns had missing values"
   ]
  },
  {
   "cell_type": "code",
   "execution_count": 16,
   "metadata": {},
   "outputs": [
    {
     "data": {
      "application/vnd.jupyter.widget-view+json": {
       "model_id": "1574403994744294864af585a09a95ae",
       "version_major": 2,
       "version_minor": 0
      },
      "text/plain": [
       "VBox()"
      ]
     },
     "metadata": {},
     "output_type": "display_data"
    },
    {
     "data": {
      "application/vnd.jupyter.widget-view+json": {
       "model_id": "",
       "version_major": 2,
       "version_minor": 0
      },
      "text/plain": [
       "FloatProgress(value=0.0, bar_style='info', description='Progress:', layout=Layout(height='25px', width='50%'),…"
      ]
     },
     "metadata": {},
     "output_type": "display_data"
    }
   ],
   "source": [
    "from pyspark.sql.types import IntegerType\n",
    "from pyspark.sql.types import *"
   ]
  },
  {
   "cell_type": "code",
   "execution_count": 17,
   "metadata": {},
   "outputs": [
    {
     "data": {
      "application/vnd.jupyter.widget-view+json": {
       "model_id": "eec30ba006e3464a96861269b8fba90f",
       "version_major": 2,
       "version_minor": 0
      },
      "text/plain": [
       "VBox()"
      ]
     },
     "metadata": {},
     "output_type": "display_data"
    },
    {
     "data": {
      "application/vnd.jupyter.widget-view+json": {
       "model_id": "",
       "version_major": 2,
       "version_minor": 0
      },
      "text/plain": [
       "FloatProgress(value=0.0, bar_style='info', description='Progress:', layout=Layout(height='25px', width='50%'),…"
      ]
     },
     "metadata": {},
     "output_type": "display_data"
    }
   ],
   "source": [
    "#convert strings to int\n",
    "merc_out = merc_out.withColumn(\"duration\", merc_out[\"duration\"].cast(IntegerType()))\n",
    "merc_out = merc_out.withColumn(\"goal_usd\", merc_out[\"goal_usd\"].cast(IntegerType()))\n",
    "merc_out = merc_out.withColumn(\"blurb_length\", merc_out[\"blurb_length\"].cast(IntegerType()))\n",
    "merc_out = merc_out.withColumn(\"start_month\", merc_out[\"start_month\"].cast(IntegerType()))\n",
    "merc_out = merc_out.withColumn(\"name_length\", merc_out[\"name_length\"].cast(IntegerType()))\n",
    "data_df = merc_out.withColumn(\"usd_pledged\", merc_out[\"usd_pledged\"].cast(IntegerType()))"
   ]
  },
  {
   "cell_type": "code",
   "execution_count": 18,
   "metadata": {},
   "outputs": [
    {
     "data": {
      "application/vnd.jupyter.widget-view+json": {
       "model_id": "43a2616c47704ce2bc154e013448b5d1",
       "version_major": 2,
       "version_minor": 0
      },
      "text/plain": [
       "VBox()"
      ]
     },
     "metadata": {},
     "output_type": "display_data"
    },
    {
     "data": {
      "application/vnd.jupyter.widget-view+json": {
       "model_id": "",
       "version_major": 2,
       "version_minor": 0
      },
      "text/plain": [
       "FloatProgress(value=0.0, bar_style='info', description='Progress:', layout=Layout(height='25px', width='50%'),…"
      ]
     },
     "metadata": {},
     "output_type": "display_data"
    },
    {
     "name": "stdout",
     "output_type": "stream",
     "text": [
      "StructType(List(StructField(id,IntegerType,true),StructField(name,StringType,true),StructField(currency,StringType,true),StructField(main_category,StringType,true),StructField(sub_category,StringType,true),StructField(launched_at,TimestampType,true),StructField(deadline,TimestampType,true),StructField(duration,IntegerType,true),StructField(goal_usd,IntegerType,true),StructField(city,StringType,true),StructField(state,StringType,true),StructField(country,StringType,true),StructField(blurb_length,IntegerType,true),StructField(name_length,IntegerType,true),StructField(status,StringType,true),StructField(start_month,IntegerType,true),StructField(end_month,IntegerType,true),StructField(start_Q,StringType,true),StructField(end_Q,StringType,true),StructField(usd_pledged,IntegerType,true)))"
     ]
    }
   ],
   "source": [
    "#checking data type. It says c7, c8, c19 are integers but then we recieved an error below saying they are still strings\n",
    "data_df.schema"
   ]
  },
  {
   "cell_type": "code",
   "execution_count": 19,
   "metadata": {},
   "outputs": [
    {
     "data": {
      "application/vnd.jupyter.widget-view+json": {
       "model_id": "0c8b284f3c3241e7befab99aaa424701",
       "version_major": 2,
       "version_minor": 0
      },
      "text/plain": [
       "VBox()"
      ]
     },
     "metadata": {},
     "output_type": "display_data"
    },
    {
     "data": {
      "application/vnd.jupyter.widget-view+json": {
       "model_id": "",
       "version_major": 2,
       "version_minor": 0
      },
      "text/plain": [
       "FloatProgress(value=0.0, bar_style='info', description='Progress:', layout=Layout(height='25px', width='50%'),…"
      ]
     },
     "metadata": {},
     "output_type": "display_data"
    },
    {
     "name": "stdout",
     "output_type": "stream",
     "text": [
      "+--------+--------------------+--------+-------------+--------------+-------------------+-------------------+--------+--------+---------+-------+-------+------------+-----------+----------+-----------+---------+-------+-----+-----------+------------------+\n",
      "|      id|                name|currency|main_category|  sub_category|        launched_at|           deadline|duration|goal_usd|     city|  state|country|blurb_length|name_length|    status|start_month|end_month|start_Q|end_Q|usd_pledged|  percent_achieved|\n",
      "+--------+--------------------+--------+-------------+--------------+-------------------+-------------------+--------+--------+---------+-------+-------+------------+-----------+----------+-----------+---------+-------+-----+-----------+------------------+\n",
      "| 4173983|Orison the Polar ...|     USD| film & video|     Animation|2015-06-08 12:21:11|2015-07-08 12:21:11|      30|  500000|   Tucson|     AZ|     US|          22|          4|    failed|          6|        7|     Q2|   Q3|          0|               0.0|\n",
      "| 5757943|FIRST Team 1891: ...|     USD|   technology|      Hardware|2014-01-21 21:11:15|2014-02-16 05:08:00|      25|    1500| Meridian|     ID|     US|          21|          9|successful|          1|        2|     Q1|   Q1|       1505|100.33333333333334|\n",
      "|10275572|20 cities | 20 mo...|     EUR|          art|   Digital Art|2015-07-21 15:17:58|2015-08-20 15:17:58|      30|     394|  Utrecht|Utrecht|     NL|          22|          6|successful|          7|        8|     Q3|   Q3|       1331| 337.8172588832487|\n",
      "|10378150|       Indescribable|     USD| film & video|Narrative Film|2011-09-20 19:44:45|2011-10-20 19:44:45|      30|    2500|    Bryan|     TX|     US|          21|          1|successful|          9|       10|     Q3|   Q4|       2745|109.80000000000001|\n",
      "|12974863|Build A Bracelet ...|     USD|      fashion|       Jewelry|2014-08-02 18:55:36|2014-09-01 18:55:36|      30|     200|Annapolis|     MD|     US|          23|          5|    failed|          8|        9|     Q3|   Q3|         65|              32.5|\n",
      "+--------+--------------------+--------+-------------+--------------+-------------------+-------------------+--------+--------+---------+-------+-------+------------+-----------+----------+-----------+---------+-------+-----+-----------+------------------+\n",
      "only showing top 5 rows"
     ]
    }
   ],
   "source": [
    "df_pluscol = data_df.withColumn('percent_achieved', f.col('usd_pledged') / f.col('goal_usd') * 100)\n",
    "df_pluscol.show(5)"
   ]
  },
  {
   "cell_type": "code",
   "execution_count": 20,
   "metadata": {},
   "outputs": [
    {
     "data": {
      "application/vnd.jupyter.widget-view+json": {
       "model_id": "93180f6f15c34d94bdbf004067d942f5",
       "version_major": 2,
       "version_minor": 0
      },
      "text/plain": [
       "VBox()"
      ]
     },
     "metadata": {},
     "output_type": "display_data"
    },
    {
     "data": {
      "application/vnd.jupyter.widget-view+json": {
       "model_id": "",
       "version_major": 2,
       "version_minor": 0
      },
      "text/plain": [
       "FloatProgress(value=0.0, bar_style='info', description='Progress:', layout=Layout(height='25px', width='50%'),…"
      ]
     },
     "metadata": {},
     "output_type": "display_data"
    },
    {
     "name": "stdout",
     "output_type": "stream",
     "text": [
      "percent_achieved [5.0, 140.16]\n",
      "+--------+------------------+\n",
      "|      id|percent_achieved_o|\n",
      "+--------+------------------+\n",
      "| 4173983|             false|\n",
      "| 5757943|             false|\n",
      "|10275572|             false|\n",
      "|10378150|             false|\n",
      "|12974863|             false|\n",
      "|14858372|             false|\n",
      "|14882893|             false|\n",
      "|14921614|             false|\n",
      "|17020245|             false|\n",
      "|17403998|             false|\n",
      "|17539352|             false|\n",
      "|20932444|             false|\n",
      "|23003720|             false|\n",
      "|23048589|             false|\n",
      "|36103377|             false|\n",
      "|41552880|             false|\n",
      "|41961083|             false|\n",
      "|49396714|             false|\n",
      "|49968573|              true|\n",
      "|51884674|             false|\n",
      "+--------+------------------+\n",
      "only showing top 20 rows"
     ]
    }
   ],
   "source": [
    "#trying to find outliers in 'goal' and 'money raised' columns\n",
    "features = ['percent_achieved']\n",
    "quantiles = [0.25, 0.75]\n",
    "\n",
    "cut_off_points = []\n",
    "#getting Q1 and Q3\n",
    "#The third parameter, set to 0.05, is relative target precision to achieve (>= 0).\n",
    "#If set to zero, the exact quantiles are computed, which could be very expensive. \n",
    "\n",
    "for feature in features:\n",
    "    quants = df_pluscol.approxQuantile(feature, quantiles, 0.05)\n",
    "    print(feature, quants)\n",
    "    IQR = quants[1] - quants[0]\n",
    "    cut_off_points.append((feature, [\n",
    "        quants[0] - 1.5 * IQR,\n",
    "        quants[1] + 1.5 * IQR,\n",
    "    ]))\n",
    "\n",
    "cut_off_points = dict(cut_off_points)\n",
    "\n",
    "outliers = df_pluscol.select(*['id'] + [\n",
    "       (\n",
    "           (df_pluscol[f] < cut_off_points[f][0]) |\n",
    "           (df_pluscol[f] > cut_off_points[f][1])\n",
    "       ).alias(f + '_o') for f in features\n",
    "  ])\n",
    "outliers.show()"
   ]
  },
  {
   "cell_type": "code",
   "execution_count": 21,
   "metadata": {},
   "outputs": [
    {
     "data": {
      "application/vnd.jupyter.widget-view+json": {
       "model_id": "5c89e9fd2cfe44e685c60f1445239da1",
       "version_major": 2,
       "version_minor": 0
      },
      "text/plain": [
       "VBox()"
      ]
     },
     "metadata": {},
     "output_type": "display_data"
    },
    {
     "data": {
      "application/vnd.jupyter.widget-view+json": {
       "model_id": "",
       "version_major": 2,
       "version_minor": 0
      },
      "text/plain": [
       "FloatProgress(value=0.0, bar_style='info', description='Progress:', layout=Layout(height='25px', width='50%'),…"
      ]
     },
     "metadata": {},
     "output_type": "display_data"
    },
    {
     "name": "stdout",
     "output_type": "stream",
     "text": [
      "+----------+--------------------+\n",
      "|        id|                name|\n",
      "+----------+--------------------+\n",
      "|  49968573|SOLIDteknics nÃÂ...|\n",
      "| 170672682|The Field Skillet...|\n",
      "| 201276256|The Name of the W...|\n",
      "| 213459054|MORPHEUS delta; F...|\n",
      "| 253228135|JAY - A Daypack T...|\n",
      "| 561606888|Wizarding World F...|\n",
      "| 655896952|Maximum Minimalis...|\n",
      "| 679027471|    Getting On Board|\n",
      "| 743715879|Instant Archetype...|\n",
      "| 744934117|CamBuddy Pro: Wor...|\n",
      "| 814534576|SAY HI TO YOUR MO...|\n",
      "| 838575496|Liquid Ambience /...|\n",
      "| 918228637|GameStick: The Mo...|\n",
      "| 949798359|Overlord Graphic ...|\n",
      "|1093070006|OWL Programmable ...|\n",
      "|1094536582|Custom Colored Vi...|\n",
      "|1250867280|The Sneaker Disgu...|\n",
      "|1280440252|Overdue: The Fina...|\n",
      "|1290903962|PÃÂ³stumo - The ...|\n",
      "|1374953963|Nancy Kilpatrick'...|\n",
      "+----------+--------------------+\n",
      "only showing top 20 rows"
     ]
    }
   ],
   "source": [
    "with_outliers_flag = df_pluscol.join(outliers, on='id')\n",
    "\n",
    "(\n",
    "    with_outliers_flag\n",
    "    .filter('percent_achieved_o')\n",
    "    .select('id', 'name')\n",
    "    .show()\n",
    ")"
   ]
  },
  {
   "cell_type": "code",
   "execution_count": 22,
   "metadata": {},
   "outputs": [
    {
     "data": {
      "application/vnd.jupyter.widget-view+json": {
       "model_id": "4ae0959944114184b459038a0b8ba971",
       "version_major": 2,
       "version_minor": 0
      },
      "text/plain": [
       "VBox()"
      ]
     },
     "metadata": {},
     "output_type": "display_data"
    },
    {
     "data": {
      "application/vnd.jupyter.widget-view+json": {
       "model_id": "",
       "version_major": 2,
       "version_minor": 0
      },
      "text/plain": [
       "FloatProgress(value=0.0, bar_style='info', description='Progress:', layout=Layout(height='25px', width='50%'),…"
      ]
     },
     "metadata": {},
     "output_type": "display_data"
    },
    {
     "name": "stdout",
     "output_type": "stream",
     "text": [
      "9825"
     ]
    }
   ],
   "source": [
    "#Count of outliers\n",
    "outliers_df= with_outliers_flag.filter('percent_achieved_o')\n",
    "outliers_df.count()"
   ]
  },
  {
   "cell_type": "code",
   "execution_count": 23,
   "metadata": {},
   "outputs": [
    {
     "data": {
      "application/vnd.jupyter.widget-view+json": {
       "model_id": "ea0d98edb4b34e23b278e61e3fda4143",
       "version_major": 2,
       "version_minor": 0
      },
      "text/plain": [
       "VBox()"
      ]
     },
     "metadata": {},
     "output_type": "display_data"
    },
    {
     "data": {
      "application/vnd.jupyter.widget-view+json": {
       "model_id": "",
       "version_major": 2,
       "version_minor": 0
      },
      "text/plain": [
       "FloatProgress(value=0.0, bar_style='info', description='Progress:', layout=Layout(height='25px', width='50%'),…"
      ]
     },
     "metadata": {},
     "output_type": "display_data"
    },
    {
     "name": "stdout",
     "output_type": "stream",
     "text": [
      "+--------+--------------------+--------+-------------+--------------+-------------------+-------------------+--------+--------+---------+-------+-------+------------+-----------+----------+-----------+---------+-------+-----+-----------+------------------+\n",
      "|      id|                name|currency|main_category|  sub_category|        launched_at|           deadline|duration|goal_usd|     city|  state|country|blurb_length|name_length|    status|start_month|end_month|start_Q|end_Q|usd_pledged|  percent_achieved|\n",
      "+--------+--------------------+--------+-------------+--------------+-------------------+-------------------+--------+--------+---------+-------+-------+------------+-----------+----------+-----------+---------+-------+-----+-----------+------------------+\n",
      "| 4173983|Orison the Polar ...|     USD| film & video|     Animation|2015-06-08 12:21:11|2015-07-08 12:21:11|      30|  500000|   Tucson|     AZ|     US|          22|          4|    failed|          6|        7|     Q2|   Q3|          0|               0.0|\n",
      "| 5757943|FIRST Team 1891: ...|     USD|   technology|      Hardware|2014-01-21 21:11:15|2014-02-16 05:08:00|      25|    1500| Meridian|     ID|     US|          21|          9|successful|          1|        2|     Q1|   Q1|       1505|100.33333333333334|\n",
      "|10275572|20 cities | 20 mo...|     EUR|          art|   Digital Art|2015-07-21 15:17:58|2015-08-20 15:17:58|      30|     394|  Utrecht|Utrecht|     NL|          22|          6|successful|          7|        8|     Q3|   Q3|       1331| 337.8172588832487|\n",
      "|10378150|       Indescribable|     USD| film & video|Narrative Film|2011-09-20 19:44:45|2011-10-20 19:44:45|      30|    2500|    Bryan|     TX|     US|          21|          1|successful|          9|       10|     Q3|   Q4|       2745|109.80000000000001|\n",
      "|12974863|Build A Bracelet ...|     USD|      fashion|       Jewelry|2014-08-02 18:55:36|2014-09-01 18:55:36|      30|     200|Annapolis|     MD|     US|          23|          5|    failed|          8|        9|     Q3|   Q3|         65|              32.5|\n",
      "+--------+--------------------+--------+-------------+--------------+-------------------+-------------------+--------+--------+---------+-------+-------+------------+-----------+----------+-----------+---------+-------+-----+-----------+------------------+\n",
      "only showing top 5 rows"
     ]
    }
   ],
   "source": [
    "#filter outliers\n",
    "no_outliers = (\n",
    "    with_outliers_flag\n",
    "    .filter('!(percent_achieved_o)')\n",
    "    .select(df_pluscol.columns)\n",
    ")\n",
    "no_outliers.show(5)"
   ]
  },
  {
   "cell_type": "code",
   "execution_count": 24,
   "metadata": {},
   "outputs": [
    {
     "data": {
      "application/vnd.jupyter.widget-view+json": {
       "model_id": "f61adb0b6b51434fbc685cecf7cf0a14",
       "version_major": 2,
       "version_minor": 0
      },
      "text/plain": [
       "VBox()"
      ]
     },
     "metadata": {},
     "output_type": "display_data"
    },
    {
     "data": {
      "application/vnd.jupyter.widget-view+json": {
       "model_id": "",
       "version_major": 2,
       "version_minor": 0
      },
      "text/plain": [
       "FloatProgress(value=0.0, bar_style='info', description='Progress:', layout=Layout(height='25px', width='50%'),…"
      ]
     },
     "metadata": {},
     "output_type": "display_data"
    },
    {
     "name": "stdout",
     "output_type": "stream",
     "text": [
      "+-------+------------------+\n",
      "|summary|  percent_achieved|\n",
      "+-------+------------------+\n",
      "|  count|            168450|\n",
      "|   mean|444.81622152248883|\n",
      "| stddev|25031.041508166658|\n",
      "|    min|               0.0|\n",
      "|    max|         6876400.0|\n",
      "+-------+------------------+"
     ]
    }
   ],
   "source": [
    "#describe numeric features with outliers\n",
    "descriptive_stats = df_pluscol.describe(features)\n",
    "descriptive_stats.show()"
   ]
  },
  {
   "cell_type": "code",
   "execution_count": 25,
   "metadata": {},
   "outputs": [
    {
     "data": {
      "application/vnd.jupyter.widget-view+json": {
       "model_id": "9a733dcbbdad41309cea0a34dcc7837b",
       "version_major": 2,
       "version_minor": 0
      },
      "text/plain": [
       "VBox()"
      ]
     },
     "metadata": {},
     "output_type": "display_data"
    },
    {
     "data": {
      "application/vnd.jupyter.widget-view+json": {
       "model_id": "",
       "version_major": 2,
       "version_minor": 0
      },
      "text/plain": [
       "FloatProgress(value=0.0, bar_style='info', description='Progress:', layout=Layout(height='25px', width='50%'),…"
      ]
     },
     "metadata": {},
     "output_type": "display_data"
    },
    {
     "name": "stdout",
     "output_type": "stream",
     "text": [
      "+-------+------------------+\n",
      "|summary|  percent_achieved|\n",
      "+-------+------------------+\n",
      "|  count|            158625|\n",
      "|   mean| 76.21461036526311|\n",
      "| stddev|  73.9382862391624|\n",
      "|    min|               0.0|\n",
      "|    max|2120.7000000000003|\n",
      "+-------+------------------+"
     ]
    }
   ],
   "source": [
    "#describe numeric features for visualization without outliers\n",
    "descriptive_stats = no_outliers.describe(features)\n",
    "descriptive_stats.show()"
   ]
  },
  {
   "cell_type": "code",
   "execution_count": 26,
   "metadata": {},
   "outputs": [
    {
     "data": {
      "application/vnd.jupyter.widget-view+json": {
       "model_id": "b0067cbcbf8d4b6283310c8cb5c3e97e",
       "version_major": 2,
       "version_minor": 0
      },
      "text/plain": [
       "VBox()"
      ]
     },
     "metadata": {},
     "output_type": "display_data"
    },
    {
     "data": {
      "application/vnd.jupyter.widget-view+json": {
       "model_id": "",
       "version_major": 2,
       "version_minor": 0
      },
      "text/plain": [
       "FloatProgress(value=0.0, bar_style='info', description='Progress:', layout=Layout(height='25px', width='50%'),…"
      ]
     },
     "metadata": {},
     "output_type": "display_data"
    },
    {
     "name": "stdout",
     "output_type": "stream",
     "text": [
      "+-------+-----------------+------------------+------------------+\n",
      "|summary|         goal_usd|       usd_pledged|      blurb_length|\n",
      "+-------+-----------------+------------------+------------------+\n",
      "|  count|           168467|            168467|            168467|\n",
      "|   mean| 40313.8783263191|12200.645610119489|19.042079457697948|\n",
      "| stddev|1079980.277323171|  84788.4943097454| 4.956185397215491|\n",
      "|    min|                0|                 0|                 1|\n",
      "|    max|        129033257|           8596474|                35|\n",
      "+-------+-----------------+------------------+------------------+"
     ]
    }
   ],
   "source": [
    "y=df_pluscol['goal_usd','usd_pledged','blurb_length',]\n",
    "#describe numeric features for visualization bc outliers removed\n",
    "descriptive_stats = y.describe()\n",
    "descriptive_stats.show()"
   ]
  },
  {
   "cell_type": "code",
   "execution_count": 27,
   "metadata": {},
   "outputs": [
    {
     "data": {
      "application/vnd.jupyter.widget-view+json": {
       "model_id": "14b04a192ff946709f3c9b6a7486b409",
       "version_major": 2,
       "version_minor": 0
      },
      "text/plain": [
       "VBox()"
      ]
     },
     "metadata": {},
     "output_type": "display_data"
    },
    {
     "data": {
      "application/vnd.jupyter.widget-view+json": {
       "model_id": "",
       "version_major": 2,
       "version_minor": 0
      },
      "text/plain": [
       "FloatProgress(value=0.0, bar_style='info', description='Progress:', layout=Layout(height='25px', width='50%'),…"
      ]
     },
     "metadata": {},
     "output_type": "display_data"
    }
   ],
   "source": [
    "#generate bins and count of each bin for duration of campgain \n",
    "histogram_duration = (\n",
    "    no_outliers\n",
    "    .select('duration')\n",
    "    .rdd\n",
    "    .flatMap(lambda record: record)\n",
    "    .histogram([0, 10, 20, 30, 40, 50, 60, 70, 80, 90])\n",
    ")"
   ]
  },
  {
   "cell_type": "code",
   "execution_count": 28,
   "metadata": {},
   "outputs": [
    {
     "data": {
      "application/vnd.jupyter.widget-view+json": {
       "model_id": "698543e214ab450a88086d6a7af27244",
       "version_major": 2,
       "version_minor": 0
      },
      "text/plain": [
       "VBox()"
      ]
     },
     "metadata": {},
     "output_type": "display_data"
    },
    {
     "data": {
      "application/vnd.jupyter.widget-view+json": {
       "model_id": "",
       "version_major": 2,
       "version_minor": 0
      },
      "text/plain": [
       "FloatProgress(value=0.0, bar_style='info', description='Progress:', layout=Layout(height='25px', width='50%'),…"
      ]
     },
     "metadata": {},
     "output_type": "display_data"
    },
    {
     "name": "stdout",
     "output_type": "stream",
     "text": [
      "[0, 10, 20, 30, 40, 50, 60, 70, 80, 90]\n",
      "[2147, 10246, 21447, 93208, 14136, 4057, 13012, 83, 243]\n",
      "([0, 10, 20, 30, 40, 50, 60, 70, 80, 90], [2147, 10246, 21447, 93208, 14136, 4057, 13012, 83, 243])"
     ]
    }
   ],
   "source": [
    "#.histogram() generates two arrays: \n",
    "#1) list of bin bounds, \n",
    "#2) count of elements in corresponding bin\n",
    "for i in histogram_duration:\n",
    "    print(i)\n",
    "    \n",
    "histogram_duration"
   ]
  },
  {
   "cell_type": "code",
   "execution_count": 29,
   "metadata": {},
   "outputs": [
    {
     "data": {
      "application/vnd.jupyter.widget-view+json": {
       "model_id": "1a3a388ef3114079afd07b957a59ef60",
       "version_major": 2,
       "version_minor": 0
      },
      "text/plain": [
       "VBox()"
      ]
     },
     "metadata": {},
     "output_type": "display_data"
    },
    {
     "data": {
      "application/vnd.jupyter.widget-view+json": {
       "model_id": "",
       "version_major": 2,
       "version_minor": 0
      },
      "text/plain": [
       "FloatProgress(value=0.0, bar_style='info', description='Progress:', layout=Layout(height='25px', width='50%'),…"
      ]
     },
     "metadata": {},
     "output_type": "display_data"
    },
    {
     "name": "stdout",
     "output_type": "stream",
     "text": [
      "[0,10)\n",
      "[10,20)\n",
      "[20,30)\n",
      "[30,40)\n",
      "[40,50)\n",
      "[50,60)\n",
      "[60,70)\n",
      "[70,80)\n",
      "[80,90)"
     ]
    }
   ],
   "source": [
    "#display bin ranges\n",
    "for i in range(len(histogram_duration[0])-1):\n",
    "    print('[' + str(round(histogram_duration[0][i],2))\n",
    "        + ',' + str(round(histogram_duration[0][i+1],2))\n",
    "          + ')'\n",
    "         )"
   ]
  },
  {
   "cell_type": "code",
   "execution_count": 30,
   "metadata": {},
   "outputs": [
    {
     "data": {
      "application/vnd.jupyter.widget-view+json": {
       "model_id": "5840013c379f4d2494e0cf140f23e821",
       "version_major": 2,
       "version_minor": 0
      },
      "text/plain": [
       "VBox()"
      ]
     },
     "metadata": {},
     "output_type": "display_data"
    },
    {
     "data": {
      "application/vnd.jupyter.widget-view+json": {
       "model_id": "",
       "version_major": 2,
       "version_minor": 0
      },
      "text/plain": [
       "FloatProgress(value=0.0, bar_style='info', description='Progress:', layout=Layout(height='25px', width='50%'),…"
      ]
     },
     "metadata": {},
     "output_type": "display_data"
    },
    {
     "name": "stdout",
     "output_type": "stream",
     "text": [
      "[(1, 'one'), (2, 'two'), (3, 'three')]"
     ]
    }
   ],
   "source": [
    "#Python zip function returns an iterator of tuples based on the iterable object\n",
    "numberList = [1, 2, 3]\n",
    "strList = ['one', 'two', 'three']\n",
    "result = zip(numberList, strList)\n",
    "print(sorted(result))"
   ]
  },
  {
   "cell_type": "code",
   "execution_count": 31,
   "metadata": {},
   "outputs": [
    {
     "data": {
      "application/vnd.jupyter.widget-view+json": {
       "model_id": "37cbbccfb05d4823a52c81258884b587",
       "version_major": 2,
       "version_minor": 0
      },
      "text/plain": [
       "VBox()"
      ]
     },
     "metadata": {},
     "output_type": "display_data"
    },
    {
     "data": {
      "application/vnd.jupyter.widget-view+json": {
       "model_id": "",
       "version_major": 2,
       "version_minor": 0
      },
      "text/plain": [
       "FloatProgress(value=0.0, bar_style='info', description='Progress:', layout=Layout(height='25px', width='50%'),…"
      ]
     },
     "metadata": {},
     "output_type": "display_data"
    },
    {
     "name": "stdout",
     "output_type": "stream",
     "text": [
      "[(0, 2147), (10, 10246), (20, 21447), (30, 93208), (40, 14136), (50, 4057), (60, 13012), (70, 83), (80, 243)]"
     ]
    }
   ],
   "source": [
    "#symbol * unpacks histogram and passes the two compoonents to zip as parameters\n",
    "#zip(*histogram_MPG) = zip(histogram_MPG[0], histogram_MPG[1])\n",
    "sorted(zip(*histogram_duration))"
   ]
  },
  {
   "cell_type": "code",
   "execution_count": 32,
   "metadata": {},
   "outputs": [
    {
     "data": {
      "application/vnd.jupyter.widget-view+json": {
       "model_id": "",
       "version_major": 2,
       "version_minor": 0
      },
      "text/plain": [
       "FloatProgress(value=0.0, bar_style='info', description='Progress:', layout=Layout(height='25px', width='50%'),…"
      ]
     },
     "metadata": {},
     "output_type": "display_data"
    },
    {
     "data": {
      "application/vnd.jupyter.widget-view+json": {
       "model_id": "",
       "version_major": 2,
       "version_minor": 0
      },
      "text/plain": [
       "FloatProgress(value=0.0, bar_style='info', description='Progress:', layout=Layout(height='25px', width='50%'),…"
      ]
     },
     "metadata": {},
     "output_type": "display_data"
    }
   ],
   "source": [
    "%%spark -o hist_dur\n",
    "#The above Spark magic exports hist to local node running the notebook\n",
    "#So that we can use the local object to draw a histogram\n",
    "\n",
    "hist_dur =  spark.createDataFrame(\n",
    "    list(zip(*histogram_duration)), \n",
    "    ['bins', 'counts'])"
   ]
  },
  {
   "cell_type": "code",
   "execution_count": 33,
   "metadata": {},
   "outputs": [
    {
     "data": {
      "image/png": "[encoded data removed]",
      "text/plain": [
       "<Figure size 432x288 with 1 Axes>"
      ]
     },
     "metadata": {
      "needs_background": "light"
     },
     "output_type": "display_data"
    }
   ],
   "source": [
    "%matplotlib inline\n",
    "import matplotlib\n",
    "import matplotlib.pyplot as plt\n",
    "hist_dur.set_index('bins'\n",
    "            ).plot(kind='bar')\n",
    "plt.show()"
   ]
  },
  {
   "cell_type": "markdown",
   "metadata": {},
   "source": [
    "Interpretation - at that point in time, most kickstarter were 19-39 days old"
   ]
  },
  {
   "cell_type": "code",
   "execution_count": 34,
   "metadata": {},
   "outputs": [
    {
     "data": {
      "application/vnd.jupyter.widget-view+json": {
       "model_id": "942941e5be9d4a41aae437f3653d23e5",
       "version_major": 2,
       "version_minor": 0
      },
      "text/plain": [
       "VBox()"
      ]
     },
     "metadata": {},
     "output_type": "display_data"
    },
    {
     "data": {
      "application/vnd.jupyter.widget-view+json": {
       "model_id": "",
       "version_major": 2,
       "version_minor": 0
      },
      "text/plain": [
       "FloatProgress(value=0.0, bar_style='info', description='Progress:', layout=Layout(height='25px', width='50%'),…"
      ]
     },
     "metadata": {},
     "output_type": "display_data"
    }
   ],
   "source": [
    "#trying to make a histogram showing actual money earned from campaign\n",
    "#the outliers threw off the bins and we tried to manually set the bin size (unsuccessful)\n",
    "histogram_earn = (\n",
    "    no_outliers\n",
    "    .select('usd_pledged')\n",
    "    .rdd\n",
    "    .flatMap(lambda record: record)\n",
    "    .histogram([0, 1000, 2000, 3000, 4000, 5000, 6000, 7000, 8000, 9000])\n",
    "\n",
    ")"
   ]
  },
  {
   "cell_type": "code",
   "execution_count": 35,
   "metadata": {},
   "outputs": [
    {
     "data": {
      "application/vnd.jupyter.widget-view+json": {
       "model_id": "d7475a3262744c328b5242c553bd62c6",
       "version_major": 2,
       "version_minor": 0
      },
      "text/plain": [
       "VBox()"
      ]
     },
     "metadata": {},
     "output_type": "display_data"
    },
    {
     "data": {
      "application/vnd.jupyter.widget-view+json": {
       "model_id": "",
       "version_major": 2,
       "version_minor": 0
      },
      "text/plain": [
       "FloatProgress(value=0.0, bar_style='info', description='Progress:', layout=Layout(height='25px', width='50%'),…"
      ]
     },
     "metadata": {},
     "output_type": "display_data"
    },
    {
     "name": "stdout",
     "output_type": "stream",
     "text": [
      "[0, 1000, 2000, 3000, 4000, 5000, 6000, 7000, 8000, 9000]\n",
      "[74040, 15654, 10757, 8469, 5586, 6393, 4092, 3258, 2829]\n",
      "([0, 1000, 2000, 3000, 4000, 5000, 6000, 7000, 8000, 9000], [74040, 15654, 10757, 8469, 5586, 6393, 4092, 3258, 2829])"
     ]
    }
   ],
   "source": [
    "for i in histogram_earn:\n",
    "    print(i)\n",
    "    \n",
    "histogram_earn"
   ]
  },
  {
   "cell_type": "code",
   "execution_count": 36,
   "metadata": {},
   "outputs": [
    {
     "data": {
      "application/vnd.jupyter.widget-view+json": {
       "model_id": "72326786f82e4014abf278e192a01f04",
       "version_major": 2,
       "version_minor": 0
      },
      "text/plain": [
       "VBox()"
      ]
     },
     "metadata": {},
     "output_type": "display_data"
    },
    {
     "data": {
      "application/vnd.jupyter.widget-view+json": {
       "model_id": "",
       "version_major": 2,
       "version_minor": 0
      },
      "text/plain": [
       "FloatProgress(value=0.0, bar_style='info', description='Progress:', layout=Layout(height='25px', width='50%'),…"
      ]
     },
     "metadata": {},
     "output_type": "display_data"
    },
    {
     "name": "stdout",
     "output_type": "stream",
     "text": [
      "[0,1000)\n",
      "[1000,2000)\n",
      "[2000,3000)\n",
      "[3000,4000)\n",
      "[4000,5000)\n",
      "[5000,6000)\n",
      "[6000,7000)\n",
      "[7000,8000)\n",
      "[8000,9000)"
     ]
    }
   ],
   "source": [
    "#display bin ranges. as mentioned above, we wanted to manually set the bin sizes\n",
    "for i in range(len(histogram_earn[0])-1):\n",
    "    print('[' + str(round(histogram_earn[0][i],2))\n",
    "        + ',' + str(round(histogram_earn[0][i+1],2))\n",
    "          + ')'\n",
    "         )"
   ]
  },
  {
   "cell_type": "code",
   "execution_count": 37,
   "metadata": {},
   "outputs": [
    {
     "data": {
      "application/vnd.jupyter.widget-view+json": {
       "model_id": "4883eb6a564e4242a7f7a2b0be7106a4",
       "version_major": 2,
       "version_minor": 0
      },
      "text/plain": [
       "VBox()"
      ]
     },
     "metadata": {},
     "output_type": "display_data"
    },
    {
     "data": {
      "application/vnd.jupyter.widget-view+json": {
       "model_id": "",
       "version_major": 2,
       "version_minor": 0
      },
      "text/plain": [
       "FloatProgress(value=0.0, bar_style='info', description='Progress:', layout=Layout(height='25px', width='50%'),…"
      ]
     },
     "metadata": {},
     "output_type": "display_data"
    },
    {
     "name": "stdout",
     "output_type": "stream",
     "text": [
      "[(1, 'one'), (2, 'two'), (3, 'three')]"
     ]
    }
   ],
   "source": [
    "#Python zip function returns an iterator of tuples based on the iterable object\n",
    "numberList = [1, 2, 3]\n",
    "strList = ['one', 'two', 'three']\n",
    "result = zip(numberList, strList)\n",
    "print(sorted(result))"
   ]
  },
  {
   "cell_type": "code",
   "execution_count": 38,
   "metadata": {},
   "outputs": [
    {
     "data": {
      "application/vnd.jupyter.widget-view+json": {
       "model_id": "9aad0ee6c0694842b8aa3ba37b28c5e4",
       "version_major": 2,
       "version_minor": 0
      },
      "text/plain": [
       "VBox()"
      ]
     },
     "metadata": {},
     "output_type": "display_data"
    },
    {
     "data": {
      "application/vnd.jupyter.widget-view+json": {
       "model_id": "",
       "version_major": 2,
       "version_minor": 0
      },
      "text/plain": [
       "FloatProgress(value=0.0, bar_style='info', description='Progress:', layout=Layout(height='25px', width='50%'),…"
      ]
     },
     "metadata": {},
     "output_type": "display_data"
    },
    {
     "name": "stdout",
     "output_type": "stream",
     "text": [
      "[(0, 74040), (1000, 15654), (2000, 10757), (3000, 8469), (4000, 5586), (5000, 6393), (6000, 4092), (7000, 3258), (8000, 2829)]"
     ]
    }
   ],
   "source": [
    "sorted(zip(*histogram_earn))"
   ]
  },
  {
   "cell_type": "code",
   "execution_count": 39,
   "metadata": {},
   "outputs": [
    {
     "data": {
      "application/vnd.jupyter.widget-view+json": {
       "model_id": "",
       "version_major": 2,
       "version_minor": 0
      },
      "text/plain": [
       "FloatProgress(value=0.0, bar_style='info', description='Progress:', layout=Layout(height='25px', width='50%'),…"
      ]
     },
     "metadata": {},
     "output_type": "display_data"
    },
    {
     "data": {
      "application/vnd.jupyter.widget-view+json": {
       "model_id": "",
       "version_major": 2,
       "version_minor": 0
      },
      "text/plain": [
       "FloatProgress(value=0.0, bar_style='info', description='Progress:', layout=Layout(height='25px', width='50%'),…"
      ]
     },
     "metadata": {},
     "output_type": "display_data"
    }
   ],
   "source": [
    "%%spark -o hist_MPG \n",
    "#The above Spark magic exports hist_MPG to local node running the notebook\n",
    "#So that we can use the local object to draw a histogram\n",
    "import pandas as pd\n",
    "hist_MPG =  spark.createDataFrame(\n",
    "    list(zip(*histogram_earn)), \n",
    "    ['bins', 'counts'])"
   ]
  },
  {
   "cell_type": "code",
   "execution_count": 40,
   "metadata": {},
   "outputs": [
    {
     "data": {
      "image/png": "[encoded data removed]",
      "text/plain": [
       "<Figure size 432x288 with 1 Axes>"
      ]
     },
     "metadata": {
      "needs_background": "light"
     },
     "output_type": "display_data"
    }
   ],
   "source": [
    "%matplotlib inline\n",
    "import matplotlib\n",
    "import matplotlib.pyplot as plt\n",
    "hist_MPG.set_index('bins'\n",
    "            ).plot(kind='bar')\n",
    "plt.show()"
   ]
  },
  {
   "cell_type": "markdown",
   "metadata": {},
   "source": [
    "Interpretation: the outlier caused everything to be binned together, which is why were trying to hard set bin size"
   ]
  },
  {
   "cell_type": "markdown",
   "metadata": {},
   "source": [
    "Scatter Plots"
   ]
  },
  {
   "cell_type": "code",
   "execution_count": 41,
   "metadata": {},
   "outputs": [],
   "source": [
    "%matplotlib inline\n",
    "import matplotlib\n",
    "import matplotlib.pyplot as plt"
   ]
  },
  {
   "cell_type": "code",
   "execution_count": 42,
   "metadata": {},
   "outputs": [
    {
     "data": {
      "application/vnd.jupyter.widget-view+json": {
       "model_id": "",
       "version_major": 2,
       "version_minor": 0
      },
      "text/plain": [
       "FloatProgress(value=0.0, bar_style='info', description='Progress:', layout=Layout(height='25px', width='50%'),…"
      ]
     },
     "metadata": {},
     "output_type": "display_data"
    },
    {
     "data": {
      "application/vnd.jupyter.widget-view+json": {
       "model_id": "",
       "version_major": 2,
       "version_minor": 0
      },
      "text/plain": [
       "FloatProgress(value=0.0, bar_style='info', description='Progress:', layout=Layout(height='25px', width='50%'),…"
      ]
     },
     "metadata": {},
     "output_type": "display_data"
    }
   ],
   "source": [
    "%%spark -o scatter\n",
    "#scatter plot of duration and goal\n",
    "#spark magic moves dataframe to local\n",
    "scatter = (\n",
    "   no_outliers\n",
    "    .select('blurb_length', ('usd_pledged'))\n",
    ")"
   ]
  },
  {
   "cell_type": "code",
   "execution_count": 43,
   "metadata": {},
   "outputs": [
    {
     "data": {
      "text/html": [
       "\n",
       "    <div class=\"bk-root\">\n",
       "        <a href=\"https://bokeh.org\" target=\"_blank\" class=\"bk-logo bk-logo-small bk-logo-notebook\"></a>\n",
       "        <span id=\"1001\">Loading BokehJS ...</span>\n",
       "    </div>"
      ]
     },
     "metadata": {},
     "output_type": "display_data"
    },
    {
     "data": {
      "application/javascript": [
       "\n",
       "(function(root) {\n",
       "  function now() {\n",
       "    return new Date();\n",
       "  }\n",
       "\n",
       "  var force = true;\n",
       "\n",
       "  if (typeof root._bokeh_onload_callbacks === \"undefined\" || force === true) {\n",
       "    root._bokeh_onload_callbacks = [];\n",
       "    root._bokeh_is_loading = undefined;\n",
       "  }\n",
       "\n",
       "  var JS_MIME_TYPE = 'application/javascript';\n",
       "  var HTML_MIME_TYPE = 'text/html';\n",
       "  var EXEC_MIME_TYPE = 'application/vnd.bokehjs_exec.v0+json';\n",
       "  var CLASS_NAME = 'output_bokeh rendered_html';\n",
       "\n",
       "  /**\n",
       "   * Render data to the DOM node\n",
       "   */\n",
       "  function render(props, node) {\n",
       "    var script = document.createElement(\"script\");\n",
       "    node.appendChild(script);\n",
       "  }\n",
       "\n",
       "  /**\n",
       "   * Handle when an output is cleared or removed\n",
       "   */\n",
       "  function handleClearOutput(event, handle) {\n",
       "    var cell = handle.cell;\n",
       "\n",
       "    var id = cell.output_area._bokeh_element_id;\n",
       "    var server_id = cell.output_area._bokeh_server_id;\n",
       "    // Clean up Bokeh references\n",
       "    if (id != null && id in Bokeh.index) {\n",
       "      Bokeh.index[id].model.document.clear();\n",
       "      delete Bokeh.index[id];\n",
       "    }\n",
       "\n",
       "    if (server_id !== undefined) {\n",
       "      // Clean up Bokeh references\n",
       "      var cmd = \"from bokeh.io.state import curstate; print(curstate().uuid_to_server['\" + server_id + \"'].get_sessions()[0].document.roots[0]._id)\";\n",
       "      cell.notebook.kernel.execute(cmd, {\n",
       "        iopub: {\n",
       "          output: function(msg) {\n",
       "            var id = msg.content.text.trim();\n",
       "            if (id in Bokeh.index) {\n",
       "              Bokeh.index[id].model.document.clear();\n",
       "              delete Bokeh.index[id];\n",
       "            }\n",
       "          }\n",
       "        }\n",
       "      });\n",
       "      // Destroy server and session\n",
       "      var cmd = \"import bokeh.io.notebook as ion; ion.destroy_server('\" + server_id + \"')\";\n",
       "      cell.notebook.kernel.execute(cmd);\n",
       "    }\n",
       "  }\n",
       "\n",
       "  /**\n",
       "   * Handle when a new output is added\n",
       "   */\n",
       "  function handleAddOutput(event, handle) {\n",
       "    var output_area = handle.output_area;\n",
       "    var output = handle.output;\n",
       "\n",
       "    // limit handleAddOutput to display_data with EXEC_MIME_TYPE content only\n",
       "    if ((output.output_type != \"display_data\") || (!output.data.hasOwnProperty(EXEC_MIME_TYPE))) {\n",
       "      return\n",
       "    }\n",
       "\n",
       "    var toinsert = output_area.element.find(\".\" + CLASS_NAME.split(' ')[0]);\n",
       "\n",
       "    if (output.metadata[EXEC_MIME_TYPE][\"id\"] !== undefined) {\n",
       "      toinsert[toinsert.length - 1].firstChild.textContent = output.data[JS_MIME_TYPE];\n",
       "      // store reference to embed id on output_area\n",
       "      output_area._bokeh_element_id = output.metadata[EXEC_MIME_TYPE][\"id\"];\n",
       "    }\n",
       "    if (output.metadata[EXEC_MIME_TYPE][\"server_id\"] !== undefined) {\n",
       "      var bk_div = document.createElement(\"div\");\n",
       "      bk_div.innerHTML = output.data[HTML_MIME_TYPE];\n",
       "      var script_attrs = bk_div.children[0].attributes;\n",
       "      for (var i = 0; i < script_attrs.length; i++) {\n",
       "        toinsert[toinsert.length - 1].firstChild.setAttribute(script_attrs[i].name, script_attrs[i].value);\n",
       "      }\n",
       "      // store reference to server id on output_area\n",
       "      output_area._bokeh_server_id = output.metadata[EXEC_MIME_TYPE][\"server_id\"];\n",
       "    }\n",
       "  }\n",
       "\n",
       "  function register_renderer(events, OutputArea) {\n",
       "\n",
       "    function append_mime(data, metadata, element) {\n",
       "      // create a DOM node to render to\n",
       "      var toinsert = this.create_output_subarea(\n",
       "        metadata,\n",
       "        CLASS_NAME,\n",
       "        EXEC_MIME_TYPE\n",
       "      );\n",
       "      this.keyboard_manager.register_events(toinsert);\n",
       "      // Render to node\n",
       "      var props = {data: data, metadata: metadata[EXEC_MIME_TYPE]};\n",
       "      render(props, toinsert[toinsert.length - 1]);\n",
       "      element.append(toinsert);\n",
       "      return toinsert\n",
       "    }\n",
       "\n",
       "    /* Handle when an output is cleared or removed */\n",
       "    events.on('clear_output.CodeCell', handleClearOutput);\n",
       "    events.on('delete.Cell', handleClearOutput);\n",
       "\n",
       "    /* Handle when a new output is added */\n",
       "    events.on('output_added.OutputArea', handleAddOutput);\n",
       "\n",
       "    /**\n",
       "     * Register the mime type and append_mime function with output_area\n",
       "     */\n",
       "    OutputArea.prototype.register_mime_type(EXEC_MIME_TYPE, append_mime, {\n",
       "      /* Is output safe? */\n",
       "      safe: true,\n",
       "      /* Index of renderer in `output_area.display_order` */\n",
       "      index: 0\n",
       "    });\n",
       "  }\n",
       "\n",
       "  // register the mime type if in Jupyter Notebook environment and previously unregistered\n",
       "  if (root.Jupyter !== undefined) {\n",
       "    var events = require('base/js/events');\n",
       "    var OutputArea = require('notebook/js/outputarea').OutputArea;\n",
       "\n",
       "    if (OutputArea.prototype.mime_types().indexOf(EXEC_MIME_TYPE) == -1) {\n",
       "      register_renderer(events, OutputArea);\n",
       "    }\n",
       "  }\n",
       "\n",
       "  \n",
       "  if (typeof (root._bokeh_timeout) === \"undefined\" || force === true) {\n",
       "    root._bokeh_timeout = Date.now() + 5000;\n",
       "    root._bokeh_failed_load = false;\n",
       "  }\n",
       "\n",
       "  var NB_LOAD_WARNING = {'data': {'text/html':\n",
       "     \"<div style='background-color: #fdd'>\\n\"+\n",
       "     \"<p>\\n\"+\n",
       "     \"BokehJS does not appear to have successfully loaded. If loading BokehJS from CDN, this \\n\"+\n",
       "     \"may be due to a slow or bad network connection. Possible fixes:\\n\"+\n",
       "     \"</p>\\n\"+\n",
       "     \"<ul>\\n\"+\n",
       "     \"<li>re-rerun `output_notebook()` to attempt to load from CDN again, or</li>\\n\"+\n",
       "     \"<li>use INLINE resources instead, as so:</li>\\n\"+\n",
       "     \"</ul>\\n\"+\n",
       "     \"<code>\\n\"+\n",
       "     \"from bokeh.resources import INLINE\\n\"+\n",
       "     \"output_notebook(resources=INLINE)\\n\"+\n",
       "     \"</code>\\n\"+\n",
       "     \"</div>\"}};\n",
       "\n",
       "  function display_loaded() {\n",
       "    var el = document.getElementById(\"1001\");\n",
       "    if (el != null) {\n",
       "      el.textContent = \"BokehJS is loading...\";\n",
       "    }\n",
       "    if (root.Bokeh !== undefined) {\n",
       "      if (el != null) {\n",
       "        el.textContent = \"BokehJS \" + root.Bokeh.version + \" successfully loaded.\";\n",
       "      }\n",
       "    } else if (Date.now() < root._bokeh_timeout) {\n",
       "      setTimeout(display_loaded, 100)\n",
       "    }\n",
       "  }\n",
       "\n",
       "\n",
       "  function run_callbacks() {\n",
       "    try {\n",
       "      root._bokeh_onload_callbacks.forEach(function(callback) {\n",
       "        if (callback != null)\n",
       "          callback();\n",
       "      });\n",
       "    } finally {\n",
       "      delete root._bokeh_onload_callbacks\n",
       "    }\n",
       "    console.debug(\"Bokeh: all callbacks have finished\");\n",
       "  }\n",
       "\n",
       "  function load_libs(css_urls, js_urls, callback) {\n",
       "    if (css_urls == null) css_urls = [];\n",
       "    if (js_urls == null) js_urls = [];\n",
       "\n",
       "    root._bokeh_onload_callbacks.push(callback);\n",
       "    if (root._bokeh_is_loading > 0) {\n",
       "      console.debug(\"Bokeh: BokehJS is being loaded, scheduling callback at\", now());\n",
       "      return null;\n",
       "    }\n",
       "    if (js_urls == null || js_urls.length === 0) {\n",
       "      run_callbacks();\n",
       "      return null;\n",
       "    }\n",
       "    console.debug(\"Bokeh: BokehJS not loaded, scheduling load and callback at\", now());\n",
       "    root._bokeh_is_loading = css_urls.length + js_urls.length;\n",
       "\n",
       "    function on_load() {\n",
       "      root._bokeh_is_loading--;\n",
       "      if (root._bokeh_is_loading === 0) {\n",
       "        console.debug(\"Bokeh: all BokehJS libraries/stylesheets loaded\");\n",
       "        run_callbacks()\n",
       "      }\n",
       "    }\n",
       "\n",
       "    function on_error() {\n",
       "      console.error(\"failed to load \" + url);\n",
       "    }\n",
       "\n",
       "    for (var i = 0; i < css_urls.length; i++) {\n",
       "      var url = css_urls[i];\n",
       "      const element = document.createElement(\"link\");\n",
       "      element.onload = on_load;\n",
       "      element.onerror = on_error;\n",
       "      element.rel = \"stylesheet\";\n",
       "      element.type = \"text/css\";\n",
       "      element.href = url;\n",
       "      console.debug(\"Bokeh: injecting link tag for BokehJS stylesheet: \", url);\n",
       "      document.body.appendChild(element);\n",
       "    }\n",
       "\n",
       "    for (var i = 0; i < js_urls.length; i++) {\n",
       "      var url = js_urls[i];\n",
       "      var element = document.createElement('script');\n",
       "      element.onload = on_load;\n",
       "      element.onerror = on_error;\n",
       "      element.async = false;\n",
       "      element.src = url;\n",
       "      console.debug(\"Bokeh: injecting script tag for BokehJS library: \", url);\n",
       "      document.head.appendChild(element);\n",
       "    }\n",
       "  };var element = document.getElementById(\"1001\");\n",
       "  if (element == null) {\n",
       "    console.error(\"Bokeh: ERROR: autoload.js configured with elementid '1001' but no matching script tag was found. \")\n",
       "    return false;\n",
       "  }\n",
       "\n",
       "  function inject_raw_css(css) {\n",
       "    const element = document.createElement(\"style\");\n",
       "    element.appendChild(document.createTextNode(css));\n",
       "    document.body.appendChild(element);\n",
       "  }\n",
       "\n",
       "  \n",
       "  var js_urls = [\"https://cdn.pydata.org/bokeh/release/bokeh-1.4.0.min.js\", \"https://cdn.pydata.org/bokeh/release/bokeh-widgets-1.4.0.min.js\", \"https://cdn.pydata.org/bokeh/release/bokeh-tables-1.4.0.min.js\", \"https://cdn.pydata.org/bokeh/release/bokeh-gl-1.4.0.min.js\"];\n",
       "  var css_urls = [];\n",
       "  \n",
       "\n",
       "  var inline_js = [\n",
       "    function(Bokeh) {\n",
       "      Bokeh.set_log_level(\"info\");\n",
       "    },\n",
       "    function(Bokeh) {\n",
       "    \n",
       "    \n",
       "    }\n",
       "  ];\n",
       "\n",
       "  function run_inline_js() {\n",
       "    \n",
       "    if (root.Bokeh !== undefined || force === true) {\n",
       "      \n",
       "    for (var i = 0; i < inline_js.length; i++) {\n",
       "      inline_js[i].call(root, root.Bokeh);\n",
       "    }\n",
       "    if (force === true) {\n",
       "        display_loaded();\n",
       "      }} else if (Date.now() < root._bokeh_timeout) {\n",
       "      setTimeout(run_inline_js, 100);\n",
       "    } else if (!root._bokeh_failed_load) {\n",
       "      console.log(\"Bokeh: BokehJS failed to load within specified timeout.\");\n",
       "      root._bokeh_failed_load = true;\n",
       "    } else if (force !== true) {\n",
       "      var cell = $(document.getElementById(\"1001\")).parents('.cell').data().cell;\n",
       "      cell.output_area.append_execute_result(NB_LOAD_WARNING)\n",
       "    }\n",
       "\n",
       "  }\n",
       "\n",
       "  if (root._bokeh_is_loading === 0) {\n",
       "    console.debug(\"Bokeh: BokehJS loaded, going straight to plotting\");\n",
       "    run_inline_js();\n",
       "  } else {\n",
       "    load_libs(css_urls, js_urls, function() {\n",
       "      console.debug(\"Bokeh: BokehJS plotting callback run at\", now());\n",
       "      run_inline_js();\n",
       "    });\n",
       "  }\n",
       "}(window));"
      ],
      "application/vnd.bokehjs_load.v0+json": "\n(function(root) {\n  function now() {\n    return new Date();\n  }\n\n  var force = true;\n\n  if (typeof root._bokeh_onload_callbacks === \"undefined\" || force === true) {\n    root._bokeh_onload_callbacks = [];\n    root._bokeh_is_loading = undefined;\n  }\n\n  \n\n  \n  if (typeof (root._bokeh_timeout) === \"undefined\" || force === true) {\n    root._bokeh_timeout = Date.now() + 5000;\n    root._bokeh_failed_load = false;\n  }\n\n  var NB_LOAD_WARNING = {'data': {'text/html':\n     \"<div style='background-color: #fdd'>\\n\"+\n     \"<p>\\n\"+\n     \"BokehJS does not appear to have successfully loaded. If loading BokehJS from CDN, this \\n\"+\n     \"may be due to a slow or bad network connection. Possible fixes:\\n\"+\n     \"</p>\\n\"+\n     \"<ul>\\n\"+\n     \"<li>re-rerun `output_notebook()` to attempt to load from CDN again, or</li>\\n\"+\n     \"<li>use INLINE resources instead, as so:</li>\\n\"+\n     \"</ul>\\n\"+\n     \"<code>\\n\"+\n     \"from bokeh.resources import INLINE\\n\"+\n     \"output_notebook(resources=INLINE)\\n\"+\n     \"</code>\\n\"+\n     \"</div>\"}};\n\n  function display_loaded() {\n    var el = document.getElementById(\"1001\");\n    if (el != null) {\n      el.textContent = \"BokehJS is loading...\";\n    }\n    if (root.Bokeh !== undefined) {\n      if (el != null) {\n        el.textContent = \"BokehJS \" + root.Bokeh.version + \" successfully loaded.\";\n      }\n    } else if (Date.now() < root._bokeh_timeout) {\n      setTimeout(display_loaded, 100)\n    }\n  }\n\n\n  function run_callbacks() {\n    try {\n      root._bokeh_onload_callbacks.forEach(function(callback) {\n        if (callback != null)\n          callback();\n      });\n    } finally {\n      delete root._bokeh_onload_callbacks\n    }\n    console.debug(\"Bokeh: all callbacks have finished\");\n  }\n\n  function load_libs(css_urls, js_urls, callback) {\n    if (css_urls == null) css_urls = [];\n    if (js_urls == null) js_urls = [];\n\n    root._bokeh_onload_callbacks.push(callback);\n    if (root._bokeh_is_loading > 0) {\n      console.debug(\"Bokeh: BokehJS is being loaded, scheduling callback at\", now());\n      return null;\n    }\n    if (js_urls == null || js_urls.length === 0) {\n      run_callbacks();\n      return null;\n    }\n    console.debug(\"Bokeh: BokehJS not loaded, scheduling load and callback at\", now());\n    root._bokeh_is_loading = css_urls.length + js_urls.length;\n\n    function on_load() {\n      root._bokeh_is_loading--;\n      if (root._bokeh_is_loading === 0) {\n        console.debug(\"Bokeh: all BokehJS libraries/stylesheets loaded\");\n        run_callbacks()\n      }\n    }\n\n    function on_error() {\n      console.error(\"failed to load \" + url);\n    }\n\n    for (var i = 0; i < css_urls.length; i++) {\n      var url = css_urls[i];\n      const element = document.createElement(\"link\");\n      element.onload = on_load;\n      element.onerror = on_error;\n      element.rel = \"stylesheet\";\n      element.type = \"text/css\";\n      element.href = url;\n      console.debug(\"Bokeh: injecting link tag for BokehJS stylesheet: \", url);\n      document.body.appendChild(element);\n    }\n\n    for (var i = 0; i < js_urls.length; i++) {\n      var url = js_urls[i];\n      var element = document.createElement('script');\n      element.onload = on_load;\n      element.onerror = on_error;\n      element.async = false;\n      element.src = url;\n      console.debug(\"Bokeh: injecting script tag for BokehJS library: \", url);\n      document.head.appendChild(element);\n    }\n  };var element = document.getElementById(\"1001\");\n  if (element == null) {\n    console.error(\"Bokeh: ERROR: autoload.js configured with elementid '1001' but no matching script tag was found. \")\n    return false;\n  }\n\n  function inject_raw_css(css) {\n    const element = document.createElement(\"style\");\n    element.appendChild(document.createTextNode(css));\n    document.body.appendChild(element);\n  }\n\n  \n  var js_urls = [\"https://cdn.pydata.org/bokeh/release/bokeh-1.4.0.min.js\", \"https://cdn.pydata.org/bokeh/release/bokeh-widgets-1.4.0.min.js\", \"https://cdn.pydata.org/bokeh/release/bokeh-tables-1.4.0.min.js\", \"https://cdn.pydata.org/bokeh/release/bokeh-gl-1.4.0.min.js\"];\n  var css_urls = [];\n  \n\n  var inline_js = [\n    function(Bokeh) {\n      Bokeh.set_log_level(\"info\");\n    },\n    function(Bokeh) {\n    \n    \n    }\n  ];\n\n  function run_inline_js() {\n    \n    if (root.Bokeh !== undefined || force === true) {\n      \n    for (var i = 0; i < inline_js.length; i++) {\n      inline_js[i].call(root, root.Bokeh);\n    }\n    if (force === true) {\n        display_loaded();\n      }} else if (Date.now() < root._bokeh_timeout) {\n      setTimeout(run_inline_js, 100);\n    } else if (!root._bokeh_failed_load) {\n      console.log(\"Bokeh: BokehJS failed to load within specified timeout.\");\n      root._bokeh_failed_load = true;\n    } else if (force !== true) {\n      var cell = $(document.getElementById(\"1001\")).parents('.cell').data().cell;\n      cell.output_area.append_execute_result(NB_LOAD_WARNING)\n    }\n\n  }\n\n  if (root._bokeh_is_loading === 0) {\n    console.debug(\"Bokeh: BokehJS loaded, going straight to plotting\");\n    run_inline_js();\n  } else {\n    load_libs(css_urls, js_urls, function() {\n      console.debug(\"Bokeh: BokehJS plotting callback run at\", now());\n      run_inline_js();\n    });\n  }\n}(window));"
     },
     "metadata": {},
     "output_type": "display_data"
    },
    {
     "data": {
      "text/html": [
       "\n",
       "\n",
       "\n",
       "\n",
       "\n",
       "\n",
       "  <div class=\"bk-root\" id=\"21271514-6ee1-466b-8463-79bc0d2f65ea\" data-root-id=\"1002\"></div>\n"
      ]
     },
     "metadata": {},
     "output_type": "display_data"
    },
    {
     "data": {
      "application/javascript": [
       "(function(root) {\n",
       "  function embed_document(root) {\n",
       "    \n",
       "  var docs_json = {\"bd7f5c28-bec2-40a0-a190-88e12ce441fd\":{\"roots\":{\"references\":[{\"attributes\":{\"below\":[{\"id\":\"1013\",\"type\":\"LinearAxis\"}],\"center\":[{\"id\":\"1017\",\"type\":\"Grid\"},{\"id\":\"1022\",\"type\":\"Grid\"}],\"left\":[{\"id\":\"1018\",\"type\":\"LinearAxis\"}],\"renderers\":[{\"id\":\"1039\",\"type\":\"GlyphRenderer\"}],\"title\":{\"id\":\"1003\",\"type\":\"Title\"},\"toolbar\":{\"id\":\"1029\",\"type\":\"Toolbar\"},\"x_range\":{\"id\":\"1005\",\"type\":\"DataRange1d\"},\"x_scale\":{\"id\":\"1009\",\"type\":\"LinearScale\"},\"y_range\":{\"id\":\"1007\",\"type\":\"DataRange1d\"},\"y_scale\":{\"id\":\"1011\",\"type\":\"LinearScale\"}},\"id\":\"1002\",\"subtype\":\"Figure\",\"type\":\"Plot\"},{\"attributes\":{},\"id\":\"1045\",\"type\":\"BasicTickFormatter\"},{\"attributes\":{\"text\":\"usd_pledged x blurb_length\"},\"id\":\"1003\",\"type\":\"Title\"},{\"attributes\":{},\"id\":\"1014\",\"type\":\"BasicTicker\"},{\"attributes\":{\"bottom_units\":\"screen\",\"fill_alpha\":{\"value\":0.5},\"fill_color\":{\"value\":\"lightgrey\"},\"left_units\":\"screen\",\"level\":\"overlay\",\"line_alpha\":{\"value\":1.0},\"line_color\":{\"value\":\"black\"},\"line_dash\":[4,4],\"line_width\":{\"value\":2},\"render_mode\":\"css\",\"right_units\":\"screen\",\"top_units\":\"screen\"},\"id\":\"1046\",\"type\":\"BoxAnnotation\"},{\"attributes\":{\"ticker\":{\"id\":\"1014\",\"type\":\"BasicTicker\"}},\"id\":\"1017\",\"type\":\"Grid\"},{\"attributes\":{},\"id\":\"1047\",\"type\":\"UnionRenderers\"},{\"attributes\":{},\"id\":\"1048\",\"type\":\"Selection\"},{\"attributes\":{},\"id\":\"1019\",\"type\":\"BasicTicker\"},{\"attributes\":{\"fill_alpha\":{\"value\":0.2},\"fill_color\":{\"value\":\"#1f77b4\"},\"line_color\":{\"value\":\"#1f77b4\"},\"size\":{\"units\":\"screen\",\"value\":10},\"x\":{\"field\":\"x\"},\"y\":{\"field\":\"y\"}},\"id\":\"1037\",\"type\":\"Circle\"},{\"attributes\":{\"dimension\":1,\"ticker\":{\"id\":\"1019\",\"type\":\"BasicTicker\"}},\"id\":\"1022\",\"type\":\"Grid\"},{\"attributes\":{\"data_source\":{\"id\":\"1036\",\"type\":\"ColumnDataSource\"},\"glyph\":{\"id\":\"1037\",\"type\":\"Circle\"},\"hover_glyph\":null,\"muted_glyph\":null,\"nonselection_glyph\":{\"id\":\"1038\",\"type\":\"Circle\"},\"selection_glyph\":null,\"view\":{\"id\":\"1040\",\"type\":\"CDSView\"}},\"id\":\"1039\",\"type\":\"GlyphRenderer\"},{\"attributes\":{\"callback\":null,\"data\":{\"x\":[22,21,22,21,23,22,21,17,24,24,22,24,25,25,24,23,15,20,22,23,19,18,22,19,24,20,26,18,26,21,27,19,20,18,25,21,23,15,24,2,9,24,23,25,26,24,25,16,21,17,18,18,13,20,20,26,21,19,22,26,19,18,17,21,19,24,18,20,19,17,20,18,22,24,17,18,21,12,25,9,21,26,23,20,4,27,13,20,14,23,18,14,24,7,21,24,19,16,20,19,6,25,20,22,17,27,10,11,22,12,23,20,20,19,22,24,26,19,23,21,17,23,10,16,19,23,9,20,21,19,17,8,11,19,18,20,10,14,16,20,22,21,25,20,23,16,11,4,29,19,17,6,24,12,20,19,16,17,17,18,23,25,19,25,29,8,19,16,23,19,19,25,22,15,9,11,23,26,27,21,21,20,12,17,20,15,15,17,13,16,24,23,19,19,16,20,13,19,17,22,21,19,19,22,20,21,18,18,20,22,19,25,26,12,22,13,25,26,22,20,22,21,18,20,12,24,22,21,11,20,24,24,24,19,25,23,3,28,26,17,21,23,23,19,18,22,21,15,20,22,16,20,21,26,21,18,16,20,20,25,12,22,20,7,23,17,19,24,22,9,24,19,24,21,18,14,24,20,25,24,20,5,20,17,16,7,23,27,21,10,22,17,22,25,16,24,29,30,18,8,21,4,20,25,19,21,24,25,23,6,18,24,24,21,6,22,24,22,21,17,19,10,14,21,13,19,19,16,20,23,23,20,17,20,19,19,17,19,12,9,23,28,23,19,15,20,21,20,22,21,19,21,20,22,25,26,17,17,24,11,27,23,18,21,13,22,16,26,15,20,20,17,12,17,23,27,22,21,19,20,25,22,24,22,21,18,19,19,19,18,23,20,5,15,8,14,15,22,22,25,17,26,22,19,24,18,19,19,17,21,21,25,16,23,8,24,23,22,14,17,20,21,19,22,21,22,20,21,23,16,18,18,20,20,21,22,1,26,20,26,14,24,20,8,19,19,24,24,7,17,13,21,13,20,9,15,11,13,9,24,20,20,23,22,23,23,10,19,15,19,22,23,10,14,16,25,20,17,8,21,24,12,22,25,21,18,20,19,13,15,19,15,12,14,22,15,12,19,24,22,12,17,23,16,23,15,11,20,20,20,23,24,14,22,14,22,17,19,20,21,21,20,14,20,24,25,26,22,20,21,21,20,18,16,25,23,20,15,11,19,21,24,24,23,24,18,20,4,22,21,11,23,30,19,22,19,14,23,21,18,22,19,22,11,18,22,20,26,16,21,18,16,24,22,25,18,25,15,27,23,21,18,21,25,24,23,18,18,26,19,12,18,25,28,12,27,25,21,23,18,18,14,17,25,19,26,19,17,26,21,22,11,8,26,22,22,20,25,8,22,23,18,20,26,20,21,21,9,19,15,23,20,11,12,3,23,12,23,24,14,15,19,12,15,26,7,18,18,15,26,23,18,23,20,27,22,19,14,16,17,18,4,25,22,20,23,24,13,28,22,18,26,10,20,25,26,15,16,24,17,22,22,21,10,20,23,22,23,16,26,22,28,19,25,17,19,14,17,24,11,19,21,19,23,11,20,8,19,19,21,20,23,11,23,22,27,23,19,15,14,23,23,20,24,20,19,14,13,19,8,18,17,15,19,22,21,23,14,21,17,20,21,8,22,25,18,22,16,16,24,22,26,19,17,23,21,22,13,18,18,11,25,21,22,23,20,10,25,23,27,17,22,22,25,24,23,22,18,26,18,23,15,9,20,22,25,12,21,20,9,21,18,24,16,22,23,22,18,17,27,26,14,18,10,18,20,22,21,21,20,19,23,19,18,21,14,13,21,22,22,17,21,22,22,18,23,26,16,23,25,17,27,18,19,15,23,22,26,15,15,17,21,19,19,23,22,21,7,17,22,15,18,25,25,17,15,9,18,24,18,19,23,22,16,20,18,19,14,20,3,21,8,11,19,7,18,20,21,26,20,18,15,18,8,19,12,15,18,25,18,19,25,24,24,8,10,13,19,13,22,23,20,12,15,22,9,20,21,23,21,22,18,26,19,16,22,18,20,20,22,21,18,17,23,10,18,22,13,15,19,18,23,21,20,17,6,23,26,17,17,22,20,20,21,18,7,24,27,21,2,23,17,24,24,9,23,23,24,22,25,22,25,16,22,19,23,28,12,24,25,21,23,23,21,25,18,25,20,24,23,2,27,23,15,22,18,24,22,16,19,23,26,17,20,24,23,16,19,6,4,19,22,8,27,24,20,24,22,11,18,22,11,9,17,10,18,27,16,25,14,25,17,17,25,18,19,22,23,23,17,24,18,20,13,25,21,22,21,13,17,19,22,22,17,5,19,21,14,21,19,10,21,22,27,23,11,21,15,18,20,26,8,22,20,19,19,16,16,21,13,17,11,20,20,20,19,27,16,16,20,23,20,24,26,25,20,10,10,20,26,20,21,20,10,19,20,24,21,14,28,22,18,21,25,16,25,24,18,16,19,16,12,21,13,21,20,3,18,13,18,16,24,21,9,14,19,14,11,14,9,17,22,22,10,25,18,21,23,19,27,15,22,19,11,24,16,22,14,8,25,21,21,17,21,20,20,23,16,22,3,22,8,15,19,28,22,20,22,14,19,17,25,20,26,23,15,21,22,13,13,18,18,20,18,21,21,22,25,23,30,20,18,17,14,19,14,23,19,25,22,29,19,20,24,22,5,19,24,17,19,26,17,8,22,15,12,21,18,19,22,23,21,26,22,13,22,21,18,15,18,20,22,17,18,7,23,16,20,17,25,23,22,23,12,20,25,22,10,23,24,18,18,19,23,9,18,21,25,11,14,17,24,25,16,21,16,20,23,22,20,26,21,20,13,23,21,18,22,16,18,27,27,20,22,11,21,22,20,6,18,14,21,14,17,21,20,22,20,20,23,18,19,15,24,25,18,20,23,4,17,19,15,18,14,18,19,8,23,22,21,20,23,19,22,15,21,23,16,14,15,16,22,23,22,17,22,15,25,22,22,16,17,23,20,20,23,17,9,15,22,22,28,17,25,24,13,20,9,22,22,23,17,15,19,15,19,18,10,19,24,19,25,26,24,23,23,21,18,20,16,17,24,8,9,20,13,13,22,25,20,19,18,18,22,24,21,29,19,12,18,13,17,19,14,16,21,15,19,20,11,15,20,21,28,21,16,22,21,18,20,21,20,25,5,27,10,22,22,16,29,20,9,24,22,11,16,18,20,23,24,18,18,23,19,23,18,16,19,22,20,23,23,28,26,21,22,21,18,21,8,25,21,21,23,25,26,23,13,19,2,11,21,20,17,26,25,16,18,12,16,19,15,23,15,23,21,25,23,18,22,21,21,13,14,18,24,20,14,25,25,23,20,22,18,21,23,25,15,22,5,22,16,19,16,21,19,22,22,19,24,19,14,23,20,24,22,16,19,22,20,26,23,18,24,9,16,19,12,24,11,17,10,23,18,23,20,25,24,20,19,20,17,9,17,13,9,23,26,28,22,19,19,21,19,25,14,19,18,9,18,12,21,23,14,9,12,23,13,20,4,20,10,19,23,10,22,19,26,11,20,22,19,7,24,19,12,17,13,17,27,22,20,18,20,11,13,27,23,14,16,22,19,22,24,22,20,25,19,26,21,19,26,24,21,11,19,12,6,21,14,14,12,22,27,21,22,22,8,26,24,18,22,24,16,21,18,19,17,27,23,23,7,15,25,16,20,18,22,20,22,7,17,18,22,21,16,22,21,21,23,18,21,22,21,6,20,18,21,12,18,20,19,24,17,26,25,18,24,24,16,21,3,21,17,21,21,24,26,26,13,19,25,6,15,9,20,22,22,20,25,22,19,22,14,23,21,20,25,20,13,10,19,15,21,17,23,23,21,26,3,25,10,22,19,16,21,29,9,23,21,23,11,17,10,26,20,23,26,21,22,13,20,20,12,21,21,22,21,23,9,17,13,21,22,17,25,23,22,22,7,18,19,19,23,7,13,25,21,22,20,23,25,25,18,29,20,18,19,23,10,20,20,13,14,25,15,26,25,13,25,24,20,8,12,23,21,12,26,24,28,24,19,10,24,23,22,27,16,18,20,19,15,20,12,20,17,22,23,20,25,17,18,15,16,22,20,21,20,17,22,19,16,18,22,17,28,25,24,19,24,25,16,22,17,24,20,26,20,23,18,25,16,22,14,22,27,11,23,19,15,24,25,23,1,20,24,22,20,22,21,19,20,2,20,15,18,23,24,20,20,18,20,22,18,20,12,27,20,22,23,13,19,22,17,20,23,15,18,26,18,24,7,10,16,24,13,19,16,23,22,16,18,22,17,23,24,23,13,22,16,13,17,22,24,21,20,19,22,25,20,23,21,12,14,19,12,18,20,20,15,19,17,23,12,19,18,26,18,14,16,22,20,21,22,12,7,17,9,17,8,18,26,20,24,23,19,21,6,9,21,25,15,22,23,9,28,18,20,16,21,11,30,13,19,12,20,21,26,23,16,25,26,13,21,18,25,24,18,22,20,7,11,22,9,21,8,21,10,17,11,21,22,21,21,20,24,20,19,10,21,19,15,23,21,11,24,27,23,18,11,19,23,27,22,19,23,24,20,24,25,17,25,18,22,26,21,18,19,16,23,14,24,25,20,25,18,18,22,21,21,16,22,22,14,28,16,24,22,22,20,21,20,12,17,22,24,19,20,11,21,24,22,21,18,19,20,16,22,23,27,15,21,26,18,21,26,22,3,18,10,25,26,15,23,11,18,27,30,20,26,23,21,22,16,18,21,25,21,24,18,6,21,21,21,19,26,20,22,25,19,1,24,15,27,20,18,7,22,23,8,19,19,19,19,5,25,16,17,13,22,16,9,25,18,27,13,27,11,23,16,20,25,18,14,21,19,22,22,18,17,19,23,18,18,21,21,9,24,11,21,5,25,23,12,15,21,25,25,21,22,28,26,24,22,25,23,16,24,21,20,12,19,22,23,20,17,21,12,15,26,21,15,20,19,24,20,24,16,19,18,13,19,21,24,18,21,22,21,17,21,22,26,16,13,18,18,23,25,25,21,20,21,23,15,21,12,15,26,26,20,2,25,5,19,7,17,23,7,20,24,20,17,19,21,24,26,12,12,18,19,22,19,23,22,25,21,20,14,11,18,11,19,19,20,21,16,23,24,13,20,20,24,23,19,27,22,23,26,16,20,26,18,21,20,20,18,20,23,24,13,23,20,28,15,16,26,12,15,28,23,25,10,10,21,26,15,23,22,19,23,7,17,17,25,15,20,7,16,12,15,12,16,1,23,19,19,16,17,19,22,22,21,22,22,9,23,18,25,11,8,20,20,24,9,19,16,23,7,25,21,22,18,20,20,19,10,16,20,13,15,3,14,21,21,15,19,22,25,24,18,20,9,19,18,20,22,21,21,22,20,17,20,18,24,12,22,21,22,18,20,23,20,22,21,20,16,27,26,21,25,21,15,14,24,22,24,21,23,23,17,23,19,23,17,24,15,9,19,23,18,24,21,22,21,23,21,21,16,18,27,26,23,23,17,22,21,24,18,25,17,6,24,24,25,16,18,25,23,25,16,3,13,21,20,17,19,23,21,20,26,24,17,19,25,22,19,18,21,27,22],\"y\":[0,1505,1331,2745,65,13886,2977,3626,1820,210,1175,5150,5065,5100,0,0,150,1000,7117,19798,16135,60,0,571,1799,590,16725,385,5296,260,0,1,5718,73383,145,4205,0,33132,0,0,94,7602,1424,16084,19410,2148,55,16250,0,1857,2997,55,9808,7925,4025,3263,20,2027,333,0,12328,1020,266,1,1555,38,185,2700,2616,4863,125,1236,1216,0,478,993,2076,7485,4900,45,7815,4165,235,1604,0,37711,0,6460,2505,7805,1020,0,37412,246,27506,68,155,22996,40,4767,198,16187,367,235,123,0,100,1065,136,3129,0,12183,3937,25258,111,2700,495,1,11,13403,0,1185,4062,21,8523,125,200,111,58,550,15445,660,0,679,258,3,26087,417,743,0,2020,30,161,16643,199,11,10,1174,180,11,6050,1794,10530,10193,510,0,520,5025,3962,807,5050,6,1,2650,5,16,0,3056,6355,4934,926,5049,65,5132,10160,73199,543,2846,7891,21560,1,3300,358,15,1258,14922,2469,58,500,144,5046,18185,3641,5366,205,12640,23,86,233,10557,1695,2103,314,1156,35115,331,102,15623,256,128029,35735,52,62330,0,33039,1225,8000,2454,9989,37,7255,1843,4490,0,2,3,1142,181,2655,7820,9112,80194,35,0,125,1000,1701,150,0,17646,13915,3255,1500,1,220,4,1164,70,11,4115,6172,6151,242,6710,4,8190,4680,0,5779,1729,54076,86,2827,10,17,1614,578,0,3250,414,53113,1045,0,1599,4208,1395,1170,22,2,153,2005,156,0,285,372,0,8773,1000,5761,60301,16899,4000,460,336,5137,346,322,200,406,4605,0,0,5285,16488,10925,280,403,2320,1271,0,12054,3153,105,6739,16985,55,2581,7551,726,1151,0,0,0,0,20203,270,23,32599,11,8,0,2351,0,5,400,36070,0,15130,429,406,3392,6404,0,81,5724,285,2455,742,30401,5001,8260,367,2924,0,4010,0,1058,586,396,1727,5216,60,96,3916,23480,3905,30111,72,174,150,2366,90,78,22300,2691,0,75,4108,270,1971,185,461,8636,0,76327,54994,40,5278,551,7430,3206,10230,1000,281,1671,12165,21572,2382,321,232,175,22937,47633,1342,1925,60979,39,2758,5858,1405,1731,1,5329,2873,319,1,5165,6609,15595,6245,16263,645,26434,225,389,29793,18750,13688,340,0,20338,601,0,105,1050,10342,399,1645,717,1104,2905,10010,448,1061,1,120,1,50,200,8437,10756,600,21,0,1800,9316,8935,20405,94628,25212,474,30590,881,7012,216,3680,12406,5050,640,411,5003,12022,720,1607,55366,0,2555,7258,16776,0,8001,7709,110,11,150,3108,5658,760,1615,825,0,5,6590,1508,7899,33,1350,6268,0,3256,1465,1001,7807,6485,159,25772,8583,16383,1,80,3186,187,6060,6110,3635,3425,25013,15307,515,20,4534,595,0,6920,10681,3107,1511,3078,14665,16590,8660,10292,67,875,326,385,4732,3000,2,1306,15515,4027,2055,10,1576,91,69,0,2083,659,360,880,30,1169,4533,77,10845,10,16396,0,1,4390,1020,18,24799,2580,6690,297,10,45569,38,44,768,74850,15310,2338,100,866,2565,20000,2505,1042,0,10,2710,10,1140,235,35,646,4529,30156,91,0,50,20,11,2010,251,146,4560,2073,4163,10,23195,1605,20,6021,15,5689,7,479,3400,100,2500,380,117,11577,15022,3,5536,1,17706,3288,543,20,31,7097,1,2876,0,4340,36,20392,31,36753,76,1239,43,917,46,4118,31,6540,516,5372,3881,1565,26820,665,65535,7150,0,50000,1,2600,24,2065,576,100,27,2135,187,793,20120,146,235,15,1810,49,6570,85,100687,2093,0,4784,10568,175,41548,21,5076,166,500,2345,62,212,61007,10168,251,226,5412,4105,41105,5107,1173,508,6635,79,0,2102,4575,0,1631,34,64,6093,29,30337,1360,5882,5700,0,231,0,126,66,21604,42093,19440,7022,1024,0,383,386,1,14600,6777,589,2606,1100,23945,4418,41319,9785,1877,6408,0,6459,8777,48,485,0,1699,1123,5258,156,66166,270,29,3501,8006,3171,251,94,0,11873,0,24367,248358,1,3668,5867,1,626,291,0,1,0,3300,373,0,0,21225,13509,136,7855,123,1419,281,2621,10702,18137,155,2695,0,45,0,7226,52,611,3656,1447,25766,36,1,45,1191,4144,0,32526,1364,818,255,3820,5271,1101,190,16362,0,459,4305,125,2620,159,405,18275,20,441193,48245,6050,5107,1478,191,71,2500,20763,5156,35,359,0,955,0,0,24593,704,1055,0,3550,11351,4390,1,1752,12270,8062,4001,1498,5276,32307,0,220,1,19121,1,1111,0,8642,1878,3997,625,16298,16823,27,189,690,6671,606,946,600,23088,860,0,0,5065,162,145,9224,760,30089,23,3557,7,61,1066,1630,21585,8711,20281,4001,606,1120,1001,227,6159,2,1578,383,169,200,331,20,2949,15919,1015,16149,443,58,60,107,4742,58,1410,1767,1956,7900,2584,2207,0,0,774,225,1,712,0,360,212,4520,4138,9200,32,5892,35684,10090,1008,314,1791,952,844,1805,513,365,36,29,15546,1,12025,347,3131,0,1,56,101832,755,37248,2806,10,1691,0,0,108938,1830,8833,3500,90,160,22,9469,1600,3,2608,435,21,5322,156,120070,1541,5878,3107,1670,752,590,5,154106,3845,6130,20,1393,221,1050,642,2307,50,2022,270,101,1020,8537,0,1255,4398,8635,185,11456,0,1,0,640,3050,600,4231,0,2566,1205,6086,1328,0,116,311,28111,45,11930,265,3184,30,18893,106,50,104,257,805,1075,21516,25222,0,2570,5450,5523,35858,1581,172,15,188,1701,15749,7011,39250,6582,317,0,0,0,28865,7341,7040,0,250,6887,6597,2,976,4726,350,265,7520,2167,10384,5359,5305,1,20432,10,6658,8153,6263,13582,171,12211,0,26252,11226,0,36,700,6277,1,891,16038,3812,50,56,2272,14960,10081,3406,6438,296,87031,4840,125,50,187,0,335,38710,1382,39,2540,10220,1101,0,76,0,953,5010,2,790,142,704,1213,12359,28730,5894,6335,25882,1,5125,0,400,0,4985,1384,0,0,0,3124,752,971,2660,0,1,350,101,6297,155,1642,1,80,775,1618,0,215,1979,16933,85,17169,1189,9525,24523,0,2040,130,1585,100,839,530,8307,61127,225,0,5080,3535,21,2250,37,50,2020,0,126,8636,6960,383,1493,62,638,13141,8377,1033,1566,350,59005,4010,0,5560,2200,32652,6205,5520,1838,0,533,2228,2270,8048,395,7240,0,10065,1,1472,10306,3757,0,650,800,4673,2460,2,10,7,1692,1,208,65,66,4710,2173,2,315,0,496,1394,5874,1775,20135,5731,0,3448,0,7323,4183,976,0,3211,0,20500,2541,2460,1,0,31657,502,567,1058,100,554,159,3523,1381,7953,1,75,10563,977,13258,300,141,10952,0,50,15132,50,660,64203,870,0,5723,32425,2176,4059,16,12581,0,65,0,1,356,2503,15315,5331,6340,30600,0,2461,20791,1707,3811,2398,5122,17943,580,8653,340,1000,562,831,7778,22362,1047,8059,40100,0,3432,52128,0,7266,1027,13192,4076,14220,8992,400,2119,0,11777,800,1,1159,2954,2901,2176,380,557,5220,5490,7250,3530,660,11508,12558,1439,5140,9301,21875,31,86,6458,2767,50813,293,0,0,283,216,29,11,22,2523,4439,5937,11207,5,8537,50,1,5771,606,0,6860,4729,17,60,56,1816,104,26,5014,5260,15289,1535,31551,1045,0,2340,74,34410,5120,20800,0,15908,25,12249,15405,8700,16615,0,2473,15,0,16,2065,5136,5733,5012,1165,6512,1366,0,1801,0,16,130,410,17460,8434,102,13,264,22,1588,1304,354,870,79,21774,248,3,1841,19793,3331,0,5,25,186,5755,1994,2240,25066,517,0,9735,1181,1943,7053,1,565,2140,20,4006,0,17111,817,0,1307,0,45,0,8100,24593,660,47,77,0,0,25,0,52,11375,8995,4535,1475,426,120,0,5935,1403,280,25,15,0,14026,9207,778,225,5005,210,2727,21043,5401,2050,849,3313,7061,2433,1045,1275,7861,2155,0,3801,4173,575,18780,1140,206,1392,42127,3575,270,15,242483,150,53977,1515,76,3038,601,24662,0,403,0,15515,3746,0,2235,1228,370,22736,5794,4545,1282,19057,0,17314,251,606,114,2,2073,76,10850,100,2501,8415,1613,7790,325,0,298,3732,8255,4132,1325,375,550,5050,102,346,91,15,7355,201,67,6766,7725,3441,542,15100,5089,2165,10,1,0,10001,47,302,303,4817,25,0,0,98,6991,150,838,2536,10647,4000,205,0,5621,1003,8045,0,3135,0,24887,700,494,18625,770,5087,12778,12700,23716,121,7770,3875,135,0,4005,856,496,1780,3535,8104,101,28308,50,11237,2655,1529,0,196,1503,87,8,10908,304,0,5203,666,19533,106,105,53,4228,518,1475,617,1283,6002,205,5177,11,5872,640,370,3390,1279,3951,147,2,519,13477,325,2255,98,1250,8358,71,825,1,6326,2,1438,8503,962,5495,100,7770,25,6255,1,154858,37,5730,26257,60,1155,1792,37513,840,12701,0,13,0,0,810,0,3203,720,15,536,6,2944,2290,568,1608,374,329,4321,230,625,0,2825,11678,2650,511,4372,5589,0,5,1329,19596,6422,1786,251,62,437,1,2093,0,4334,5025,7390,1286,301,4282,561,2260,121,891,469,917,25163,152,628,0,2351,1250,1571,73,2977,22223,51,30,414,246,75,5127,1,15117,38000,2704,15748,21220,17516,60,6985,45,3930,38105,1793,454,12,0,0,771,0,4,211,3035,7091,0,2030,11601,1293,3311,42,60,284,0,29741,3886,1785,15,10,0,150,2000,22700,375,100,35,2062,0,141,1,5050,5,2035,4454,0,0,1740,2431,1000,499,0,0,100,30234,22051,4149,942,12332,8,390,118,481,536,577,2306,14161,621,13,935,20680,3540,1001,735,11001,9495,1444,1365,12,0,3042,6,285121,0,3981,3125,2817,36791,170,11450,14,30,5219,111,320,100,214,774,3264,709,250,13,10700,21940,9844,3725,85,2435,4983,36,15059,0,6092,411,8135,11,43458,2530,30,85,92089,50,3078,15055,10,405,6,402,5138,1,4833,37001,1312,0,116398,5202,611,33224,673,257,9580,5964,11,216,32499,15905,1205,1796,0,0,3500,1542,12378,911,0,4814,52375,43203,872,307,430,124,295,3032,1534,0,1411,3376,3441,1630,6824,0,266,7102,195,3200,931,19836,60,315,9986,3217,50,11548,57,3122,4172,25,1060,1349,13682,3532,20731,375,35,304,4750,383,0,3002,8220,1590,308,11342,1230,15,34090,0,51816,0,6940,1173,10,2056,250,1,585,101,100,2562,1740,665,0,25,3279,1500,2996,21349,2516,5090,71,5775,14,35560,5359,2,432,78,0,52,2404,500,8441,20145,5188,655,2,10481,2514,44082,31,1754,6,7056,1,101,50,7697,4298,4010,2232,1096,10221,2235,31349,0,1298,0,323,12,268,1998,250,3560,0,5530,12278,35,12061,315,495,6500,3486,0,4407,0,3213,65,17180,2791,4325,275,1550,2022,3480,0,455,5,305,10,891,22675,1,0,2525,0,4096,3793,1601,6266,100,0,745,4936,4226,155,1000,8780,356,7955,0,3782,2028,10241,23402,2360,1426,0,2026,6165,12046,307,10541,228,65,198,3560,1,24265,736,2698,36,0,0,1554,0,4286,29759,7251,76,15053,0,0,3,3970,345,601,111,2553,3019,16,3137,884,3007,2181,293,15,420,1821,16232,29127,25287,1020,0,1,3325,110,21055,1151,3200,52,509,1909,181,155,55,7625,280,2501,0,15515,18522,0,1,3000,1701,0,0,32,10289,505,0,66,1800,60,1,165099,4506,982,2404,3090,8236,4018,0,800,1750,101,16567,495,2083,11213,6154,0,26,7641,0,7157,500,1070,8217,55,503,2465,10043,1228,61,4551,1171,11,2,1,278,232,43782,5,0,1,0,272,22255,3974,0,11,114,7335,0,2118,0,1620,204,0,0,0,11009,2106,753,156,3370,5321,0,0,1103,3,6909,3,612,9796,7549,20755,924,70,126,53,27197,46846,4130,406,526,6240,10022,168,271,3389,2202,2819,1296,0,333,0,11400,0,0,10236,2314,306,65675,898,2670,2877,215,202,1017,0,265,12808,230,40142,6682,41342,5500,2362,4545,849,16336,823,30045,1,135,1351,74,9753,1280,3794,7109,2071,2063,4024,33182,16665,3798,2002,1250,2000,4053,909,36,12322,6,0,1780,10130,446,3842,275,18865,491,60,12352,12,18092,6750,26,1,316,5966,65,0,15,4071,0,10,222,0,10,25712,1,934,13603,78,3400,2074,1589,4290,101,38,5509,110,0,786,1091,215,946,4658,2628,4924,0,0,6015,3972,2295,162,3054,0,520,54256,15433,757,25507,3579,12567,1645,53,1764,2254,2,0,0,561,105,735,1203,0,1,0,192,18785,10,27518,145,19,12265,1405,5678,30309,6257,297,12,5564,500,690,19,1092,581,6100,3030,0,206,0,0,194,8142,6777,29,1340,101,41700,1360,6295,511,68826,5412,1590,781,12156,3156,0,230,10807,1227,5925,0,90676,8044,10770,6163,6203,13827,15299,1547,998,150,650,0,125716,0,3331,2688,1378,2000,4159,129334,3410,437,3724,1950,6598,1091,0,7215,419,0,11100,1570,0,11,208,5050,9741,8256,150,2590,366,1445,1535,258,1045,0,76,450,320,300,261,0,1849,1,11009,4624,1920,9920,26340,7965,20,145,7244,22286,7,231,537,0,1716,3987,16706,6,1]},\"selected\":{\"id\":\"1048\",\"type\":\"Selection\"},\"selection_policy\":{\"id\":\"1047\",\"type\":\"UnionRenderers\"}},\"id\":\"1036\",\"type\":\"ColumnDataSource\"},{\"attributes\":{\"fill_alpha\":{\"value\":0.1},\"fill_color\":{\"value\":\"#1f77b4\"},\"line_alpha\":{\"value\":0.1},\"line_color\":{\"value\":\"#1f77b4\"},\"size\":{\"units\":\"screen\",\"value\":10},\"x\":{\"field\":\"x\"},\"y\":{\"field\":\"y\"}},\"id\":\"1038\",\"type\":\"Circle\"},{\"attributes\":{},\"id\":\"1023\",\"type\":\"PanTool\"},{\"attributes\":{},\"id\":\"1024\",\"type\":\"WheelZoomTool\"},{\"attributes\":{\"axis_label\":\"usd_pledged\",\"formatter\":{\"id\":\"1043\",\"type\":\"BasicTickFormatter\"},\"ticker\":{\"id\":\"1019\",\"type\":\"BasicTicker\"}},\"id\":\"1018\",\"type\":\"LinearAxis\"},{\"attributes\":{\"overlay\":{\"id\":\"1046\",\"type\":\"BoxAnnotation\"}},\"id\":\"1025\",\"type\":\"BoxZoomTool\"},{\"attributes\":{},\"id\":\"1026\",\"type\":\"SaveTool\"},{\"attributes\":{},\"id\":\"1027\",\"type\":\"ResetTool\"},{\"attributes\":{},\"id\":\"1028\",\"type\":\"HelpTool\"},{\"attributes\":{},\"id\":\"1011\",\"type\":\"LinearScale\"},{\"attributes\":{\"active_drag\":\"auto\",\"active_inspect\":\"auto\",\"active_multi\":null,\"active_scroll\":\"auto\",\"active_tap\":\"auto\",\"tools\":[{\"id\":\"1023\",\"type\":\"PanTool\"},{\"id\":\"1024\",\"type\":\"WheelZoomTool\"},{\"id\":\"1025\",\"type\":\"BoxZoomTool\"},{\"id\":\"1026\",\"type\":\"SaveTool\"},{\"id\":\"1027\",\"type\":\"ResetTool\"},{\"id\":\"1028\",\"type\":\"HelpTool\"}]},\"id\":\"1029\",\"type\":\"Toolbar\"},{\"attributes\":{\"callback\":null},\"id\":\"1005\",\"type\":\"DataRange1d\"},{\"attributes\":{\"source\":{\"id\":\"1036\",\"type\":\"ColumnDataSource\"}},\"id\":\"1040\",\"type\":\"CDSView\"},{\"attributes\":{\"callback\":null},\"id\":\"1007\",\"type\":\"DataRange1d\"},{\"attributes\":{},\"id\":\"1009\",\"type\":\"LinearScale\"},{\"attributes\":{},\"id\":\"1043\",\"type\":\"BasicTickFormatter\"},{\"attributes\":{\"axis_label\":\"blurb_length\",\"formatter\":{\"id\":\"1045\",\"type\":\"BasicTickFormatter\"},\"ticker\":{\"id\":\"1014\",\"type\":\"BasicTicker\"}},\"id\":\"1013\",\"type\":\"LinearAxis\"}],\"root_ids\":[\"1002\"]},\"title\":\"Bokeh Application\",\"version\":\"1.4.0\"}};\n",
       "  var render_items = [{\"docid\":\"bd7f5c28-bec2-40a0-a190-88e12ce441fd\",\"roots\":{\"1002\":\"21271514-6ee1-466b-8463-79bc0d2f65ea\"}}];\n",
       "  root.Bokeh.embed.embed_items_notebook(docs_json, render_items);\n",
       "\n",
       "  }\n",
       "  if (root.Bokeh !== undefined) {\n",
       "    embed_document(root);\n",
       "  } else {\n",
       "    var attempts = 0;\n",
       "    var timer = setInterval(function(root) {\n",
       "      if (root.Bokeh !== undefined) {\n",
       "        clearInterval(timer);\n",
       "        embed_document(root);\n",
       "      } else {\n",
       "        attempts++;\n",
       "        if (attempts > 100) {\n",
       "          clearInterval(timer);\n",
       "          console.log(\"Bokeh: ERROR: Unable to run BokehJS code because BokehJS library is missing\");\n",
       "        }\n",
       "      }\n",
       "    }, 10, root)\n",
       "  }\n",
       "})(window);"
      ],
      "application/vnd.bokehjs_exec.v0+json": ""
     },
     "metadata": {
      "application/vnd.bokehjs_exec.v0+json": {
       "id": "1002"
      }
     },
     "output_type": "display_data"
    }
   ],
   "source": [
    "%%local\n",
    "from bokeh.io import show\n",
    "from bokeh.plotting import figure\n",
    "from bokeh.io import output_notebook\n",
    "output_notebook()\n",
    "p = figure(title = 'usd_pledged x blurb_length')\n",
    "p.xaxis.axis_label = 'blurb_length'\n",
    "p.yaxis.axis_label = 'usd_pledged'\n",
    "\n",
    "p.circle(  list(scatter['blurb_length'])\n",
    "         , list(scatter['usd_pledged'])\n",
    "         , fill_alpha=0.2, size=10)\n",
    "\n",
    "show(p)"
   ]
  },
  {
   "cell_type": "code",
   "execution_count": 44,
   "metadata": {},
   "outputs": [
    {
     "data": {
      "application/vnd.jupyter.widget-view+json": {
       "model_id": "",
       "version_major": 2,
       "version_minor": 0
      },
      "text/plain": [
       "FloatProgress(value=0.0, bar_style='info', description='Progress:', layout=Layout(height='25px', width='50%'),…"
      ]
     },
     "metadata": {},
     "output_type": "display_data"
    },
    {
     "data": {
      "application/vnd.jupyter.widget-view+json": {
       "model_id": "",
       "version_major": 2,
       "version_minor": 0
      },
      "text/plain": [
       "FloatProgress(value=0.0, bar_style='info', description='Progress:', layout=Layout(height='25px', width='50%'),…"
      ]
     },
     "metadata": {},
     "output_type": "display_data"
    }
   ],
   "source": [
    "%%spark -o scatter\n",
    "#spark magic moves dataframe to local\n",
    "scatter = (\n",
    "    no_outliers\n",
    "    .select('duration', 'usd_pledged')\n",
    ")"
   ]
  },
  {
   "cell_type": "code",
   "execution_count": 45,
   "metadata": {},
   "outputs": [
    {
     "data": {
      "text/html": [
       "\n",
       "    <div class=\"bk-root\">\n",
       "        <a href=\"https://bokeh.org\" target=\"_blank\" class=\"bk-logo bk-logo-small bk-logo-notebook\"></a>\n",
       "        <span id=\"1097\">Loading BokehJS ...</span>\n",
       "    </div>"
      ]
     },
     "metadata": {},
     "output_type": "display_data"
    },
    {
     "data": {
      "application/javascript": [
       "\n",
       "(function(root) {\n",
       "  function now() {\n",
       "    return new Date();\n",
       "  }\n",
       "\n",
       "  var force = true;\n",
       "\n",
       "  if (typeof root._bokeh_onload_callbacks === \"undefined\" || force === true) {\n",
       "    root._bokeh_onload_callbacks = [];\n",
       "    root._bokeh_is_loading = undefined;\n",
       "  }\n",
       "\n",
       "  var JS_MIME_TYPE = 'application/javascript';\n",
       "  var HTML_MIME_TYPE = 'text/html';\n",
       "  var EXEC_MIME_TYPE = 'application/vnd.bokehjs_exec.v0+json';\n",
       "  var CLASS_NAME = 'output_bokeh rendered_html';\n",
       "\n",
       "  /**\n",
       "   * Render data to the DOM node\n",
       "   */\n",
       "  function render(props, node) {\n",
       "    var script = document.createElement(\"script\");\n",
       "    node.appendChild(script);\n",
       "  }\n",
       "\n",
       "  /**\n",
       "   * Handle when an output is cleared or removed\n",
       "   */\n",
       "  function handleClearOutput(event, handle) {\n",
       "    var cell = handle.cell;\n",
       "\n",
       "    var id = cell.output_area._bokeh_element_id;\n",
       "    var server_id = cell.output_area._bokeh_server_id;\n",
       "    // Clean up Bokeh references\n",
       "    if (id != null && id in Bokeh.index) {\n",
       "      Bokeh.index[id].model.document.clear();\n",
       "      delete Bokeh.index[id];\n",
       "    }\n",
       "\n",
       "    if (server_id !== undefined) {\n",
       "      // Clean up Bokeh references\n",
       "      var cmd = \"from bokeh.io.state import curstate; print(curstate().uuid_to_server['\" + server_id + \"'].get_sessions()[0].document.roots[0]._id)\";\n",
       "      cell.notebook.kernel.execute(cmd, {\n",
       "        iopub: {\n",
       "          output: function(msg) {\n",
       "            var id = msg.content.text.trim();\n",
       "            if (id in Bokeh.index) {\n",
       "              Bokeh.index[id].model.document.clear();\n",
       "              delete Bokeh.index[id];\n",
       "            }\n",
       "          }\n",
       "        }\n",
       "      });\n",
       "      // Destroy server and session\n",
       "      var cmd = \"import bokeh.io.notebook as ion; ion.destroy_server('\" + server_id + \"')\";\n",
       "      cell.notebook.kernel.execute(cmd);\n",
       "    }\n",
       "  }\n",
       "\n",
       "  /**\n",
       "   * Handle when a new output is added\n",
       "   */\n",
       "  function handleAddOutput(event, handle) {\n",
       "    var output_area = handle.output_area;\n",
       "    var output = handle.output;\n",
       "\n",
       "    // limit handleAddOutput to display_data with EXEC_MIME_TYPE content only\n",
       "    if ((output.output_type != \"display_data\") || (!output.data.hasOwnProperty(EXEC_MIME_TYPE))) {\n",
       "      return\n",
       "    }\n",
       "\n",
       "    var toinsert = output_area.element.find(\".\" + CLASS_NAME.split(' ')[0]);\n",
       "\n",
       "    if (output.metadata[EXEC_MIME_TYPE][\"id\"] !== undefined) {\n",
       "      toinsert[toinsert.length - 1].firstChild.textContent = output.data[JS_MIME_TYPE];\n",
       "      // store reference to embed id on output_area\n",
       "      output_area._bokeh_element_id = output.metadata[EXEC_MIME_TYPE][\"id\"];\n",
       "    }\n",
       "    if (output.metadata[EXEC_MIME_TYPE][\"server_id\"] !== undefined) {\n",
       "      var bk_div = document.createElement(\"div\");\n",
       "      bk_div.innerHTML = output.data[HTML_MIME_TYPE];\n",
       "      var script_attrs = bk_div.children[0].attributes;\n",
       "      for (var i = 0; i < script_attrs.length; i++) {\n",
       "        toinsert[toinsert.length - 1].firstChild.setAttribute(script_attrs[i].name, script_attrs[i].value);\n",
       "      }\n",
       "      // store reference to server id on output_area\n",
       "      output_area._bokeh_server_id = output.metadata[EXEC_MIME_TYPE][\"server_id\"];\n",
       "    }\n",
       "  }\n",
       "\n",
       "  function register_renderer(events, OutputArea) {\n",
       "\n",
       "    function append_mime(data, metadata, element) {\n",
       "      // create a DOM node to render to\n",
       "      var toinsert = this.create_output_subarea(\n",
       "        metadata,\n",
       "        CLASS_NAME,\n",
       "        EXEC_MIME_TYPE\n",
       "      );\n",
       "      this.keyboard_manager.register_events(toinsert);\n",
       "      // Render to node\n",
       "      var props = {data: data, metadata: metadata[EXEC_MIME_TYPE]};\n",
       "      render(props, toinsert[toinsert.length - 1]);\n",
       "      element.append(toinsert);\n",
       "      return toinsert\n",
       "    }\n",
       "\n",
       "    /* Handle when an output is cleared or removed */\n",
       "    events.on('clear_output.CodeCell', handleClearOutput);\n",
       "    events.on('delete.Cell', handleClearOutput);\n",
       "\n",
       "    /* Handle when a new output is added */\n",
       "    events.on('output_added.OutputArea', handleAddOutput);\n",
       "\n",
       "    /**\n",
       "     * Register the mime type and append_mime function with output_area\n",
       "     */\n",
       "    OutputArea.prototype.register_mime_type(EXEC_MIME_TYPE, append_mime, {\n",
       "      /* Is output safe? */\n",
       "      safe: true,\n",
       "      /* Index of renderer in `output_area.display_order` */\n",
       "      index: 0\n",
       "    });\n",
       "  }\n",
       "\n",
       "  // register the mime type if in Jupyter Notebook environment and previously unregistered\n",
       "  if (root.Jupyter !== undefined) {\n",
       "    var events = require('base/js/events');\n",
       "    var OutputArea = require('notebook/js/outputarea').OutputArea;\n",
       "\n",
       "    if (OutputArea.prototype.mime_types().indexOf(EXEC_MIME_TYPE) == -1) {\n",
       "      register_renderer(events, OutputArea);\n",
       "    }\n",
       "  }\n",
       "\n",
       "  \n",
       "  if (typeof (root._bokeh_timeout) === \"undefined\" || force === true) {\n",
       "    root._bokeh_timeout = Date.now() + 5000;\n",
       "    root._bokeh_failed_load = false;\n",
       "  }\n",
       "\n",
       "  var NB_LOAD_WARNING = {'data': {'text/html':\n",
       "     \"<div style='background-color: #fdd'>\\n\"+\n",
       "     \"<p>\\n\"+\n",
       "     \"BokehJS does not appear to have successfully loaded. If loading BokehJS from CDN, this \\n\"+\n",
       "     \"may be due to a slow or bad network connection. Possible fixes:\\n\"+\n",
       "     \"</p>\\n\"+\n",
       "     \"<ul>\\n\"+\n",
       "     \"<li>re-rerun `output_notebook()` to attempt to load from CDN again, or</li>\\n\"+\n",
       "     \"<li>use INLINE resources instead, as so:</li>\\n\"+\n",
       "     \"</ul>\\n\"+\n",
       "     \"<code>\\n\"+\n",
       "     \"from bokeh.resources import INLINE\\n\"+\n",
       "     \"output_notebook(resources=INLINE)\\n\"+\n",
       "     \"</code>\\n\"+\n",
       "     \"</div>\"}};\n",
       "\n",
       "  function display_loaded() {\n",
       "    var el = document.getElementById(\"1097\");\n",
       "    if (el != null) {\n",
       "      el.textContent = \"BokehJS is loading...\";\n",
       "    }\n",
       "    if (root.Bokeh !== undefined) {\n",
       "      if (el != null) {\n",
       "        el.textContent = \"BokehJS \" + root.Bokeh.version + \" successfully loaded.\";\n",
       "      }\n",
       "    } else if (Date.now() < root._bokeh_timeout) {\n",
       "      setTimeout(display_loaded, 100)\n",
       "    }\n",
       "  }\n",
       "\n",
       "\n",
       "  function run_callbacks() {\n",
       "    try {\n",
       "      root._bokeh_onload_callbacks.forEach(function(callback) {\n",
       "        if (callback != null)\n",
       "          callback();\n",
       "      });\n",
       "    } finally {\n",
       "      delete root._bokeh_onload_callbacks\n",
       "    }\n",
       "    console.debug(\"Bokeh: all callbacks have finished\");\n",
       "  }\n",
       "\n",
       "  function load_libs(css_urls, js_urls, callback) {\n",
       "    if (css_urls == null) css_urls = [];\n",
       "    if (js_urls == null) js_urls = [];\n",
       "\n",
       "    root._bokeh_onload_callbacks.push(callback);\n",
       "    if (root._bokeh_is_loading > 0) {\n",
       "      console.debug(\"Bokeh: BokehJS is being loaded, scheduling callback at\", now());\n",
       "      return null;\n",
       "    }\n",
       "    if (js_urls == null || js_urls.length === 0) {\n",
       "      run_callbacks();\n",
       "      return null;\n",
       "    }\n",
       "    console.debug(\"Bokeh: BokehJS not loaded, scheduling load and callback at\", now());\n",
       "    root._bokeh_is_loading = css_urls.length + js_urls.length;\n",
       "\n",
       "    function on_load() {\n",
       "      root._bokeh_is_loading--;\n",
       "      if (root._bokeh_is_loading === 0) {\n",
       "        console.debug(\"Bokeh: all BokehJS libraries/stylesheets loaded\");\n",
       "        run_callbacks()\n",
       "      }\n",
       "    }\n",
       "\n",
       "    function on_error() {\n",
       "      console.error(\"failed to load \" + url);\n",
       "    }\n",
       "\n",
       "    for (var i = 0; i < css_urls.length; i++) {\n",
       "      var url = css_urls[i];\n",
       "      const element = document.createElement(\"link\");\n",
       "      element.onload = on_load;\n",
       "      element.onerror = on_error;\n",
       "      element.rel = \"stylesheet\";\n",
       "      element.type = \"text/css\";\n",
       "      element.href = url;\n",
       "      console.debug(\"Bokeh: injecting link tag for BokehJS stylesheet: \", url);\n",
       "      document.body.appendChild(element);\n",
       "    }\n",
       "\n",
       "    for (var i = 0; i < js_urls.length; i++) {\n",
       "      var url = js_urls[i];\n",
       "      var element = document.createElement('script');\n",
       "      element.onload = on_load;\n",
       "      element.onerror = on_error;\n",
       "      element.async = false;\n",
       "      element.src = url;\n",
       "      console.debug(\"Bokeh: injecting script tag for BokehJS library: \", url);\n",
       "      document.head.appendChild(element);\n",
       "    }\n",
       "  };var element = document.getElementById(\"1097\");\n",
       "  if (element == null) {\n",
       "    console.error(\"Bokeh: ERROR: autoload.js configured with elementid '1097' but no matching script tag was found. \")\n",
       "    return false;\n",
       "  }\n",
       "\n",
       "  function inject_raw_css(css) {\n",
       "    const element = document.createElement(\"style\");\n",
       "    element.appendChild(document.createTextNode(css));\n",
       "    document.body.appendChild(element);\n",
       "  }\n",
       "\n",
       "  \n",
       "  var js_urls = [\"https://cdn.pydata.org/bokeh/release/bokeh-1.4.0.min.js\", \"https://cdn.pydata.org/bokeh/release/bokeh-widgets-1.4.0.min.js\", \"https://cdn.pydata.org/bokeh/release/bokeh-tables-1.4.0.min.js\", \"https://cdn.pydata.org/bokeh/release/bokeh-gl-1.4.0.min.js\"];\n",
       "  var css_urls = [];\n",
       "  \n",
       "\n",
       "  var inline_js = [\n",
       "    function(Bokeh) {\n",
       "      Bokeh.set_log_level(\"info\");\n",
       "    },\n",
       "    function(Bokeh) {\n",
       "    \n",
       "    \n",
       "    }\n",
       "  ];\n",
       "\n",
       "  function run_inline_js() {\n",
       "    \n",
       "    if (root.Bokeh !== undefined || force === true) {\n",
       "      \n",
       "    for (var i = 0; i < inline_js.length; i++) {\n",
       "      inline_js[i].call(root, root.Bokeh);\n",
       "    }\n",
       "    if (force === true) {\n",
       "        display_loaded();\n",
       "      }} else if (Date.now() < root._bokeh_timeout) {\n",
       "      setTimeout(run_inline_js, 100);\n",
       "    } else if (!root._bokeh_failed_load) {\n",
       "      console.log(\"Bokeh: BokehJS failed to load within specified timeout.\");\n",
       "      root._bokeh_failed_load = true;\n",
       "    } else if (force !== true) {\n",
       "      var cell = $(document.getElementById(\"1097\")).parents('.cell').data().cell;\n",
       "      cell.output_area.append_execute_result(NB_LOAD_WARNING)\n",
       "    }\n",
       "\n",
       "  }\n",
       "\n",
       "  if (root._bokeh_is_loading === 0) {\n",
       "    console.debug(\"Bokeh: BokehJS loaded, going straight to plotting\");\n",
       "    run_inline_js();\n",
       "  } else {\n",
       "    load_libs(css_urls, js_urls, function() {\n",
       "      console.debug(\"Bokeh: BokehJS plotting callback run at\", now());\n",
       "      run_inline_js();\n",
       "    });\n",
       "  }\n",
       "}(window));"
      ],
      "application/vnd.bokehjs_load.v0+json": "\n(function(root) {\n  function now() {\n    return new Date();\n  }\n\n  var force = true;\n\n  if (typeof root._bokeh_onload_callbacks === \"undefined\" || force === true) {\n    root._bokeh_onload_callbacks = [];\n    root._bokeh_is_loading = undefined;\n  }\n\n  \n\n  \n  if (typeof (root._bokeh_timeout) === \"undefined\" || force === true) {\n    root._bokeh_timeout = Date.now() + 5000;\n    root._bokeh_failed_load = false;\n  }\n\n  var NB_LOAD_WARNING = {'data': {'text/html':\n     \"<div style='background-color: #fdd'>\\n\"+\n     \"<p>\\n\"+\n     \"BokehJS does not appear to have successfully loaded. If loading BokehJS from CDN, this \\n\"+\n     \"may be due to a slow or bad network connection. Possible fixes:\\n\"+\n     \"</p>\\n\"+\n     \"<ul>\\n\"+\n     \"<li>re-rerun `output_notebook()` to attempt to load from CDN again, or</li>\\n\"+\n     \"<li>use INLINE resources instead, as so:</li>\\n\"+\n     \"</ul>\\n\"+\n     \"<code>\\n\"+\n     \"from bokeh.resources import INLINE\\n\"+\n     \"output_notebook(resources=INLINE)\\n\"+\n     \"</code>\\n\"+\n     \"</div>\"}};\n\n  function display_loaded() {\n    var el = document.getElementById(\"1097\");\n    if (el != null) {\n      el.textContent = \"BokehJS is loading...\";\n    }\n    if (root.Bokeh !== undefined) {\n      if (el != null) {\n        el.textContent = \"BokehJS \" + root.Bokeh.version + \" successfully loaded.\";\n      }\n    } else if (Date.now() < root._bokeh_timeout) {\n      setTimeout(display_loaded, 100)\n    }\n  }\n\n\n  function run_callbacks() {\n    try {\n      root._bokeh_onload_callbacks.forEach(function(callback) {\n        if (callback != null)\n          callback();\n      });\n    } finally {\n      delete root._bokeh_onload_callbacks\n    }\n    console.debug(\"Bokeh: all callbacks have finished\");\n  }\n\n  function load_libs(css_urls, js_urls, callback) {\n    if (css_urls == null) css_urls = [];\n    if (js_urls == null) js_urls = [];\n\n    root._bokeh_onload_callbacks.push(callback);\n    if (root._bokeh_is_loading > 0) {\n      console.debug(\"Bokeh: BokehJS is being loaded, scheduling callback at\", now());\n      return null;\n    }\n    if (js_urls == null || js_urls.length === 0) {\n      run_callbacks();\n      return null;\n    }\n    console.debug(\"Bokeh: BokehJS not loaded, scheduling load and callback at\", now());\n    root._bokeh_is_loading = css_urls.length + js_urls.length;\n\n    function on_load() {\n      root._bokeh_is_loading--;\n      if (root._bokeh_is_loading === 0) {\n        console.debug(\"Bokeh: all BokehJS libraries/stylesheets loaded\");\n        run_callbacks()\n      }\n    }\n\n    function on_error() {\n      console.error(\"failed to load \" + url);\n    }\n\n    for (var i = 0; i < css_urls.length; i++) {\n      var url = css_urls[i];\n      const element = document.createElement(\"link\");\n      element.onload = on_load;\n      element.onerror = on_error;\n      element.rel = \"stylesheet\";\n      element.type = \"text/css\";\n      element.href = url;\n      console.debug(\"Bokeh: injecting link tag for BokehJS stylesheet: \", url);\n      document.body.appendChild(element);\n    }\n\n    for (var i = 0; i < js_urls.length; i++) {\n      var url = js_urls[i];\n      var element = document.createElement('script');\n      element.onload = on_load;\n      element.onerror = on_error;\n      element.async = false;\n      element.src = url;\n      console.debug(\"Bokeh: injecting script tag for BokehJS library: \", url);\n      document.head.appendChild(element);\n    }\n  };var element = document.getElementById(\"1097\");\n  if (element == null) {\n    console.error(\"Bokeh: ERROR: autoload.js configured with elementid '1097' but no matching script tag was found. \")\n    return false;\n  }\n\n  function inject_raw_css(css) {\n    const element = document.createElement(\"style\");\n    element.appendChild(document.createTextNode(css));\n    document.body.appendChild(element);\n  }\n\n  \n  var js_urls = [\"https://cdn.pydata.org/bokeh/release/bokeh-1.4.0.min.js\", \"https://cdn.pydata.org/bokeh/release/bokeh-widgets-1.4.0.min.js\", \"https://cdn.pydata.org/bokeh/release/bokeh-tables-1.4.0.min.js\", \"https://cdn.pydata.org/bokeh/release/bokeh-gl-1.4.0.min.js\"];\n  var css_urls = [];\n  \n\n  var inline_js = [\n    function(Bokeh) {\n      Bokeh.set_log_level(\"info\");\n    },\n    function(Bokeh) {\n    \n    \n    }\n  ];\n\n  function run_inline_js() {\n    \n    if (root.Bokeh !== undefined || force === true) {\n      \n    for (var i = 0; i < inline_js.length; i++) {\n      inline_js[i].call(root, root.Bokeh);\n    }\n    if (force === true) {\n        display_loaded();\n      }} else if (Date.now() < root._bokeh_timeout) {\n      setTimeout(run_inline_js, 100);\n    } else if (!root._bokeh_failed_load) {\n      console.log(\"Bokeh: BokehJS failed to load within specified timeout.\");\n      root._bokeh_failed_load = true;\n    } else if (force !== true) {\n      var cell = $(document.getElementById(\"1097\")).parents('.cell').data().cell;\n      cell.output_area.append_execute_result(NB_LOAD_WARNING)\n    }\n\n  }\n\n  if (root._bokeh_is_loading === 0) {\n    console.debug(\"Bokeh: BokehJS loaded, going straight to plotting\");\n    run_inline_js();\n  } else {\n    load_libs(css_urls, js_urls, function() {\n      console.debug(\"Bokeh: BokehJS plotting callback run at\", now());\n      run_inline_js();\n    });\n  }\n}(window));"
     },
     "metadata": {},
     "output_type": "display_data"
    },
    {
     "data": {
      "text/html": [
       "\n",
       "\n",
       "\n",
       "\n",
       "\n",
       "\n",
       "  <div class=\"bk-root\" id=\"1ad1339e-aad9-4520-8dfa-94eaad2fb9f9\" data-root-id=\"1098\"></div>\n"
      ]
     },
     "metadata": {},
     "output_type": "display_data"
    },
    {
     "data": {
      "application/javascript": [
       "(function(root) {\n",
       "  function embed_document(root) {\n",
       "    \n",
       "  var docs_json = {\"e65cc2fc-0617-4c03-bf8e-abdf68ae3797\":{\"roots\":{\"references\":[{\"attributes\":{\"below\":[{\"id\":\"1109\",\"type\":\"LinearAxis\"}],\"center\":[{\"id\":\"1113\",\"type\":\"Grid\"},{\"id\":\"1118\",\"type\":\"Grid\"}],\"left\":[{\"id\":\"1114\",\"type\":\"LinearAxis\"}],\"renderers\":[{\"id\":\"1135\",\"type\":\"GlyphRenderer\"}],\"title\":{\"id\":\"1099\",\"type\":\"Title\"},\"toolbar\":{\"id\":\"1125\",\"type\":\"Toolbar\"},\"x_range\":{\"id\":\"1101\",\"type\":\"DataRange1d\"},\"x_scale\":{\"id\":\"1105\",\"type\":\"LinearScale\"},\"y_range\":{\"id\":\"1103\",\"type\":\"DataRange1d\"},\"y_scale\":{\"id\":\"1107\",\"type\":\"LinearScale\"}},\"id\":\"1098\",\"subtype\":\"Figure\",\"type\":\"Plot\"},{\"attributes\":{\"active_drag\":\"auto\",\"active_inspect\":\"auto\",\"active_multi\":null,\"active_scroll\":\"auto\",\"active_tap\":\"auto\",\"tools\":[{\"id\":\"1119\",\"type\":\"PanTool\"},{\"id\":\"1120\",\"type\":\"WheelZoomTool\"},{\"id\":\"1121\",\"type\":\"BoxZoomTool\"},{\"id\":\"1122\",\"type\":\"SaveTool\"},{\"id\":\"1123\",\"type\":\"ResetTool\"},{\"id\":\"1124\",\"type\":\"HelpTool\"}]},\"id\":\"1125\",\"type\":\"Toolbar\"},{\"attributes\":{},\"id\":\"1152\",\"type\":\"Selection\"},{\"attributes\":{},\"id\":\"1147\",\"type\":\"BasicTickFormatter\"},{\"attributes\":{},\"id\":\"1123\",\"type\":\"ResetTool\"},{\"attributes\":{},\"id\":\"1149\",\"type\":\"BasicTickFormatter\"},{\"attributes\":{\"fill_alpha\":{\"value\":0.1},\"fill_color\":{\"value\":\"#1f77b4\"},\"line_alpha\":{\"value\":0.1},\"line_color\":{\"value\":\"#1f77b4\"},\"size\":{\"units\":\"screen\",\"value\":10},\"x\":{\"field\":\"x\"},\"y\":{\"field\":\"y\"}},\"id\":\"1134\",\"type\":\"Circle\"},{\"attributes\":{\"data_source\":{\"id\":\"1132\",\"type\":\"ColumnDataSource\"},\"glyph\":{\"id\":\"1133\",\"type\":\"Circle\"},\"hover_glyph\":null,\"muted_glyph\":null,\"nonselection_glyph\":{\"id\":\"1134\",\"type\":\"Circle\"},\"selection_glyph\":null,\"view\":{\"id\":\"1136\",\"type\":\"CDSView\"}},\"id\":\"1135\",\"type\":\"GlyphRenderer\"},{\"attributes\":{},\"id\":\"1115\",\"type\":\"BasicTicker\"},{\"attributes\":{\"axis_label\":\"duration\",\"formatter\":{\"id\":\"1149\",\"type\":\"BasicTickFormatter\"},\"ticker\":{\"id\":\"1110\",\"type\":\"BasicTicker\"}},\"id\":\"1109\",\"type\":\"LinearAxis\"},{\"attributes\":{\"source\":{\"id\":\"1132\",\"type\":\"ColumnDataSource\"}},\"id\":\"1136\",\"type\":\"CDSView\"},{\"attributes\":{},\"id\":\"1124\",\"type\":\"HelpTool\"},{\"attributes\":{\"callback\":null},\"id\":\"1101\",\"type\":\"DataRange1d\"},{\"attributes\":{\"text\":\"usd_pledged x duration\"},\"id\":\"1099\",\"type\":\"Title\"},{\"attributes\":{},\"id\":\"1122\",\"type\":\"SaveTool\"},{\"attributes\":{},\"id\":\"1107\",\"type\":\"LinearScale\"},{\"attributes\":{},\"id\":\"1105\",\"type\":\"LinearScale\"},{\"attributes\":{\"ticker\":{\"id\":\"1110\",\"type\":\"BasicTicker\"}},\"id\":\"1113\",\"type\":\"Grid\"},{\"attributes\":{\"callback\":null},\"id\":\"1103\",\"type\":\"DataRange1d\"},{\"attributes\":{},\"id\":\"1119\",\"type\":\"PanTool\"},{\"attributes\":{},\"id\":\"1120\",\"type\":\"WheelZoomTool\"},{\"attributes\":{\"fill_alpha\":{\"value\":0.2},\"fill_color\":{\"value\":\"#1f77b4\"},\"line_color\":{\"value\":\"#1f77b4\"},\"size\":{\"units\":\"screen\",\"value\":10},\"x\":{\"field\":\"x\"},\"y\":{\"field\":\"y\"}},\"id\":\"1133\",\"type\":\"Circle\"},{\"attributes\":{},\"id\":\"1110\",\"type\":\"BasicTicker\"},{\"attributes\":{\"callback\":null,\"data\":{\"x\":[30,25,30,30,30,20,14,21,30,27,31,21,60,60,30,47,37,60,30,30,35,50,30,15,14,45,32,32,30,31,30,30,30,21,30,30,60,30,30,30,30,31,60,30,30,33,6,30,30,30,30,30,35,30,30,30,60,30,30,58,30,30,12,30,30,30,40,45,30,26,45,60,30,45,60,17,30,30,30,30,30,30,45,30,29,29,30,30,17,39,60,30,55,17,30,30,25,47,30,31,30,43,28,30,30,53,30,17,30,30,30,45,30,30,16,45,15,25,30,21,30,60,30,30,30,21,41,29,48,30,30,30,30,30,30,60,46,60,39,30,31,40,14,30,30,30,60,30,30,30,34,30,40,30,30,30,25,29,29,29,25,60,20,18,60,30,32,54,36,35,30,30,20,31,28,30,35,32,30,21,60,29,30,30,35,42,10,30,30,20,20,27,30,54,60,30,50,60,30,30,50,20,25,30,44,30,20,30,30,30,24,30,39,30,30,30,30,21,35,55,21,30,32,30,30,33,30,24,30,21,31,30,30,20,30,47,30,30,17,31,60,26,8,60,30,30,30,60,30,28,30,27,45,30,33,30,31,30,20,26,20,30,32,17,30,30,45,30,30,30,30,30,30,60,31,30,8,30,30,30,30,51,30,28,30,30,30,60,30,23,22,40,30,7,51,30,30,31,40,15,45,30,25,30,30,45,30,20,30,30,30,30,29,30,30,16,30,29,30,33,60,45,5,45,30,38,30,30,30,30,30,30,30,30,30,39,30,30,14,30,32,30,15,29,30,30,35,57,60,30,35,30,30,30,60,30,30,53,40,8,52,30,30,17,45,40,60,30,30,60,30,57,30,30,30,30,30,30,28,20,21,39,42,19,60,30,30,33,30,30,23,30,30,30,28,35,40,30,30,30,40,22,37,30,40,60,30,30,30,30,35,30,30,30,14,60,20,11,45,21,30,30,30,20,60,34,30,31,30,28,30,30,37,10,30,21,60,33,21,15,14,60,30,30,30,30,15,45,39,30,30,26,30,30,21,30,26,30,28,31,22,31,49,19,30,30,26,25,30,30,29,30,33,30,41,27,30,31,45,30,30,30,30,30,25,20,30,30,26,18,30,30,20,31,30,30,40,30,20,30,60,30,30,30,30,24,30,30,60,30,17,20,30,60,30,30,45,21,30,30,20,12,10,36,30,60,30,31,21,30,36,31,35,30,10,20,30,15,40,60,30,7,37,30,48,60,45,30,51,25,44,30,31,27,30,30,34,30,40,30,30,30,36,4,23,30,30,30,16,37,15,30,39,30,30,30,30,40,27,32,32,30,30,60,31,30,24,30,60,25,30,35,30,9,30,30,30,35,30,60,31,14,24,31,30,20,30,40,30,24,40,30,25,30,16,30,60,28,45,35,30,30,30,30,20,30,30,35,30,30,30,32,30,30,30,30,48,45,7,14,10,30,30,59,22,30,30,15,31,30,30,28,60,42,60,30,30,23,20,60,45,30,60,30,37,30,30,30,31,31,21,30,31,30,60,30,30,30,29,31,31,20,20,63,45,60,35,30,15,21,26,29,30,28,24,60,21,30,30,30,30,24,18,30,60,30,60,30,32,41,30,30,30,35,40,45,30,30,31,30,60,30,14,30,30,33,32,30,16,30,30,30,29,25,21,27,32,30,30,45,29,32,30,30,23,60,30,17,30,30,30,30,32,30,30,30,30,30,30,22,30,28,14,60,27,30,60,60,30,15,60,30,34,31,30,30,60,60,48,30,30,30,30,28,30,60,30,22,30,30,30,48,20,30,21,40,21,60,10,21,30,13,30,25,30,24,30,37,25,31,28,30,60,30,60,21,29,30,21,30,30,31,30,30,21,37,46,30,22,30,30,30,30,30,30,51,60,30,30,40,40,20,32,35,35,25,30,35,15,30,30,30,30,10,30,31,32,30,35,30,30,20,33,30,21,32,33,28,35,23,30,30,39,20,40,28,22,32,58,30,30,30,30,30,31,40,30,30,30,40,30,31,30,60,17,30,30,30,30,30,30,30,14,40,30,30,30,45,55,30,60,30,31,10,30,36,22,30,20,48,56,31,30,30,60,56,27,24,29,30,20,30,60,22,30,30,27,90,21,30,30,30,30,60,42,30,30,30,60,30,30,32,28,30,30,30,7,60,30,31,30,28,30,30,30,30,30,60,30,44,30,20,53,30,32,30,30,30,80,20,30,30,30,32,25,45,45,30,86,14,31,30,7,16,24,30,45,30,21,30,30,40,30,60,50,30,35,20,39,30,35,25,34,40,30,30,31,29,30,30,7,32,13,30,45,60,33,30,30,20,45,40,25,30,88,35,32,26,21,60,30,30,30,30,29,30,14,30,30,89,40,18,30,30,7,26,30,30,4,30,25,7,30,45,30,32,27,27,33,30,36,30,29,45,30,30,30,32,31,20,7,60,30,30,23,22,30,30,30,27,33,31,30,30,40,32,28,30,30,30,49,30,30,30,33,30,25,32,30,30,31,30,50,15,30,15,32,30,33,34,32,21,32,30,35,30,10,30,40,30,30,30,30,30,30,43,30,60,40,30,26,26,30,30,30,29,20,30,30,30,35,30,30,28,30,60,18,28,33,40,30,14,30,10,31,31,30,30,30,30,7,28,30,30,27,18,45,21,30,45,25,31,60,30,45,30,45,45,30,68,14,26,27,60,15,23,30,29,10,30,60,30,33,25,30,30,30,30,30,59,40,15,33,21,30,60,30,45,31,30,31,30,60,30,31,30,30,30,30,30,22,30,33,30,60,30,30,40,15,45,60,60,8,30,30,30,30,30,56,30,30,29,30,30,30,31,17,14,30,14,25,19,28,60,35,30,10,30,30,21,45,31,7,30,33,45,14,45,30,29,30,45,30,30,33,60,30,31,30,33,15,30,12,45,30,30,30,35,60,30,30,60,37,30,30,30,14,49,30,30,30,15,30,45,30,15,10,60,30,30,27,30,30,35,7,30,30,30,30,60,30,30,30,30,17,30,30,30,60,30,26,35,30,30,32,31,35,60,23,30,30,42,30,30,60,60,22,31,30,14,38,25,30,28,60,30,30,16,15,30,7,30,14,30,30,60,26,25,28,30,30,40,35,29,30,30,20,60,33,20,30,30,35,5,30,30,30,30,31,30,30,30,30,33,30,60,18,30,30,30,10,32,37,30,30,30,25,30,27,25,33,30,30,14,31,30,20,30,17,26,30,30,23,31,58,30,30,30,51,30,30,45,7,46,30,25,45,60,45,60,12,30,19,30,20,39,32,14,60,30,28,30,30,25,20,30,30,30,42,30,30,60,30,60,40,56,35,30,28,30,30,12,27,30,40,50,30,30,45,29,40,30,30,30,30,60,30,30,22,60,29,17,18,45,30,30,20,40,60,30,30,37,30,30,31,45,30,15,25,30,15,23,25,30,30,30,34,45,30,35,60,26,30,30,30,30,45,45,20,30,30,30,30,33,30,60,30,45,31,24,27,30,60,18,30,28,30,30,45,30,60,30,14,22,30,30,30,28,30,30,30,30,60,45,30,41,30,30,13,30,29,57,30,31,59,71,34,30,30,30,30,31,30,20,30,30,30,36,30,45,30,14,56,45,30,30,30,20,41,16,30,31,30,31,30,32,60,30,30,60,30,30,30,30,30,45,15,30,20,30,30,19,30,51,30,30,31,30,31,37,14,30,30,36,45,40,30,60,16,30,30,30,30,30,19,30,30,28,30,10,21,30,31,30,47,30,35,60,30,30,30,14,31,60,20,34,30,30,30,31,22,30,60,30,30,30,30,54,44,30,57,27,12,30,30,30,31,30,35,30,21,30,30,30,38,90,30,30,20,30,30,30,10,8,32,30,21,22,60,60,14,30,30,30,30,30,60,15,30,60,10,30,26,30,30,30,30,31,33,31,30,61,60,60,30,30,30,30,49,60,31,34,30,35,34,45,30,35,30,30,60,30,57,30,30,19,45,40,20,30,15,30,30,30,28,10,30,60,38,28,14,30,36,30,30,30,23,25,20,30,30,31,15,60,30,32,30,30,31,14,30,10,50,60,30,14,30,30,33,60,30,32,30,30,27,20,60,30,30,47,30,24,30,45,60,30,7,46,35,41,35,30,30,21,30,30,33,38,30,21,21,30,30,25,45,29,26,30,45,26,30,30,31,30,21,14,16,18,60,30,30,30,60,30,30,20,45,30,30,26,60,28,56,35,60,30,21,30,25,45,30,60,20,30,30,39,40,30,30,30,32,30,14,30,13,60,30,33,30,18,20,30,30,30,30,25,30,61,31,33,30,30,35,30,30,30,30,21,39,21,30,60,30,30,14,58,30,20,14,30,27,31,30,45,30,45,46,30,30,38,28,30,31,30,30,30,45,21,30,30,30,45,29,14,60,30,30,30,40,31,35,38,30,30,30,30,23,30,60,43,18,30,32,30,13,36,21,30,7,30,34,30,28,27,30,42,30,33,30,26,26,30,60,30,50,60,25,37,61,30,30,45,30,30,25,36,30,21,60,30,30,30,15,16,10,28,29,33,30,30,24,20,30,59,30,30,28,60,30,40,15,30,28,60,30,30,30,30,30,31,30,30,89,30,20,30,36,30,22,30,25,30,7,21,30,25,30,60,44,30,30,30,25,20,30,30,30,45,30,45,31,30,30,30,25,30,30,21,31,30,30,31,20,60,30,22,45,30,60,58,14,60,30,30,31,30,30,30,60,30,30,30,21,60,47,30,30,30,30,14,30,30,30,30,21,30,30,29,30,30,30,15,50,20,31,30,30,30,30,57,59,30,30,30,30,30,30,9,30,60,30,25,30,60,26,59,22,30,30,15,7,30,30,30,30,30,30,30,10,31,30,30,30,36,30,29,42,28,30,30,80,30,28,30,30,30,21,40,30,20,23,30,60,45,40,30,45,30,42,31,30,30,45,54,30,30,30,20,30,30,30,40,60,38,45,33,30,60,29,30,30,29,29,30,30,29,30,30,30,30,9,30,24,24,35,30,35,19,12,23,30,60,30,30,31,40,30,30,30,33,31,51,30,30,30,20,30,30,30,30,30,20,30,30,30,18,58,30,30,30,30,33,30,24,30,30,30,60,30,30,30,9,30,45,34,28,30,30,30,30,30,33,30,45,30,15,30,30,30,35,29,40,30,30,30,30,30,40,30,21,29,30,25,30,30,27,30,30,29,30,34,30,9,29,44,30,45,30,30,30,30,30,21,30,60,20,45,45,60,20,14,60,30,30,20,20,33,30,21,60,30,30,30,60,36,21,30,30,42,28,30,30,30,21,18,25,60,30,30,60,60,23,30,60,15,45,30,30,45,30,60,30,30,30,30,30,31,30,45,60,60,30,30,38,30,57,31,45,55,40,45,20,60,30,43,55,30,60,30,30,25,30,10,28,30,60,60,15,10,30,30,31,25,30,30,34,27,30,60,21,40,60,30,29,30,30,30,30,33,30,21,30,35,30,60,21,20,30,30,30,30,30,60,30,30,7,24,30,30,14,30,30,30,30,31,30,33,30,29,30,52,30,45,60,37,30,26,30,40,31,30,30,50,30,15,29,30,30,37,30,30,30,30,30,32,30,21,30,30,30,40,30,56,32,14,30,60,30,30,30],\"y\":[0,1505,1331,2745,65,13886,2977,3626,1820,210,1175,5150,5065,5100,0,0,150,1000,7117,19798,16135,60,0,571,1799,590,16725,385,5296,260,0,1,5718,73383,145,4205,0,33132,0,0,94,7602,1424,16084,19410,2148,55,16250,0,1857,2997,55,9808,7925,4025,3263,20,2027,333,0,12328,1020,266,1,1555,38,185,2700,2616,4863,125,1236,1216,0,478,993,2076,7485,4900,45,7815,4165,235,1604,0,37711,0,6460,2505,7805,1020,0,37412,246,27506,68,155,22996,40,4767,198,16187,367,235,123,0,100,1065,136,3129,0,12183,3937,25258,111,2700,495,1,11,13403,0,1185,4062,21,8523,125,200,111,58,550,15445,660,0,679,258,3,26087,417,743,0,2020,30,161,16643,199,11,10,1174,180,11,6050,1794,10530,10193,510,0,520,5025,3962,807,5050,6,1,2650,5,16,0,3056,6355,4934,926,5049,65,5132,10160,73199,543,2846,7891,21560,1,3300,358,15,1258,14922,2469,58,500,144,5046,18185,3641,5366,205,12640,23,86,233,10557,1695,2103,314,1156,35115,331,102,15623,256,128029,35735,52,62330,0,33039,1225,8000,2454,9989,37,7255,1843,4490,0,2,3,1142,181,2655,7820,9112,80194,35,0,125,1000,1701,150,0,17646,13915,3255,1500,1,220,4,1164,70,11,4115,6172,6151,242,6710,4,8190,4680,0,5779,1729,54076,86,2827,10,17,1614,578,0,3250,414,53113,1045,0,1599,4208,1395,1170,22,2,153,2005,156,0,285,372,0,8773,1000,5761,60301,16899,4000,460,336,5137,346,322,200,406,4605,0,0,5285,16488,10925,280,403,2320,1271,0,12054,3153,105,6739,16985,55,2581,7551,726,1151,0,0,0,0,20203,270,23,32599,11,8,0,2351,0,5,400,36070,0,15130,429,406,3392,6404,0,81,5724,285,2455,742,30401,5001,8260,367,2924,0,4010,0,1058,586,396,1727,5216,60,96,3916,23480,3905,30111,72,174,150,2366,90,78,22300,2691,0,75,4108,270,1971,185,461,8636,0,76327,54994,40,5278,551,7430,3206,10230,1000,281,1671,12165,21572,2382,321,232,175,22937,47633,1342,1925,60979,39,2758,5858,1405,1731,1,5329,2873,319,1,5165,6609,15595,6245,16263,645,26434,225,389,29793,18750,13688,340,0,20338,601,0,105,1050,10342,399,1645,717,1104,2905,10010,448,1061,1,120,1,50,200,8437,10756,600,21,0,1800,9316,8935,20405,94628,25212,474,30590,881,7012,216,3680,12406,5050,640,411,5003,12022,720,1607,55366,0,2555,7258,16776,0,8001,7709,110,11,150,3108,5658,760,1615,825,0,5,6590,1508,7899,33,1350,6268,0,3256,1465,1001,7807,6485,159,25772,8583,16383,1,80,3186,187,6060,6110,3635,3425,25013,15307,515,20,4534,595,0,6920,10681,3107,1511,3078,14665,16590,8660,10292,67,875,326,385,4732,3000,2,1306,15515,4027,2055,10,1576,91,69,0,2083,659,360,880,30,1169,4533,77,10845,10,16396,0,1,4390,1020,18,24799,2580,6690,297,10,45569,38,44,768,74850,15310,2338,100,866,2565,20000,2505,1042,0,10,2710,10,1140,235,35,646,4529,30156,91,0,50,20,11,2010,251,146,4560,2073,4163,10,23195,1605,20,6021,15,5689,7,479,3400,100,2500,380,117,11577,15022,3,5536,1,17706,3288,543,20,31,7097,1,2876,0,4340,36,20392,31,36753,76,1239,43,917,46,4118,31,6540,516,5372,3881,1565,26820,665,65535,7150,0,50000,1,2600,24,2065,576,100,27,2135,187,793,20120,146,235,15,1810,49,6570,85,100687,2093,0,4784,10568,175,41548,21,5076,166,500,2345,62,212,61007,10168,251,226,5412,4105,41105,5107,1173,508,6635,79,0,2102,4575,0,1631,34,64,6093,29,30337,1360,5882,5700,0,231,0,126,66,21604,42093,19440,7022,1024,0,383,386,1,14600,6777,589,2606,1100,23945,4418,41319,9785,1877,6408,0,6459,8777,48,485,0,1699,1123,5258,156,66166,270,29,3501,8006,3171,251,94,0,11873,0,24367,248358,1,3668,5867,1,626,291,0,1,0,3300,373,0,0,21225,13509,136,7855,123,1419,281,2621,10702,18137,155,2695,0,45,0,7226,52,611,3656,1447,25766,36,1,45,1191,4144,0,32526,1364,818,255,3820,5271,1101,190,16362,0,459,4305,125,2620,159,405,18275,20,441193,48245,6050,5107,1478,191,71,2500,20763,5156,35,359,0,955,0,0,24593,704,1055,0,3550,11351,4390,1,1752,12270,8062,4001,1498,5276,32307,0,220,1,19121,1,1111,0,8642,1878,3997,625,16298,16823,27,189,690,6671,606,946,600,23088,860,0,0,5065,162,145,9224,760,30089,23,3557,7,61,1066,1630,21585,8711,20281,4001,606,1120,1001,227,6159,2,1578,383,169,200,331,20,2949,15919,1015,16149,443,58,60,107,4742,58,1410,1767,1956,7900,2584,2207,0,0,774,225,1,712,0,360,212,4520,4138,9200,32,5892,35684,10090,1008,314,1791,952,844,1805,513,365,36,29,15546,1,12025,347,3131,0,1,56,101832,755,37248,2806,10,1691,0,0,108938,1830,8833,3500,90,160,22,9469,1600,3,2608,435,21,5322,156,120070,1541,5878,3107,1670,752,590,5,154106,3845,6130,20,1393,221,1050,642,2307,50,2022,270,101,1020,8537,0,1255,4398,8635,185,11456,0,1,0,640,3050,600,4231,0,2566,1205,6086,1328,0,116,311,28111,45,11930,265,3184,30,18893,106,50,104,257,805,1075,21516,25222,0,2570,5450,5523,35858,1581,172,15,188,1701,15749,7011,39250,6582,317,0,0,0,28865,7341,7040,0,250,6887,6597,2,976,4726,350,265,7520,2167,10384,5359,5305,1,20432,10,6658,8153,6263,13582,171,12211,0,26252,11226,0,36,700,6277,1,891,16038,3812,50,56,2272,14960,10081,3406,6438,296,87031,4840,125,50,187,0,335,38710,1382,39,2540,10220,1101,0,76,0,953,5010,2,790,142,704,1213,12359,28730,5894,6335,25882,1,5125,0,400,0,4985,1384,0,0,0,3124,752,971,2660,0,1,350,101,6297,155,1642,1,80,775,1618,0,215,1979,16933,85,17169,1189,9525,24523,0,2040,130,1585,100,839,530,8307,61127,225,0,5080,3535,21,2250,37,50,2020,0,126,8636,6960,383,1493,62,638,13141,8377,1033,1566,350,59005,4010,0,5560,2200,32652,6205,5520,1838,0,533,2228,2270,8048,395,7240,0,10065,1,1472,10306,3757,0,650,800,4673,2460,2,10,7,1692,1,208,65,66,4710,2173,2,315,0,496,1394,5874,1775,20135,5731,0,3448,0,7323,4183,976,0,3211,0,20500,2541,2460,1,0,31657,502,567,1058,100,554,159,3523,1381,7953,1,75,10563,977,13258,300,141,10952,0,50,15132,50,660,64203,870,0,5723,32425,2176,4059,16,12581,0,65,0,1,356,2503,15315,5331,6340,30600,0,2461,20791,1707,3811,2398,5122,17943,580,8653,340,1000,562,831,7778,22362,1047,8059,40100,0,3432,52128,0,7266,1027,13192,4076,14220,8992,400,2119,0,11777,800,1,1159,2954,2901,2176,380,557,5220,5490,7250,3530,660,11508,12558,1439,5140,9301,21875,31,86,6458,2767,50813,293,0,0,283,216,29,11,22,2523,4439,5937,11207,5,8537,50,1,5771,606,0,6860,4729,17,60,56,1816,104,26,5014,5260,15289,1535,31551,1045,0,2340,74,34410,5120,20800,0,15908,25,12249,15405,8700,16615,0,2473,15,0,16,2065,5136,5733,5012,1165,6512,1366,0,1801,0,16,130,410,17460,8434,102,13,264,22,1588,1304,354,870,79,21774,248,3,1841,19793,3331,0,5,25,186,5755,1994,2240,25066,517,0,9735,1181,1943,7053,1,565,2140,20,4006,0,17111,817,0,1307,0,45,0,8100,24593,660,47,77,0,0,25,0,52,11375,8995,4535,1475,426,120,0,5935,1403,280,25,15,0,14026,9207,778,225,5005,210,2727,21043,5401,2050,849,3313,7061,2433,1045,1275,7861,2155,0,3801,4173,575,18780,1140,206,1392,42127,3575,270,15,242483,150,53977,1515,76,3038,601,24662,0,403,0,15515,3746,0,2235,1228,370,22736,5794,4545,1282,19057,0,17314,251,606,114,2,2073,76,10850,100,2501,8415,1613,7790,325,0,298,3732,8255,4132,1325,375,550,5050,102,346,91,15,7355,201,67,6766,7725,3441,542,15100,5089,2165,10,1,0,10001,47,302,303,4817,25,0,0,98,6991,150,838,2536,10647,4000,205,0,5621,1003,8045,0,3135,0,24887,700,494,18625,770,5087,12778,12700,23716,121,7770,3875,135,0,4005,856,496,1780,3535,8104,101,28308,50,11237,2655,1529,0,196,1503,87,8,10908,304,0,5203,666,19533,106,105,53,4228,518,1475,617,1283,6002,205,5177,11,5872,640,370,3390,1279,3951,147,2,519,13477,325,2255,98,1250,8358,71,825,1,6326,2,1438,8503,962,5495,100,7770,25,6255,1,154858,37,5730,26257,60,1155,1792,37513,840,12701,0,13,0,0,810,0,3203,720,15,536,6,2944,2290,568,1608,374,329,4321,230,625,0,2825,11678,2650,511,4372,5589,0,5,1329,19596,6422,1786,251,62,437,1,2093,0,4334,5025,7390,1286,301,4282,561,2260,121,891,469,917,25163,152,628,0,2351,1250,1571,73,2977,22223,51,30,414,246,75,5127,1,15117,38000,2704,15748,21220,17516,60,6985,45,3930,38105,1793,454,12,0,0,771,0,4,211,3035,7091,0,2030,11601,1293,3311,42,60,284,0,29741,3886,1785,15,10,0,150,2000,22700,375,100,35,2062,0,141,1,5050,5,2035,4454,0,0,1740,2431,1000,499,0,0,100,30234,22051,4149,942,12332,8,390,118,481,536,577,2306,14161,621,13,935,20680,3540,1001,735,11001,9495,1444,1365,12,0,3042,6,285121,0,3981,3125,2817,36791,170,11450,14,30,5219,111,320,100,214,774,3264,709,250,13,10700,21940,9844,3725,85,2435,4983,36,15059,0,6092,411,8135,11,43458,2530,30,85,92089,50,3078,15055,10,405,6,402,5138,1,4833,37001,1312,0,116398,5202,611,33224,673,257,9580,5964,11,216,32499,15905,1205,1796,0,0,3500,1542,12378,911,0,4814,52375,43203,872,307,430,124,295,3032,1534,0,1411,3376,3441,1630,6824,0,266,7102,195,3200,931,19836,60,315,9986,3217,50,11548,57,3122,4172,25,1060,1349,13682,3532,20731,375,35,304,4750,383,0,3002,8220,1590,308,11342,1230,15,34090,0,51816,0,6940,1173,10,2056,250,1,585,101,100,2562,1740,665,0,25,3279,1500,2996,21349,2516,5090,71,5775,14,35560,5359,2,432,78,0,52,2404,500,8441,20145,5188,655,2,10481,2514,44082,31,1754,6,7056,1,101,50,7697,4298,4010,2232,1096,10221,2235,31349,0,1298,0,323,12,268,1998,250,3560,0,5530,12278,35,12061,315,495,6500,3486,0,4407,0,3213,65,17180,2791,4325,275,1550,2022,3480,0,455,5,305,10,891,22675,1,0,2525,0,4096,3793,1601,6266,100,0,745,4936,4226,155,1000,8780,356,7955,0,3782,2028,10241,23402,2360,1426,0,2026,6165,12046,307,10541,228,65,198,3560,1,24265,736,2698,36,0,0,1554,0,4286,29759,7251,76,15053,0,0,3,3970,345,601,111,2553,3019,16,3137,884,3007,2181,293,15,420,1821,16232,29127,25287,1020,0,1,3325,110,21055,1151,3200,52,509,1909,181,155,55,7625,280,2501,0,15515,18522,0,1,3000,1701,0,0,32,10289,505,0,66,1800,60,1,165099,4506,982,2404,3090,8236,4018,0,800,1750,101,16567,495,2083,11213,6154,0,26,7641,0,7157,500,1070,8217,55,503,2465,10043,1228,61,4551,1171,11,2,1,278,232,43782,5,0,1,0,272,22255,3974,0,11,114,7335,0,2118,0,1620,204,0,0,0,11009,2106,753,156,3370,5321,0,0,1103,3,6909,3,612,9796,7549,20755,924,70,126,53,27197,46846,4130,406,526,6240,10022,168,271,3389,2202,2819,1296,0,333,0,11400,0,0,10236,2314,306,65675,898,2670,2877,215,202,1017,0,265,12808,230,40142,6682,41342,5500,2362,4545,849,16336,823,30045,1,135,1351,74,9753,1280,3794,7109,2071,2063,4024,33182,16665,3798,2002,1250,2000,4053,909,36,12322,6,0,1780,10130,446,3842,275,18865,491,60,12352,12,18092,6750,26,1,316,5966,65,0,15,4071,0,10,222,0,10,25712,1,934,13603,78,3400,2074,1589,4290,101,38,5509,110,0,786,1091,215,946,4658,2628,4924,0,0,6015,3972,2295,162,3054,0,520,54256,15433,757,25507,3579,12567,1645,53,1764,2254,2,0,0,561,105,735,1203,0,1,0,192,18785,10,27518,145,19,12265,1405,5678,30309,6257,297,12,5564,500,690,19,1092,581,6100,3030,0,206,0,0,194,8142,6777,29,1340,101,41700,1360,6295,511,68826,5412,1590,781,12156,3156,0,230,10807,1227,5925,0,90676,8044,10770,6163,6203,13827,15299,1547,998,150,650,0,125716,0,3331,2688,1378,2000,4159,129334,3410,437,3724,1950,6598,1091,0,7215,419,0,11100,1570,0,11,208,5050,9741,8256,150,2590,366,1445,1535,258,1045,0,76,450,320,300,261,0,1849,1,11009,4624,1920,9920,26340,7965,20,145,7244,22286,7,231,537,0,1716,3987,16706,6,1]},\"selected\":{\"id\":\"1152\",\"type\":\"Selection\"},\"selection_policy\":{\"id\":\"1151\",\"type\":\"UnionRenderers\"}},\"id\":\"1132\",\"type\":\"ColumnDataSource\"},{\"attributes\":{\"overlay\":{\"id\":\"1150\",\"type\":\"BoxAnnotation\"}},\"id\":\"1121\",\"type\":\"BoxZoomTool\"},{\"attributes\":{\"bottom_units\":\"screen\",\"fill_alpha\":{\"value\":0.5},\"fill_color\":{\"value\":\"lightgrey\"},\"left_units\":\"screen\",\"level\":\"overlay\",\"line_alpha\":{\"value\":1.0},\"line_color\":{\"value\":\"black\"},\"line_dash\":[4,4],\"line_width\":{\"value\":2},\"render_mode\":\"css\",\"right_units\":\"screen\",\"top_units\":\"screen\"},\"id\":\"1150\",\"type\":\"BoxAnnotation\"},{\"attributes\":{\"dimension\":1,\"ticker\":{\"id\":\"1115\",\"type\":\"BasicTicker\"}},\"id\":\"1118\",\"type\":\"Grid\"},{\"attributes\":{\"axis_label\":\"usd_pledged\",\"formatter\":{\"id\":\"1147\",\"type\":\"BasicTickFormatter\"},\"ticker\":{\"id\":\"1115\",\"type\":\"BasicTicker\"}},\"id\":\"1114\",\"type\":\"LinearAxis\"},{\"attributes\":{},\"id\":\"1151\",\"type\":\"UnionRenderers\"}],\"root_ids\":[\"1098\"]},\"title\":\"Bokeh Application\",\"version\":\"1.4.0\"}};\n",
       "  var render_items = [{\"docid\":\"e65cc2fc-0617-4c03-bf8e-abdf68ae3797\",\"roots\":{\"1098\":\"1ad1339e-aad9-4520-8dfa-94eaad2fb9f9\"}}];\n",
       "  root.Bokeh.embed.embed_items_notebook(docs_json, render_items);\n",
       "\n",
       "  }\n",
       "  if (root.Bokeh !== undefined) {\n",
       "    embed_document(root);\n",
       "  } else {\n",
       "    var attempts = 0;\n",
       "    var timer = setInterval(function(root) {\n",
       "      if (root.Bokeh !== undefined) {\n",
       "        clearInterval(timer);\n",
       "        embed_document(root);\n",
       "      } else {\n",
       "        attempts++;\n",
       "        if (attempts > 100) {\n",
       "          clearInterval(timer);\n",
       "          console.log(\"Bokeh: ERROR: Unable to run BokehJS code because BokehJS library is missing\");\n",
       "        }\n",
       "      }\n",
       "    }, 10, root)\n",
       "  }\n",
       "})(window);"
      ],
      "application/vnd.bokehjs_exec.v0+json": ""
     },
     "metadata": {
      "application/vnd.bokehjs_exec.v0+json": {
       "id": "1098"
      }
     },
     "output_type": "display_data"
    }
   ],
   "source": [
    "%%local\n",
    "from bokeh.io import show\n",
    "from bokeh.plotting import figure\n",
    "from bokeh.io import output_notebook\n",
    "output_notebook()\n",
    "p = figure(title = 'usd_pledged x duration')\n",
    "p.xaxis.axis_label = 'duration'\n",
    "p.yaxis.axis_label = 'usd_pledged'\n",
    "\n",
    "p.circle(  list(scatter['duration'])\n",
    "         , list(scatter['usd_pledged'])\n",
    "         , fill_alpha=0.2, size=10)\n",
    "\n",
    "show(p)"
   ]
  },
  {
   "cell_type": "markdown",
   "metadata": {},
   "source": [
    "Interpretation - the outliers are skewing the results again"
   ]
  },
  {
   "cell_type": "markdown",
   "metadata": {},
   "source": [
    "Machine Learning Modeling"
   ]
  },
  {
   "cell_type": "code",
   "execution_count": 46,
   "metadata": {},
   "outputs": [
    {
     "data": {
      "application/vnd.jupyter.widget-view+json": {
       "model_id": "5dbf6f7d209f40c4a02c0e1ec7a899b5",
       "version_major": 2,
       "version_minor": 0
      },
      "text/plain": [
       "VBox()"
      ]
     },
     "metadata": {},
     "output_type": "display_data"
    },
    {
     "data": {
      "application/vnd.jupyter.widget-view+json": {
       "model_id": "",
       "version_major": 2,
       "version_minor": 0
      },
      "text/plain": [
       "FloatProgress(value=0.0, bar_style='info', description='Progress:', layout=Layout(height='25px', width='50%'),…"
      ]
     },
     "metadata": {},
     "output_type": "display_data"
    }
   ],
   "source": [
    "#drop categories we are not interested in for analysis\n",
    "y=[ \"sub_category\", \"currency\", \"launched_at\", \"deadline\", \"city\", \"state\",\"end_month\",\"start_Q\",\"end_Q\",'country']\n",
    "merc_out = merc_out.drop(*y)"
   ]
  },
  {
   "cell_type": "code",
   "execution_count": 47,
   "metadata": {},
   "outputs": [
    {
     "data": {
      "application/vnd.jupyter.widget-view+json": {
       "model_id": "b923ab3fc02546418d2d35d94b718684",
       "version_major": 2,
       "version_minor": 0
      },
      "text/plain": [
       "VBox()"
      ]
     },
     "metadata": {},
     "output_type": "display_data"
    },
    {
     "data": {
      "application/vnd.jupyter.widget-view+json": {
       "model_id": "",
       "version_major": 2,
       "version_minor": 0
      },
      "text/plain": [
       "FloatProgress(value=0.0, bar_style='info', description='Progress:', layout=Layout(height='25px', width='50%'),…"
      ]
     },
     "metadata": {},
     "output_type": "display_data"
    },
    {
     "name": "stdout",
     "output_type": "stream",
     "text": [
      "DataFrame[id: int, name: string, main_category: string, duration: int, goal_usd: int, blurb_length: int, name_length: int, status: string, start_month: int, usd_pledged: double, Status_bool: int]"
     ]
    }
   ],
   "source": [
    "#convert status to boolean\n",
    "from pyspark.sql import functions as Fun\n",
    "df =merc_out.withColumn(\"Status_bool\", Fun.when(Fun.col(\"Status\") == \"failed\", 0).otherwise(1))\n",
    "df"
   ]
  },
  {
   "cell_type": "code",
   "execution_count": 48,
   "metadata": {},
   "outputs": [
    {
     "data": {
      "application/vnd.jupyter.widget-view+json": {
       "model_id": "661d7fb6ab8f4809bc16ae102a78d43e",
       "version_major": 2,
       "version_minor": 0
      },
      "text/plain": [
       "VBox()"
      ]
     },
     "metadata": {},
     "output_type": "display_data"
    },
    {
     "data": {
      "application/vnd.jupyter.widget-view+json": {
       "model_id": "",
       "version_major": 2,
       "version_minor": 0
      },
      "text/plain": [
       "FloatProgress(value=0.0, bar_style='info', description='Progress:', layout=Layout(height='25px', width='50%'),…"
      ]
     },
     "metadata": {},
     "output_type": "display_data"
    },
    {
     "name": "stdout",
     "output_type": "stream",
     "text": [
      "+--------+-------------+-------------------+--------------------------+----------------------------+--------------------------+--------------------+--------------------------+---------------------+---------------------------+---------------------+----------------------+---------------------+----------------------+-----------------------+----------------------+-----------------------+\n",
      "|      id|main_category|e_main_category_art|e_main_category_publishing|e_main_category_film & video|e_main_category_technology|e_main_category_food|e_main_category_journalism|e_main_category_dance|e_main_category_photography|e_main_category_games|e_main_category_crafts|e_main_category_music|e_main_category_comics|e_main_category_theater|e_main_category_design|e_main_category_fashion|\n",
      "+--------+-------------+-------------------+--------------------------+----------------------------+--------------------------+--------------------+--------------------------+---------------------+---------------------------+---------------------+----------------------+---------------------+----------------------+-----------------------+----------------------+-----------------------+\n",
      "| 4173983| film & video|                  0|                         0|                           1|                         0|                   0|                         0|                    0|                          0|                    0|                     0|                    0|                     0|                      0|                     0|                      0|\n",
      "| 5757943|   technology|                  0|                         0|                           0|                         1|                   0|                         0|                    0|                          0|                    0|                     0|                    0|                     0|                      0|                     0|                      0|\n",
      "|10275572|          art|                  1|                         0|                           0|                         0|                   0|                         0|                    0|                          0|                    0|                     0|                    0|                     0|                      0|                     0|                      0|\n",
      "|10378150| film & video|                  0|                         0|                           1|                         0|                   0|                         0|                    0|                          0|                    0|                     0|                    0|                     0|                      0|                     0|                      0|\n",
      "|12974863|      fashion|                  0|                         0|                           0|                         0|                   0|                         0|                    0|                          0|                    0|                     0|                    0|                     0|                      0|                     0|                      1|\n",
      "+--------+-------------+-------------------+--------------------------+----------------------------+--------------------------+--------------------+--------------------------+---------------------+---------------------------+---------------------+----------------------+---------------------+----------------------+-----------------------+----------------------+-----------------------+\n",
      "only showing top 5 rows"
     ]
    }
   ],
   "source": [
    "#convert main_category to dummies \n",
    "#removed country as dummies bc not useful for business question\n",
    "import pyspark.sql.functions as f\n",
    "\n",
    "types = df.select(\"main_category\").distinct().rdd.flatMap(lambda x: x).collect()\n",
    "types_expr = [f.when(f.col(\"main_category\") == ty, 1).otherwise(0).alias(\"e_main_category_\" + ty) for ty in types]\n",
    "dummies_only = df.select(\"id\", \"main_category\", *types_expr)\n",
    "dummies_only.show(5)"
   ]
  },
  {
   "cell_type": "code",
   "execution_count": 49,
   "metadata": {},
   "outputs": [
    {
     "data": {
      "application/vnd.jupyter.widget-view+json": {
       "model_id": "faea2886999d412ba795c9e32486eb13",
       "version_major": 2,
       "version_minor": 0
      },
      "text/plain": [
       "VBox()"
      ]
     },
     "metadata": {},
     "output_type": "display_data"
    },
    {
     "data": {
      "application/vnd.jupyter.widget-view+json": {
       "model_id": "",
       "version_major": 2,
       "version_minor": 0
      },
      "text/plain": [
       "FloatProgress(value=0.0, bar_style='info', description='Progress:', layout=Layout(height='25px', width='50%'),…"
      ]
     },
     "metadata": {},
     "output_type": "display_data"
    },
    {
     "name": "stdout",
     "output_type": "stream",
     "text": [
      "+--------+--------------------+-------------+--------+--------+------------+-----------+----------+-----------+------------+-----------+-------------+-------------------+--------------------------+----------------------------+--------------------------+--------------------+--------------------------+---------------------+---------------------------+---------------------+----------------------+---------------------+----------------------+-----------------------+----------------------+-----------------------+\n",
      "|      id|                name|main_category|duration|goal_usd|blurb_length|name_length|    status|start_month| usd_pledged|Status_bool|main_category|e_main_category_art|e_main_category_publishing|e_main_category_film & video|e_main_category_technology|e_main_category_food|e_main_category_journalism|e_main_category_dance|e_main_category_photography|e_main_category_games|e_main_category_crafts|e_main_category_music|e_main_category_comics|e_main_category_theater|e_main_category_design|e_main_category_fashion|\n",
      "+--------+--------------------+-------------+--------+--------+------------+-----------+----------+-----------+------------+-----------+-------------+-------------------+--------------------------+----------------------------+--------------------------+--------------------+--------------------------+---------------------+---------------------------+---------------------+----------------------+---------------------+----------------------+-----------------------+----------------------+-----------------------+\n",
      "| 4173983|Orison the Polar ...| film & video|      30|  500000|          22|          4|    failed|          6|         0.0|          0| film & video|                  0|                         0|                           1|                         0|                   0|                         0|                    0|                          0|                    0|                     0|                    0|                     0|                      0|                     0|                      0|\n",
      "| 5757943|FIRST Team 1891: ...|   technology|      25|    1500|          21|          9|successful|          1|      1505.0|          1|   technology|                  0|                         0|                           0|                         1|                   0|                         0|                    0|                          0|                    0|                     0|                    0|                     0|                      0|                     0|                      0|\n",
      "|10275572|20 cities | 20 mo...|          art|      30|     394|          22|          6|successful|          7|1331.5118016|          1|          art|                  1|                         0|                           0|                         0|                   0|                         0|                    0|                          0|                    0|                     0|                    0|                     0|                      0|                     0|                      0|\n",
      "|10378150|       Indescribable| film & video|      30|    2500|          21|          1|successful|          9|      2745.0|          1| film & video|                  0|                         0|                           1|                         0|                   0|                         0|                    0|                          0|                    0|                     0|                    0|                     0|                      0|                     0|                      0|\n",
      "|12974863|Build A Bracelet ...|      fashion|      30|     200|          23|          5|    failed|          8|        65.0|          0|      fashion|                  0|                         0|                           0|                         0|                   0|                         0|                    0|                          0|                    0|                     0|                    0|                     0|                      0|                     0|                      1|\n",
      "+--------+--------------------+-------------+--------+--------+------------+-----------+----------+-----------+------------+-----------+-------------+-------------------+--------------------------+----------------------------+--------------------------+--------------------+--------------------------+---------------------+---------------------------+---------------------+----------------------+---------------------+----------------------+-----------------------+----------------------+-----------------------+\n",
      "only showing top 5 rows"
     ]
    }
   ],
   "source": [
    "#join newly made dummies with the rest of the data set\n",
    "df_dummies = df.join(dummies_only, on='id')\n",
    "df_dummies.show(5)"
   ]
  },
  {
   "cell_type": "code",
   "execution_count": 50,
   "metadata": {},
   "outputs": [
    {
     "data": {
      "application/vnd.jupyter.widget-view+json": {
       "model_id": "fae64782bc384097a2f217d758561fcf",
       "version_major": 2,
       "version_minor": 0
      },
      "text/plain": [
       "VBox()"
      ]
     },
     "metadata": {},
     "output_type": "display_data"
    },
    {
     "data": {
      "application/vnd.jupyter.widget-view+json": {
       "model_id": "",
       "version_major": 2,
       "version_minor": 0
      },
      "text/plain": [
       "FloatProgress(value=0.0, bar_style='info', description='Progress:', layout=Layout(height='25px', width='50%'),…"
      ]
     },
     "metadata": {},
     "output_type": "display_data"
    },
    {
     "name": "stdout",
     "output_type": "stream",
     "text": [
      "DataFrame[id: int, name: string, main_category: string, duration: int, goal_usd: int, blurb_length: int, name_length: int, status: string, start_month: int, usd_pledged: double, Status_bool: int, main_category: string, e_main_category_art: int, e_main_category_publishing: int, e_main_category_film & video: int, e_main_category_technology: int, e_main_category_food: int, e_main_category_journalism: int, e_main_category_dance: int, e_main_category_photography: int, e_main_category_games: int, e_main_category_crafts: int, e_main_category_music: int, e_main_category_comics: int, e_main_category_theater: int, e_main_category_design: int, e_main_category_fashion: int]"
     ]
    }
   ],
   "source": [
    "df_dummies"
   ]
  },
  {
   "cell_type": "code",
   "execution_count": 51,
   "metadata": {},
   "outputs": [
    {
     "data": {
      "application/vnd.jupyter.widget-view+json": {
       "model_id": "083e0164c03944e9ad6070ef4ee335ca",
       "version_major": 2,
       "version_minor": 0
      },
      "text/plain": [
       "VBox()"
      ]
     },
     "metadata": {},
     "output_type": "display_data"
    },
    {
     "data": {
      "application/vnd.jupyter.widget-view+json": {
       "model_id": "",
       "version_major": 2,
       "version_minor": 0
      },
      "text/plain": [
       "FloatProgress(value=0.0, bar_style='info', description='Progress:', layout=Layout(height='25px', width='50%'),…"
      ]
     },
     "metadata": {},
     "output_type": "display_data"
    },
    {
     "name": "stdout",
     "output_type": "stream",
     "text": [
      "DataFrame[duration: int, goal_usd: int, blurb_length: int, name_length: int, start_month: int, Status_bool: int, e_main_category_art: int, e_main_category_publishing: int, e_main_category_film & video: int, e_main_category_technology: int, e_main_category_food: int, e_main_category_journalism: int, e_main_category_dance: int, e_main_category_photography: int, e_main_category_games: int, e_main_category_crafts: int, e_main_category_music: int, e_main_category_comics: int, e_main_category_theater: int, e_main_category_design: int, e_main_category_fashion: int]"
     ]
    }
   ],
   "source": [
    "#dropping any repeat and unnecessary columns \n",
    "#removed usd_pledged because it would be highly correlated with status\n",
    "undumb =[ \"main_category\",\"id\",\"name\",'status','usd_pledged']\n",
    "all_dummies = df_dummies.drop(*undumb)\n",
    "all_dummies"
   ]
  },
  {
   "cell_type": "code",
   "execution_count": 52,
   "metadata": {},
   "outputs": [
    {
     "data": {
      "application/vnd.jupyter.widget-view+json": {
       "model_id": "0857956e65ce4bf49e29875b54bf5257",
       "version_major": 2,
       "version_minor": 0
      },
      "text/plain": [
       "VBox()"
      ]
     },
     "metadata": {},
     "output_type": "display_data"
    },
    {
     "data": {
      "application/vnd.jupyter.widget-view+json": {
       "model_id": "",
       "version_major": 2,
       "version_minor": 0
      },
      "text/plain": [
       "FloatProgress(value=0.0, bar_style='info', description='Progress:', layout=Layout(height='25px', width='50%'),…"
      ]
     },
     "metadata": {},
     "output_type": "display_data"
    }
   ],
   "source": [
    "import pyspark.ml.evaluation as ev\n",
    "import pyspark.ml.classification as cl\n",
    "from pyspark.ml import Pipeline"
   ]
  },
  {
   "cell_type": "markdown",
   "metadata": {},
   "source": [
    "Chi-Square Selector"
   ]
  },
  {
   "cell_type": "code",
   "execution_count": 53,
   "metadata": {},
   "outputs": [
    {
     "data": {
      "application/vnd.jupyter.widget-view+json": {
       "model_id": "1a681724c1f34cd2be132f7916f8181f",
       "version_major": 2,
       "version_minor": 0
      },
      "text/plain": [
       "VBox()"
      ]
     },
     "metadata": {},
     "output_type": "display_data"
    },
    {
     "data": {
      "application/vnd.jupyter.widget-view+json": {
       "model_id": "",
       "version_major": 2,
       "version_minor": 0
      },
      "text/plain": [
       "FloatProgress(value=0.0, bar_style='info', description='Progress:', layout=Layout(height='25px', width='50%'),…"
      ]
     },
     "metadata": {},
     "output_type": "display_data"
    },
    {
     "name": "stdout",
     "output_type": "stream",
     "text": [
      "{'ml_attr': {'attrs': {'numeric': [{'idx': 0, 'name': 'duration'}, {'idx': 1, 'name': 'goal_usd'}, {'idx': 2, 'name': 'blurb_length'}, {'idx': 3, 'name': 'name_length'}, {'idx': 4, 'name': 'start_month'}]}, 'num_attrs': 5}}"
     ]
    }
   ],
   "source": [
    "#exclude the label CoverType from features vector\n",
    "vectorAssembler = feat.VectorAssembler(\n",
    "    inputCols=all_dummies.columns[0:5]+all_dummies.columns[6:]\n",
    "    , outputCol='features'\n",
    ")\n",
    "\n",
    "#select top 5 features, store in a new column named selected\n",
    "selector = feat.ChiSqSelector(\n",
    "    labelCol='Status_bool'\n",
    "    , numTopFeatures=5\n",
    "    , outputCol='selected')\n",
    "\n",
    "pipeline_sel = Pipeline(stages=[vectorAssembler, selector])\n",
    "\n",
    "model = (\n",
    "    pipeline_sel\n",
    "    .fit(all_dummies)\n",
    "    .transform(all_dummies)\n",
    ")\n",
    "\n",
    "#print selected features\n",
    "model.schema['selected'].metadata\n",
    "\n",
    "#appears duration, goal_usd, blurb_length, name_length, start_month are the top 5 features"
   ]
  },
  {
   "cell_type": "markdown",
   "metadata": {},
   "source": [
    "Correlation Matrix"
   ]
  },
  {
   "cell_type": "code",
   "execution_count": 66,
   "metadata": {},
   "outputs": [
    {
     "data": {
      "application/vnd.jupyter.widget-view+json": {
       "model_id": "",
       "version_major": 2,
       "version_minor": 0
      },
      "text/plain": [
       "FloatProgress(value=0.0, bar_style='info', description='Progress:', layout=Layout(height='25px', width='50%'),…"
      ]
     },
     "metadata": {},
     "output_type": "display_data"
    },
    {
     "name": "stdout",
     "output_type": "stream",
     "text": [
      "DenseMatrix([[ 1.00000000e+00,  2.58907005e-02,  2.66844688e-02,\n",
      "              -1.78058501e-02,  8.34649910e-03, -1.51837670e-01,\n",
      "              -3.52253682e-02, -1.16168581e-02,  3.04332993e-03,\n",
      "               7.43325702e-02,  3.28554968e-02,  1.36779693e-02,\n",
      "              -1.23599435e-02, -7.89645951e-03, -4.50519975e-02,\n",
      "              -2.67298048e-02,  3.32181144e-02, -2.65767796e-02,\n",
      "              -1.44111197e-02, -5.40698703e-03, -2.19879550e-02],\n",
      "             [ 2.58907005e-02,  1.00000000e+00, -3.55025334e-03,\n",
      "              -5.72843422e-03,  2.74735551e-03, -3.24538606e-02,\n",
      "              -2.45637289e-03, -9.24015577e-03,  2.45874042e-02,\n",
      "               9.14446282e-03,  2.28863371e-03,  2.23705811e-03,\n",
      "              -4.18694463e-03, -4.77470935e-03, -1.11955670e-03,\n",
      "              -5.34359533e-03, -1.13435057e-02, -6.13926954e-03,\n",
      "              -7.68885139e-04,  1.98280732e-03, -5.47994198e-03],\n",
      "             [ 2.66844688e-02, -3.55025334e-03,  1.00000000e+00,\n",
      "               1.37295642e-01, -3.24849683e-02, -1.84141886e-02,\n",
      "              -1.84862843e-02,  1.27390382e-02,  3.71718261e-02,\n",
      "              -2.31712319e-02,  1.17089260e-02,  9.59018149e-03,\n",
      "               5.22029820e-03,  5.84078743e-05, -2.36090911e-02,\n",
      "              -1.93925979e-02,  4.94181122e-02,  1.51634417e-02,\n",
      "               1.86082253e-02, -4.50979670e-02, -6.74896593e-02],\n",
      "             [-1.78058501e-02, -5.72843422e-03,  1.37295642e-01,\n",
      "               1.00000000e+00,  1.10320333e-02,  1.43387978e-01,\n",
      "              -1.06995652e-02,  4.82545541e-02, -1.09038735e-01,\n",
      "               5.00046544e-02, -2.74694720e-02, -2.67619777e-02,\n",
      "              -3.73066810e-03, -1.61697503e-02, -2.16625085e-02,\n",
      "              -2.64887514e-02,  6.32358799e-02,  4.52685278e-03,\n",
      "               6.82910024e-04,  3.28383304e-02,  3.03945073e-02],\n",
      "             [ 8.34649910e-03,  2.74735551e-03, -3.24849683e-02,\n",
      "               1.10320333e-02,  1.00000000e+00, -7.78495481e-03,\n",
      "              -1.40102503e-02,  6.48557659e-03, -1.05686679e-02,\n",
      "               1.74269678e-02, -1.16065602e-03, -5.25420995e-05,\n",
      "              -1.08084591e-02, -2.43152180e-03,  1.38728144e-02,\n",
      "               4.06294093e-04, -1.33409632e-02, -8.74032626e-04,\n",
      "              -1.51205027e-02,  1.05911032e-02,  2.15518730e-02],\n",
      "             [-1.51837670e-01, -3.24538606e-02, -1.84141886e-02,\n",
      "               1.43387978e-01, -7.78495481e-03,  1.00000000e+00,\n",
      "               9.17425361e-03,  9.66868712e-02,  2.00490380e-02,\n",
      "              -1.39173943e-01, -1.56674196e-01, -7.45946631e-02,\n",
      "               6.35120188e-02, -5.43000915e-02,  2.79528575e-02,\n",
      "              -4.78384792e-02,  9.27561899e-02,  9.36965686e-02,\n",
      "               2.89202345e-02,  2.46573655e-02,  9.28959498e-04],\n",
      "             [-3.52253682e-02, -2.45637289e-03, -1.84862843e-02,\n",
      "              -1.06995652e-02, -1.40102503e-02,  9.17425361e-03,\n",
      "               1.00000000e+00, -1.15295700e-01, -1.39810808e-01,\n",
      "              -1.18512319e-01, -1.00801417e-01, -5.11970938e-02,\n",
      "              -4.65355706e-02, -6.42602111e-02, -9.01125431e-02,\n",
      "              -6.29686190e-02, -1.42090309e-01, -6.79178606e-02,\n",
      "              -5.80793560e-02, -6.55412606e-02, -8.12274247e-02],\n",
      "             [-1.16168581e-02, -9.24015577e-03,  1.27390382e-02,\n",
      "               4.82545541e-02,  6.48557659e-03,  9.66868712e-02,\n",
      "              -1.15295700e-01,  1.00000000e+00, -1.35735144e-01,\n",
      "              -1.15057533e-01, -9.78629273e-02, -4.97046332e-02,\n",
      "              -4.51789993e-02, -6.23869439e-02, -8.74856474e-02,\n",
      "              -6.11330033e-02, -1.37948196e-01, -6.59379683e-02,\n",
      "              -5.63862687e-02, -6.36306492e-02, -7.88595416e-02],\n",
      "             [ 3.04332993e-03,  2.45874042e-02,  3.71718261e-02,\n",
      "              -1.09038735e-01, -1.05686679e-02,  2.00490380e-02,\n",
      "              -1.39810808e-01, -1.35735144e-01,  1.00000000e+00,\n",
      "              -1.39522000e-01, -1.18671337e-01, -6.02732356e-02,\n",
      "              -5.47853247e-02, -7.56521622e-02, -1.06087556e-01,\n",
      "              -7.41315986e-02, -1.67279860e-01, -7.99582342e-02,\n",
      "              -6.83755747e-02, -7.71603141e-02, -9.56272973e-02],\n",
      "             [ 7.43325702e-02,  9.14446282e-03, -2.31712319e-02,\n",
      "               5.00046544e-02,  1.74269678e-02, -1.39173943e-01,\n",
      "              -1.18512319e-01, -1.15057533e-01, -1.39522000e-01,\n",
      "               1.00000000e+00, -1.00593191e-01, -5.10913358e-02,\n",
      "              -4.64394418e-02, -6.41274685e-02, -8.99263973e-02,\n",
      "              -6.28385444e-02, -1.41796793e-01, -6.77775625e-02,\n",
      "              -5.79593813e-02, -6.54058717e-02, -8.10596329e-02],\n",
      "             [ 3.28554968e-02,  2.28863371e-03,  1.17089260e-02,\n",
      "              -2.74694720e-02, -1.16065602e-03, -1.56674196e-01,\n",
      "              -1.00801417e-01, -9.78629273e-02, -1.18671337e-01,\n",
      "              -1.00593191e-01,  1.00000000e+00, -4.34560652e-02,\n",
      "              -3.94993668e-02, -5.45440321e-02, -7.64874773e-02,\n",
      "              -5.34477293e-02, -1.20606177e-01, -5.76486430e-02,\n",
      "              -4.92977257e-02, -5.56313862e-02, -6.89457937e-02],\n",
      "             [ 1.36779693e-02,  2.23705811e-03,  9.59018149e-03,\n",
      "              -2.67619777e-02, -5.25420995e-05, -7.45946631e-02,\n",
      "              -5.11970938e-02, -4.97046332e-02, -6.02732356e-02,\n",
      "              -5.10913358e-02, -4.34560652e-02,  1.00000000e+00,\n",
      "              -2.00617496e-02, -2.77029431e-02, -3.88480307e-02,\n",
      "              -2.71461304e-02, -6.12559419e-02, -2.92797766e-02,\n",
      "              -2.50383413e-02, -2.82552108e-02, -3.50176055e-02],\n",
      "             [-1.23599435e-02, -4.18694463e-03,  5.22029820e-03,\n",
      "              -3.73066810e-03, -1.08084591e-02,  6.35120188e-02,\n",
      "              -4.65355706e-02, -4.51789993e-02, -5.47853247e-02,\n",
      "              -4.64394418e-02, -3.94993668e-02, -2.00617496e-02,\n",
      "               1.00000000e+00, -2.51805750e-02, -3.53108963e-02,\n",
      "              -2.46744604e-02, -5.56785550e-02, -2.66138370e-02,\n",
      "              -2.27585867e-02, -2.56825585e-02, -3.18292335e-02],\n",
      "             [-7.89645951e-03, -4.77470935e-03,  5.84078743e-05,\n",
      "              -1.61697503e-02, -2.43152180e-03, -5.43000915e-02,\n",
      "              -6.42602111e-02, -6.23869439e-02, -7.56521622e-02,\n",
      "              -6.41274685e-02, -5.45440321e-02, -2.77029431e-02,\n",
      "              -2.51805750e-02,  1.00000000e+00, -4.87602414e-02,\n",
      "              -3.40725603e-02, -7.68856094e-02, -3.67506139e-02,\n",
      "              -3.14269615e-02, -3.54646265e-02, -4.39524699e-02],\n",
      "             [-4.50519975e-02, -1.11955670e-03, -2.36090911e-02,\n",
      "              -2.16625085e-02,  1.38728144e-02,  2.79528575e-02,\n",
      "              -9.01125431e-02, -8.74856474e-02, -1.06087556e-01,\n",
      "              -8.99263973e-02, -7.64874773e-02, -3.88480307e-02,\n",
      "              -3.53108963e-02, -4.87602414e-02,  1.00000000e+00,\n",
      "              -4.77801894e-02, -1.07817227e-01, -5.15356427e-02,\n",
      "              -4.40702477e-02, -4.97322936e-02, -6.16348557e-02],\n",
      "             [-2.67298048e-02, -5.34359533e-03, -1.93925979e-02,\n",
      "              -2.64887514e-02,  4.06294093e-04, -4.78384792e-02,\n",
      "              -6.29686190e-02, -6.11330033e-02, -7.41315986e-02,\n",
      "              -6.28385444e-02, -5.34477293e-02, -2.71461304e-02,\n",
      "              -2.46744604e-02, -3.40725603e-02, -4.77801894e-02,\n",
      "               1.00000000e+00, -7.53402542e-02, -3.60119483e-02,\n",
      "              -3.07952982e-02, -3.47518086e-02, -4.30690513e-02],\n",
      "             [ 3.32181144e-02, -1.13435057e-02,  4.94181122e-02,\n",
      "               6.32358799e-02, -1.33409632e-02,  9.27561899e-02,\n",
      "              -1.42090309e-01, -1.37948196e-01, -1.67279860e-01,\n",
      "              -1.41796793e-01, -1.20606177e-01, -6.12559419e-02,\n",
      "              -5.56785550e-02, -7.68856094e-02, -1.07817227e-01,\n",
      "              -7.53402542e-02,  1.00000000e+00, -8.12618884e-02,\n",
      "              -6.94903830e-02, -7.84183505e-02, -9.71864228e-02],\n",
      "             [-2.65767796e-02, -6.13926954e-03,  1.51634417e-02,\n",
      "               4.52685278e-03, -8.74032626e-04,  9.36965686e-02,\n",
      "              -6.79178606e-02, -6.59379683e-02, -7.99582342e-02,\n",
      "              -6.77775625e-02, -5.76486430e-02, -2.92797766e-02,\n",
      "              -2.66138370e-02, -3.67506139e-02, -5.15356427e-02,\n",
      "              -3.60119483e-02, -8.12618884e-02,  1.00000000e+00,\n",
      "              -3.32157637e-02, -3.74832501e-02, -4.64542160e-02],\n",
      "             [-1.44111197e-02, -7.68885139e-04,  1.86082253e-02,\n",
      "               6.82910024e-04, -1.51205027e-02,  2.89202345e-02,\n",
      "              -5.80793560e-02, -5.63862687e-02, -6.83755747e-02,\n",
      "              -5.79593813e-02, -4.92977257e-02, -2.50383413e-02,\n",
      "              -2.27585867e-02, -3.14269615e-02, -4.40702477e-02,\n",
      "              -3.07952982e-02, -6.94903830e-02, -3.32157637e-02,\n",
      "               1.00000000e+00, -3.20534688e-02, -3.97249107e-02],\n",
      "             [-5.40698703e-03,  1.98280732e-03, -4.50979670e-02,\n",
      "               3.28383304e-02,  1.05911032e-02,  2.46573655e-02,\n",
      "              -6.55412606e-02, -6.36306492e-02, -7.71603141e-02,\n",
      "              -6.54058717e-02, -5.56313862e-02, -2.82552108e-02,\n",
      "              -2.56825585e-02, -3.54646265e-02, -4.97322936e-02,\n",
      "              -3.47518086e-02, -7.84183505e-02, -3.74832501e-02,\n",
      "              -3.20534688e-02,  1.00000000e+00, -4.48286775e-02],\n",
      "             [-2.19879550e-02, -5.47994198e-03, -6.74896593e-02,\n",
      "               3.03945073e-02,  2.15518730e-02,  9.28959498e-04,\n",
      "              -8.12274247e-02, -7.88595416e-02, -9.56272973e-02,\n",
      "              -8.10596329e-02, -6.89457937e-02, -3.50176055e-02,\n",
      "              -3.18292335e-02, -4.39524699e-02, -6.16348557e-02,\n",
      "              -4.30690513e-02, -9.71864228e-02, -4.64542160e-02,\n",
      "              -3.97249107e-02, -4.48286775e-02,  1.00000000e+00]])"
     ]
    },
    {
     "data": {
      "application/vnd.jupyter.widget-view+json": {
       "model_id": "",
       "version_major": 2,
       "version_minor": 0
      },
      "text/plain": [
       "FloatProgress(value=0.0, bar_style='info', description='Progress:', layout=Layout(height='25px', width='50%'),…"
      ]
     },
     "metadata": {},
     "output_type": "display_data"
    }
   ],
   "source": [
    "%%spark -o corr\n",
    "import pyspark.ml.stat as st\n",
    "\n",
    "features_and_label = feat.VectorAssembler(\n",
    "    inputCols=all_dummies.columns\n",
    "    , outputCol='features'\n",
    ")\n",
    "\n",
    "corr = st.Correlation.corr(\n",
    "    features_and_label.transform(all_dummies), \n",
    "    'features', \n",
    "    'pearson'\n",
    ")\n",
    "\n",
    "print(str(corr.collect()[0][0]))"
   ]
  },
  {
   "cell_type": "code",
   "execution_count": 67,
   "metadata": {},
   "outputs": [],
   "source": [
    "%%local\n",
    "#this cell exports the correlation matrix to csv\n",
    "import numpy as np\n",
    "import pandas as pd\n",
    "output_np = np.array(corr.iloc[0, 0]['values']).reshape(\n",
    "    (corr.iloc[0, 0]['numRows'], corr.iloc[0, 0]['numCols']))\n",
    "pd.DataFrame(output_np).to_csv('kick_corr.csv')\n",
    "#overall not strong correlation, all less than 0.2\n",
    "#small correlation, (duration vs. status), (status vs food ctegory), (film category vs. music)"
   ]
  },
  {
   "cell_type": "code",
   "execution_count": 68,
   "metadata": {},
   "outputs": [
    {
     "data": {
      "application/vnd.jupyter.widget-view+json": {
       "model_id": "de78cde5b1474f0ba03f6c17051d76cb",
       "version_major": 2,
       "version_minor": 0
      },
      "text/plain": [
       "VBox()"
      ]
     },
     "metadata": {},
     "output_type": "display_data"
    },
    {
     "data": {
      "application/vnd.jupyter.widget-view+json": {
       "model_id": "",
       "version_major": 2,
       "version_minor": 0
      },
      "text/plain": [
       "FloatProgress(value=0.0, bar_style='info', description='Progress:', layout=Layout(height='25px', width='50%'),…"
      ]
     },
     "metadata": {},
     "output_type": "display_data"
    },
    {
     "name": "stdout",
     "output_type": "stream",
     "text": [
      "array(['Status_bool', 'e_main_category_technology',\n",
      "       'e_main_category_games', 'e_main_category_art',\n",
      "       'e_main_category_music', 'e_main_category_food',\n",
      "       'e_main_category_crafts', 'blurb_length', 'e_main_category_comics',\n",
      "       'goal_usd'], dtype='<U28')"
     ]
    }
   ],
   "source": [
    "#print the 10 selected features\n",
    "num_of_features = 10\n",
    "cols = dict([\n",
    "    (i, e) \n",
    "    for i, e \n",
    "    in enumerate(all_dummies.columns)\n",
    "])\n",
    "\n",
    "corr_matrix = corr.collect()[0][0]\n",
    "label_corr_with_idx = [\n",
    "    (i[0], e) \n",
    "    for i, e \n",
    "    in np.ndenumerate(corr_matrix.toArray()[:,0])\n",
    "][1:]\n",
    "\n",
    "label_corr_with_idx_sorted = sorted(\n",
    "    label_corr_with_idx\n",
    "    , key=lambda el: -abs(el[1])\n",
    ")\n",
    "\n",
    "features_selected = np.array([\n",
    "    cols[el[0]] \n",
    "    for el \n",
    "    in label_corr_with_idx_sorted\n",
    "])[0:num_of_features]\n",
    "\n",
    "features_selected"
   ]
  },
  {
   "cell_type": "markdown",
   "metadata": {},
   "source": [
    "Logistic Regression"
   ]
  },
  {
   "cell_type": "code",
   "execution_count": 57,
   "metadata": {},
   "outputs": [
    {
     "data": {
      "application/vnd.jupyter.widget-view+json": {
       "model_id": "d61a3ba736114b159bfebac051537eb2",
       "version_major": 2,
       "version_minor": 0
      },
      "text/plain": [
       "VBox()"
      ]
     },
     "metadata": {},
     "output_type": "display_data"
    },
    {
     "data": {
      "application/vnd.jupyter.widget-view+json": {
       "model_id": "",
       "version_major": 2,
       "version_minor": 0
      },
      "text/plain": [
       "FloatProgress(value=0.0, bar_style='info', description='Progress:', layout=Layout(height='25px', width='50%'),…"
      ]
     },
     "metadata": {},
     "output_type": "display_data"
    }
   ],
   "source": [
    "#split into train and test sets\n",
    "kick_train, kick_test = (\n",
    "    all_dummies\n",
    "    .randomSplit([0.7, 0.3], seed=666)\n",
    ")\n",
    "\n",
    "#convert all features ti vector except for last column\n",
    "vectorAssembler = feat.VectorAssembler(\n",
    "    inputCols=all_dummies.columns[0:-1]\n",
    "\n",
    "    , outputCol='features'\n",
    ")\n",
    "\n",
    "#select top 5 predictors\n",
    "selector = feat.ChiSqSelector(\n",
    "    labelCol='Status_bool'\n",
    "    , numTopFeatures=5\n",
    "    , outputCol='selected'\n",
    ")\n",
    "\n",
    "#create a multinomial regression object\n",
    "#DV has 7 classes\n",
    "logReg_obj = cl.LogisticRegression(\n",
    "    labelCol='Status_bool'\n",
    "    , featuresCol=selector.getOutputCol()\n",
    "    , regParam=0.01\n",
    "    , elasticNetParam=1.0\n",
    ")\n",
    "\n",
    "#create pipeline of 1)vector, 2)chisquare selector, 3)logistic regression\n",
    "pipeline = Pipeline(\n",
    "    stages=[\n",
    "        vectorAssembler\n",
    "        , selector\n",
    "        , logReg_obj\n",
    "    ])\n",
    "#train the model\n",
    "pModel = pipeline.fit(kick_train) "
   ]
  },
  {
   "cell_type": "code",
   "execution_count": 58,
   "metadata": {},
   "outputs": [
    {
     "data": {
      "application/vnd.jupyter.widget-view+json": {
       "model_id": "8d9dfa925b6b4b62abba543c8be14784",
       "version_major": 2,
       "version_minor": 0
      },
      "text/plain": [
       "VBox()"
      ]
     },
     "metadata": {},
     "output_type": "display_data"
    },
    {
     "data": {
      "application/vnd.jupyter.widget-view+json": {
       "model_id": "",
       "version_major": 2,
       "version_minor": 0
      },
      "text/plain": [
       "FloatProgress(value=0.0, bar_style='info', description='Progress:', layout=Layout(height='25px', width='50%'),…"
      ]
     },
     "metadata": {},
     "output_type": "display_data"
    },
    {
     "name": "stdout",
     "output_type": "stream",
     "text": [
      "(0.572453761922425, 0.6047435754119233, 0.6050866960282506)"
     ]
    }
   ],
   "source": [
    "results_logReg = (\n",
    "    pModel\n",
    "    .transform(kick_test)\n",
    "   \n",
    ")\n",
    "a=results_logReg.select('Status_bool', 'probability', 'prediction')\n",
    "#evaluate performance of the multinomial model\n",
    "evaluator = ev.MulticlassClassificationEvaluator(\n",
    "    predictionCol='prediction'\n",
    "    , labelCol='Status_bool')\n",
    "\n",
    "(\n",
    "    #F-1 score\n",
    "    evaluator.evaluate(a)\n",
    "    #weighted precision\n",
    "    , evaluator.evaluate(\n",
    "       a\n",
    "        , {evaluator.metricName: 'weightedPrecision'}\n",
    "    ) \n",
    "    #accuracy\n",
    "    , evaluator.evaluate(\n",
    "        a\n",
    "        , {evaluator.metricName: 'accuracy'}\n",
    "    )\n",
    ")\n",
    "#output changed again"
   ]
  },
  {
   "cell_type": "code",
   "execution_count": 59,
   "metadata": {},
   "outputs": [
    {
     "data": {
      "application/vnd.jupyter.widget-view+json": {
       "model_id": "1f363aa0435047b3bb39c263655468f4",
       "version_major": 2,
       "version_minor": 0
      },
      "text/plain": [
       "VBox()"
      ]
     },
     "metadata": {},
     "output_type": "display_data"
    },
    {
     "data": {
      "application/vnd.jupyter.widget-view+json": {
       "model_id": "",
       "version_major": 2,
       "version_minor": 0
      },
      "text/plain": [
       "FloatProgress(value=0.0, bar_style='info', description='Progress:', layout=Layout(height='25px', width='50%'),…"
      ]
     },
     "metadata": {},
     "output_type": "display_data"
    },
    {
     "name": "stdout",
     "output_type": "stream",
     "text": [
      "DenseVector([-0.0227, -0.0, -0.0046, 0.0922, 0.0])"
     ]
    }
   ],
   "source": [
    "pModel.stages[-1].coefficients"
   ]
  },
  {
   "cell_type": "code",
   "execution_count": 60,
   "metadata": {},
   "outputs": [
    {
     "data": {
      "application/vnd.jupyter.widget-view+json": {
       "model_id": "e4772e8f559249449588460f48658e32",
       "version_major": 2,
       "version_minor": 0
      },
      "text/plain": [
       "VBox()"
      ]
     },
     "metadata": {},
     "output_type": "display_data"
    },
    {
     "data": {
      "application/vnd.jupyter.widget-view+json": {
       "model_id": "",
       "version_major": 2,
       "version_minor": 0
      },
      "text/plain": [
       "FloatProgress(value=0.0, bar_style='info', description='Progress:', layout=Layout(height='25px', width='50%'),…"
      ]
     },
     "metadata": {},
     "output_type": "display_data"
    },
    {
     "name": "stdout",
     "output_type": "stream",
     "text": [
      "{'ml_attr': {'attrs': {'numeric': [{'idx': 0, 'name': 'duration'}, {'idx': 1, 'name': 'goal_usd'}, {'idx': 2, 'name': 'blurb_length'}, {'idx': 3, 'name': 'name_length'}, {'idx': 4, 'name': 'start_month'}]}, 'num_attrs': 5}}"
     ]
    }
   ],
   "source": [
    "results_logReg.schema['selected'].metadata"
   ]
  },
  {
   "cell_type": "code",
   "execution_count": 61,
   "metadata": {},
   "outputs": [
    {
     "data": {
      "application/vnd.jupyter.widget-view+json": {
       "model_id": "a4d0047ea2004d078fbb3e8d867944a6",
       "version_major": 2,
       "version_minor": 0
      },
      "text/plain": [
       "VBox()"
      ]
     },
     "metadata": {},
     "output_type": "display_data"
    },
    {
     "data": {
      "application/vnd.jupyter.widget-view+json": {
       "model_id": "",
       "version_major": 2,
       "version_minor": 0
      },
      "text/plain": [
       "FloatProgress(value=0.0, bar_style='info', description='Progress:', layout=Layout(height='25px', width='50%'),…"
      ]
     },
     "metadata": {},
     "output_type": "display_data"
    },
    {
     "name": "stdout",
     "output_type": "stream",
     "text": [
      "[Row(duration=7, goal_usd=200, blurb_length=22, name_length=3, start_month=3, Status_bool=1, e_main_category_art=0, e_main_category_publishing=0, e_main_category_film & video=1, e_main_category_technology=0, e_main_category_food=0, e_main_category_journalism=0, e_main_category_dance=0, e_main_category_photography=0, e_main_category_games=0, e_main_category_crafts=0, e_main_category_music=0, e_main_category_comics=0, e_main_category_theater=0, e_main_category_design=0, e_main_category_fashion=0, features=SparseVector(20, {0: 7.0, 1: 200.0, 2: 22.0, 3: 3.0, 4: 3.0, 5: 1.0, 8: 1.0}), selected=SparseVector(5, {0: 7.0, 1: 200.0, 2: 22.0, 3: 3.0, 4: 3.0}), rawPrediction=DenseVector([-0.5658, 0.5658]), probability=DenseVector([0.3622, 0.6378]), prediction=1.0), Row(duration=10, goal_usd=5000, blurb_length=15, name_length=5, start_month=5, Status_bool=0, e_main_category_art=1, e_main_category_publishing=0, e_main_category_film & video=0, e_main_category_technology=0, e_main_category_food=0, e_main_category_journalism=0, e_main_category_dance=0, e_main_category_photography=0, e_main_category_games=0, e_main_category_crafts=0, e_main_category_music=0, e_main_category_comics=0, e_main_category_theater=0, e_main_category_design=0, e_main_category_fashion=0, features=SparseVector(20, {0: 10.0, 1: 5000.0, 2: 15.0, 3: 5.0, 4: 5.0, 6: 1.0}), selected=SparseVector(5, {0: 10.0, 1: 5000.0, 2: 15.0, 3: 5.0, 4: 5.0}), rawPrediction=DenseVector([-0.7144, 0.7144]), probability=DenseVector([0.3286, 0.6714]), prediction=1.0), Row(duration=11, goal_usd=6200, blurb_length=22, name_length=7, start_month=2, Status_bool=1, e_main_category_art=0, e_main_category_publishing=0, e_main_category_film & video=0, e_main_category_technology=0, e_main_category_food=0, e_main_category_journalism=0, e_main_category_dance=0, e_main_category_photography=0, e_main_category_games=0, e_main_category_crafts=0, e_main_category_music=1, e_main_category_comics=0, e_main_category_theater=0, e_main_category_design=0, e_main_category_fashion=0, features=SparseVector(20, {0: 11.0, 1: 6200.0, 2: 22.0, 3: 7.0, 4: 2.0, 5: 1.0, 16: 1.0}), selected=SparseVector(5, {0: 11.0, 1: 6200.0, 2: 22.0, 3: 7.0, 4: 2.0}), rawPrediction=DenseVector([-0.8435, 0.8435]), probability=DenseVector([0.3008, 0.6992]), prediction=1.0), Row(duration=12, goal_usd=500, blurb_length=20, name_length=6, start_month=5, Status_bool=1, e_main_category_art=1, e_main_category_publishing=0, e_main_category_film & video=0, e_main_category_technology=0, e_main_category_food=0, e_main_category_journalism=0, e_main_category_dance=0, e_main_category_photography=0, e_main_category_games=0, e_main_category_crafts=0, e_main_category_music=0, e_main_category_comics=0, e_main_category_theater=0, e_main_category_design=0, e_main_category_fashion=0, features=SparseVector(20, {0: 12.0, 1: 500.0, 2: 20.0, 3: 6.0, 4: 5.0, 5: 1.0, 6: 1.0}), selected=SparseVector(5, {0: 12.0, 1: 500.0, 2: 20.0, 3: 6.0, 4: 5.0}), rawPrediction=DenseVector([-0.7379, 0.7379]), probability=DenseVector([0.3235, 0.6765]), prediction=1.0), Row(duration=15, goal_usd=151, blurb_length=23, name_length=5, start_month=1, Status_bool=0, e_main_category_art=0, e_main_category_publishing=0, e_main_category_film & video=0, e_main_category_technology=0, e_main_category_food=0, e_main_category_journalism=0, e_main_category_dance=0, e_main_category_photography=0, e_main_category_games=0, e_main_category_crafts=0, e_main_category_music=0, e_main_category_comics=0, e_main_category_theater=0, e_main_category_design=0, e_main_category_fashion=1, features=SparseVector(20, {0: 15.0, 1: 151.0, 2: 23.0, 3: 5.0, 4: 1.0}), selected=SparseVector(5, {0: 15.0, 1: 151.0, 2: 23.0, 3: 5.0, 4: 1.0}), rawPrediction=DenseVector([-0.5636, 0.5636]), probability=DenseVector([0.3627, 0.6373]), prediction=1.0)]"
     ]
    }
   ],
   "source": [
    "results_logReg.head(5)"
   ]
  },
  {
   "cell_type": "markdown",
   "metadata": {},
   "source": [
    "Random Forest Classifer"
   ]
  },
  {
   "cell_type": "code",
   "execution_count": 62,
   "metadata": {},
   "outputs": [
    {
     "data": {
      "application/vnd.jupyter.widget-view+json": {
       "model_id": "6404b8e86a29434ea0395c32c3a95270",
       "version_major": 2,
       "version_minor": 0
      },
      "text/plain": [
       "VBox()"
      ]
     },
     "metadata": {},
     "output_type": "display_data"
    },
    {
     "data": {
      "application/vnd.jupyter.widget-view+json": {
       "model_id": "",
       "version_major": 2,
       "version_minor": 0
      },
      "text/plain": [
       "FloatProgress(value=0.0, bar_style='info', description='Progress:', layout=Layout(height='25px', width='50%'),…"
      ]
     },
     "metadata": {},
     "output_type": "display_data"
    },
    {
     "name": "stdout",
     "output_type": "stream",
     "text": [
      "(0.6299876857983263, 0.6550679611864505, 0.6498631115343412)"
     ]
    }
   ],
   "source": [
    "rf_obj = cl.RandomForestClassifier(\n",
    "    labelCol='Status_bool'\n",
    "    , featuresCol=selector.getOutputCol()\n",
    "    , minInstancesPerNode=10\n",
    "    , numTrees=10\n",
    ")\n",
    "\n",
    "pipeline = Pipeline(\n",
    "    stages=[vectorAssembler, selector, rf_obj]\n",
    ")\n",
    "\n",
    "pModel2 = pipeline.fit(kick_train)\n",
    "\n",
    "results_rf = (\n",
    "    pModel2\n",
    "    .transform(kick_test)\n",
    ")\n",
    "a=results_rf.select('Status_bool', 'probability', 'prediction')\n",
    "evaluator = ev.MulticlassClassificationEvaluator(\n",
    "    predictionCol='prediction'\n",
    "    , labelCol='Status_bool')\n",
    "\n",
    "(\n",
    "    evaluator.evaluate(a)\n",
    "    , evaluator.evaluate(\n",
    "        a\n",
    "        , {evaluator.metricName: 'weightedPrecision'}\n",
    "    )\n",
    "    , evaluator.evaluate(\n",
    "        a\n",
    "        , {evaluator.metricName: 'accuracy'}\n",
    "    )\n",
    ")"
   ]
  },
  {
   "cell_type": "code",
   "execution_count": 63,
   "metadata": {},
   "outputs": [
    {
     "data": {
      "application/vnd.jupyter.widget-view+json": {
       "model_id": "93ff0cbc5c5d4503b0860c7e15d16e5c",
       "version_major": 2,
       "version_minor": 0
      },
      "text/plain": [
       "VBox()"
      ]
     },
     "metadata": {},
     "output_type": "display_data"
    },
    {
     "data": {
      "application/vnd.jupyter.widget-view+json": {
       "model_id": "",
       "version_major": 2,
       "version_minor": 0
      },
      "text/plain": [
       "FloatProgress(value=0.0, bar_style='info', description='Progress:', layout=Layout(height='25px', width='50%'),…"
      ]
     },
     "metadata": {},
     "output_type": "display_data"
    },
    {
     "name": "stdout",
     "output_type": "stream",
     "text": [
      "{'ml_attr': {'attrs': {'numeric': [{'idx': 0, 'name': 'duration'}, {'idx': 1, 'name': 'goal_usd'}, {'idx': 2, 'name': 'blurb_length'}, {'idx': 3, 'name': 'name_length'}, {'idx': 4, 'name': 'start_month'}]}, 'num_attrs': 5}}"
     ]
    }
   ],
   "source": [
    "#print selected features\n",
    "results_rf.schema['selected'].metadata"
   ]
  },
  {
   "cell_type": "code",
   "execution_count": 64,
   "metadata": {},
   "outputs": [
    {
     "data": {
      "application/vnd.jupyter.widget-view+json": {
       "model_id": "0893671b99c3464b8189a4539bdb6daa",
       "version_major": 2,
       "version_minor": 0
      },
      "text/plain": [
       "VBox()"
      ]
     },
     "metadata": {},
     "output_type": "display_data"
    },
    {
     "data": {
      "application/vnd.jupyter.widget-view+json": {
       "model_id": "",
       "version_major": 2,
       "version_minor": 0
      },
      "text/plain": [
       "FloatProgress(value=0.0, bar_style='info', description='Progress:', layout=Layout(height='25px', width='50%'),…"
      ]
     },
     "metadata": {},
     "output_type": "display_data"
    },
    {
     "name": "stdout",
     "output_type": "stream",
     "text": [
      "[Row(Status_bool=1, probability=DenseVector([0.3525, 0.6475]), prediction=1.0), Row(Status_bool=0, probability=DenseVector([0.3495, 0.6505]), prediction=1.0), Row(Status_bool=1, probability=DenseVector([0.3495, 0.6505]), prediction=1.0), Row(Status_bool=1, probability=DenseVector([0.3127, 0.6873]), prediction=1.0), Row(Status_bool=0, probability=DenseVector([0.3127, 0.6873]), prediction=1.0)]"
     ]
    }
   ],
   "source": [
    "a.head(5)"
   ]
  },
  {
   "cell_type": "code",
   "execution_count": 65,
   "metadata": {},
   "outputs": [
    {
     "data": {
      "application/vnd.jupyter.widget-view+json": {
       "model_id": "801322066cbd465d939f7b07f4d3c7dd",
       "version_major": 2,
       "version_minor": 0
      },
      "text/plain": [
       "VBox()"
      ]
     },
     "metadata": {},
     "output_type": "display_data"
    },
    {
     "data": {
      "application/vnd.jupyter.widget-view+json": {
       "model_id": "",
       "version_major": 2,
       "version_minor": 0
      },
      "text/plain": [
       "FloatProgress(value=0.0, bar_style='info', description='Progress:', layout=Layout(height='25px', width='50%'),…"
      ]
     },
     "metadata": {},
     "output_type": "display_data"
    },
    {
     "name": "stdout",
     "output_type": "stream",
     "text": [
      "+-----------+--------------------+----------+\n",
      "|Status_bool|         probability|prediction|\n",
      "+-----------+--------------------+----------+\n",
      "|          1|[0.35249658268508...|       1.0|\n",
      "|          0|[0.34947561322617...|       1.0|\n",
      "|          1|[0.34947561322617...|       1.0|\n",
      "|          1|[0.31274830087956...|       1.0|\n",
      "|          0|[0.31274830087956...|       1.0|\n",
      "+-----------+--------------------+----------+\n",
      "only showing top 5 rows"
     ]
    }
   ],
   "source": [
    "a.show(5)\n",
    "#unexpecting probability"
   ]
  }
 ],
 "metadata": {
  "celltoolbar": "Raw Cell Format",
  "kernelspec": {
   "display_name": "PySpark",
   "language": "",
   "name": "pysparkkernel"
  },
  "language_info": {
   "codemirror_mode": {
    "name": "python",
    "version": 2
   },
   "mimetype": "text/x-python",
   "name": "pyspark",
   "pygments_lexer": "python2"
  }
 },
 "nbformat": 4,
 "nbformat_minor": 4
}
